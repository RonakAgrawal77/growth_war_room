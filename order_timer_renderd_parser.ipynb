{
 "cells": [
  {
   "cell_type": "code",
   "execution_count": 2,
   "metadata": {},
   "outputs": [
    {
     "name": "stderr",
     "output_type": "stream",
     "text": [
      "/home/ronak/anaconda3/envs/customer_v1/lib/python3.7/site-packages/tqdm/std.py:658: FutureWarning: The Panel class is removed from pandas. Accessing it from the top-level namespace will also be removed in the next version\n",
      "  from pandas import Panel\n"
     ]
    }
   ],
   "source": [
    "from IPython.core.interactiveshell import InteractiveShell\n",
    "InteractiveShell.ast_node_interactivity = \"all\"\n",
    "import pandas as pd\n",
    "import seaborn as sns\n",
    "sns.set()\n",
    "import pandas as pd\n",
    "import gc\n",
    "gc.collect()\n",
    "%matplotlib inline\n",
    "import matplotlib.pyplot as plt\n",
    "from IPython.display import set_matplotlib_formats\n",
    "set_matplotlib_formats('retina')\n",
    "from tqdm import tqdm\n",
    "\n",
    "from pyhive import presto\n",
    "import requests\n",
    "from requests.auth import HTTPBasicAuth\n",
    "import pandas as pd\n",
    "requests.packages.urllib3.disable_warnings()\n",
    "import matplotlib.pyplot as plt\n",
    "import datetime as dt\n",
    "import numpy as np\n",
    "import gc\n",
    "gc.collect()\n",
    "gc.collect()\n",
    "import gzip\n",
    "tqdm.pandas()"
   ]
  },
  {
   "cell_type": "code",
   "execution_count": 10,
   "metadata": {},
   "outputs": [],
   "source": [
    "file_name='1582100338-1582100338-orderTimerRendered-20200218-0-0.json.gz'\n",
    "# file_name='1582100338-1582100338-orderTimerRendered-20200218-1-0.json.gz'\n",
    "with gzip.open(file_name) as f:\n",
    "    order_timer_rendered_raw=pd.read_json(file_name,lines=True)\n"
   ]
  },
  {
   "cell_type": "code",
   "execution_count": 11,
   "metadata": {},
   "outputs": [
    {
     "data": {
      "text/plain": [
       "(1000001, 5)"
      ]
     },
     "execution_count": 11,
     "metadata": {},
     "output_type": "execute_result"
    }
   ],
   "source": [
    "order_timer_rendered_raw.shape"
   ]
  },
  {
   "cell_type": "code",
   "execution_count": 12,
   "metadata": {},
   "outputs": [],
   "source": [
    "import gzip\n",
    "from datetime import datetime\n",
    "def parse_order_time_rendered(file_name):\n",
    "    def parse_time(x):\n",
    "        return  datetime.strptime(str(x), '%Y%m%d%H%M%S')\n",
    "    def get_captain_identity(profile_payload):\n",
    "        try:\n",
    "            identity_index=[i for i, s in enumerate(profile_payload) if 'identity' in s][0]\n",
    "        except:\n",
    "            return None\n",
    "        captain_identity=list(profile_payload.values())[identity_index]\n",
    "        return captain_identity\n",
    "\n",
    "    def get_order_identity(event_prpos_payload):\n",
    "        try:\n",
    "            identity_index=[i for i, s in enumerate(event_prpos_payload) if 'orderId' in s][0]\n",
    "        except:\n",
    "            return None\n",
    "        captain_identity=list(event_prpos_payload.values())[identity_index]\n",
    "        return captain_identity\n",
    "    def get_property_value_for_col(df,source_column,target_column,property_key):\n",
    "        def get_property(payload,property_key):\n",
    "            try:\n",
    "                identity_index=[i for i, s in enumerate(payload) if property_key in s][0]\n",
    "            except:\n",
    "                return None\n",
    "            value=list(payload.values())[identity_index]\n",
    "            return value\n",
    "        df.loc[:,target_column]=df[source_column].progress_apply(lambda x: get_property(x,property_key))\n",
    "        return df\n",
    "\n",
    "    order_timer_rendered_raw=None\n",
    "    with gzip.open(file_name) as f:\n",
    "        order_timer_rendered_raw=pd.read_json(file_name,lines=True)\n",
    "    order_timer_rendered_raw['time']=order_timer_rendered_raw['ts'].progress_apply(parse_time)\n",
    "    order_timer_rendered_raw.loc[:,'captain_id']=order_timer_rendered_raw['profile'].progress_apply(get_captain_identity)\n",
    "    order_timer_rendered_raw.loc[:,'order_id']=order_timer_rendered_raw['eventProps'].progress_apply(get_order_identity)\n",
    "    \n",
    "    source_column='deviceInfo'\n",
    "    target_column='app_version'\n",
    "    property_key='appVersion'\n",
    "    order_timer_rendered_raw=get_property_value_for_col(order_timer_rendered_raw,source_column,target_column,property_key)\n",
    "\n",
    "    return order_timer_rendered_raw[['eventName','time','captain_id','order_id','app_version']]"
   ]
  },
  {
   "cell_type": "code",
   "execution_count": 13,
   "metadata": {
    "scrolled": true
   },
   "outputs": [
    {
     "name": "stderr",
     "output_type": "stream",
     "text": [
      "100%|██████████| 1000001/1000001 [00:12<00:00, 82007.26it/s]\n",
      "100%|██████████| 1000001/1000001 [00:03<00:00, 333041.22it/s]\n",
      "100%|██████████| 1000001/1000001 [00:03<00:00, 256402.95it/s]\n",
      "100%|██████████| 1000001/1000001 [00:03<00:00, 306201.76it/s]\n"
     ]
    }
   ],
   "source": [
    "order_timer_rendered=parse_order_time_rendered(file_name)"
   ]
  },
  {
   "cell_type": "code",
   "execution_count": 14,
   "metadata": {},
   "outputs": [],
   "source": [
    "order_timer_rendered.to_csv('orderTimeRendered_20200218-0-0.csv',index=False)\n",
    "# order_timer_rendered.to_csv('orderTimeRendered_20200218-1-0.csv',index=False)"
   ]
  },
  {
   "cell_type": "code",
   "execution_count": 15,
   "metadata": {},
   "outputs": [
    {
     "data": {
      "text/plain": [
       "(1000001, 5)"
      ]
     },
     "execution_count": 15,
     "metadata": {},
     "output_type": "execute_result"
    }
   ],
   "source": [
    "order_timer_rendered.shape"
   ]
  },
  {
   "cell_type": "code",
   "execution_count": 16,
   "metadata": {},
   "outputs": [],
   "source": [
    "order_timer_files=[\n",
    "    'orderTimeRendered_20200218-1-0.csv',\n",
    "    'orderTimeRendered_20200218-0-0.csv'\n",
    "]"
   ]
  },
  {
   "cell_type": "code",
   "execution_count": 17,
   "metadata": {},
   "outputs": [],
   "source": [
    "df_s=[]\n",
    "for file in order_timer_files:\n",
    "    df_s.append(pd.read_csv(file))"
   ]
  },
  {
   "cell_type": "code",
   "execution_count": 22,
   "metadata": {},
   "outputs": [],
   "source": [
    "# df_s"
   ]
  },
  {
   "cell_type": "code",
   "execution_count": 18,
   "metadata": {},
   "outputs": [],
   "source": [
    "pd.concat(df_s).to_csv('orderTimeRendered_20200218.csv',index=False)"
   ]
  },
  {
   "cell_type": "code",
   "execution_count": 24,
   "metadata": {},
   "outputs": [
    {
     "ename": "AttributeError",
     "evalue": "'DataFrame' object has no attribute 'time'",
     "output_type": "error",
     "traceback": [
      "\u001b[0;31m---------------------------------------------------------------------------\u001b[0m",
      "\u001b[0;31mAttributeError\u001b[0m                            Traceback (most recent call last)",
      "\u001b[0;32m<ipython-input-24-ee8f061bd9ac>\u001b[0m in \u001b[0;36m<module>\u001b[0;34m\u001b[0m\n\u001b[0;32m----> 1\u001b[0;31m \u001b[0morder_timer_rendered_raw\u001b[0m\u001b[0;34m.\u001b[0m\u001b[0mtime\u001b[0m\u001b[0;34m.\u001b[0m\u001b[0mmin\u001b[0m\u001b[0;34m(\u001b[0m\u001b[0;34m)\u001b[0m\u001b[0;34m\u001b[0m\u001b[0;34m\u001b[0m\u001b[0m\n\u001b[0m\u001b[1;32m      2\u001b[0m \u001b[0morder_timer_rendered_raw\u001b[0m\u001b[0;34m.\u001b[0m\u001b[0mtime\u001b[0m\u001b[0;34m.\u001b[0m\u001b[0mmax\u001b[0m\u001b[0;34m(\u001b[0m\u001b[0;34m)\u001b[0m\u001b[0;34m\u001b[0m\u001b[0;34m\u001b[0m\u001b[0m\n",
      "\u001b[0;32m~/anaconda3/envs/customer_v1/lib/python3.7/site-packages/pandas/core/generic.py\u001b[0m in \u001b[0;36m__getattr__\u001b[0;34m(self, name)\u001b[0m\n\u001b[1;32m   5271\u001b[0m             \u001b[0;32mif\u001b[0m \u001b[0mself\u001b[0m\u001b[0;34m.\u001b[0m\u001b[0m_info_axis\u001b[0m\u001b[0;34m.\u001b[0m\u001b[0m_can_hold_identifiers_and_holds_name\u001b[0m\u001b[0;34m(\u001b[0m\u001b[0mname\u001b[0m\u001b[0;34m)\u001b[0m\u001b[0;34m:\u001b[0m\u001b[0;34m\u001b[0m\u001b[0;34m\u001b[0m\u001b[0m\n\u001b[1;32m   5272\u001b[0m                 \u001b[0;32mreturn\u001b[0m \u001b[0mself\u001b[0m\u001b[0;34m[\u001b[0m\u001b[0mname\u001b[0m\u001b[0;34m]\u001b[0m\u001b[0;34m\u001b[0m\u001b[0;34m\u001b[0m\u001b[0m\n\u001b[0;32m-> 5273\u001b[0;31m             \u001b[0;32mreturn\u001b[0m \u001b[0mobject\u001b[0m\u001b[0;34m.\u001b[0m\u001b[0m__getattribute__\u001b[0m\u001b[0;34m(\u001b[0m\u001b[0mself\u001b[0m\u001b[0;34m,\u001b[0m \u001b[0mname\u001b[0m\u001b[0;34m)\u001b[0m\u001b[0;34m\u001b[0m\u001b[0;34m\u001b[0m\u001b[0m\n\u001b[0m\u001b[1;32m   5274\u001b[0m \u001b[0;34m\u001b[0m\u001b[0m\n\u001b[1;32m   5275\u001b[0m     \u001b[0;32mdef\u001b[0m \u001b[0m__setattr__\u001b[0m\u001b[0;34m(\u001b[0m\u001b[0mself\u001b[0m\u001b[0;34m,\u001b[0m \u001b[0mname\u001b[0m\u001b[0;34m:\u001b[0m \u001b[0mstr\u001b[0m\u001b[0;34m,\u001b[0m \u001b[0mvalue\u001b[0m\u001b[0;34m)\u001b[0m \u001b[0;34m->\u001b[0m \u001b[0;32mNone\u001b[0m\u001b[0;34m:\u001b[0m\u001b[0;34m\u001b[0m\u001b[0;34m\u001b[0m\u001b[0m\n",
      "\u001b[0;31mAttributeError\u001b[0m: 'DataFrame' object has no attribute 'time'"
     ]
    }
   ],
   "source": [
    "order_timer_rendered_raw.time.min()\n",
    "order_timer_rendered_raw.time.max()"
   ]
  },
  {
   "cell_type": "markdown",
   "metadata": {},
   "source": [
    "#### Scratchpad"
   ]
  },
  {
   "cell_type": "code",
   "execution_count": 6,
   "metadata": {},
   "outputs": [],
   "source": [
    "with gzip.open(file_name) as f:\n",
    "    order_timer_rendered_raw=pd.read_json(file_name,lines=True)\n"
   ]
  },
  {
   "cell_type": "code",
   "execution_count": 7,
   "metadata": {},
   "outputs": [
    {
     "data": {
      "text/html": [
       "<div>\n",
       "<style scoped>\n",
       "    .dataframe tbody tr th:only-of-type {\n",
       "        vertical-align: middle;\n",
       "    }\n",
       "\n",
       "    .dataframe tbody tr th {\n",
       "        vertical-align: top;\n",
       "    }\n",
       "\n",
       "    .dataframe thead th {\n",
       "        text-align: right;\n",
       "    }\n",
       "</style>\n",
       "<table border=\"1\" class=\"dataframe\">\n",
       "  <thead>\n",
       "    <tr style=\"text-align: right;\">\n",
       "      <th></th>\n",
       "      <th>eventName</th>\n",
       "      <th>ts</th>\n",
       "      <th>eventProps</th>\n",
       "      <th>profile</th>\n",
       "      <th>deviceInfo</th>\n",
       "    </tr>\n",
       "  </thead>\n",
       "  <tbody>\n",
       "    <tr>\n",
       "      <th>0</th>\n",
       "      <td>orderTimerRendered</td>\n",
       "      <td>20200218103007</td>\n",
       "      <td>{'area': '----', 'cluster': 'Rasulpura', 'city...</td>\n",
       "      <td>{'all_identities': ['5dca7eba010c5a4601fbfb7f'...</td>\n",
       "      <td>{'osVersion': '8.1.0', 'sdkVersion': '30601', ...</td>\n",
       "    </tr>\n",
       "    <tr>\n",
       "      <th>1</th>\n",
       "      <td>orderTimerRendered</td>\n",
       "      <td>20200218103009</td>\n",
       "      <td>{'area': '----', 'cluster': 'Hazrat ganj', 'ci...</td>\n",
       "      <td>{'all_identities': ['5d2823c406ee2c37f1f3937e'...</td>\n",
       "      <td>{'osVersion': '8.1.0', 'sdkVersion': '30601', ...</td>\n",
       "    </tr>\n",
       "  </tbody>\n",
       "</table>\n",
       "</div>"
      ],
      "text/plain": [
       "            eventName              ts  \\\n",
       "0  orderTimerRendered  20200218103007   \n",
       "1  orderTimerRendered  20200218103009   \n",
       "\n",
       "                                          eventProps  \\\n",
       "0  {'area': '----', 'cluster': 'Rasulpura', 'city...   \n",
       "1  {'area': '----', 'cluster': 'Hazrat ganj', 'ci...   \n",
       "\n",
       "                                             profile  \\\n",
       "0  {'all_identities': ['5dca7eba010c5a4601fbfb7f'...   \n",
       "1  {'all_identities': ['5d2823c406ee2c37f1f3937e'...   \n",
       "\n",
       "                                          deviceInfo  \n",
       "0  {'osVersion': '8.1.0', 'sdkVersion': '30601', ...  \n",
       "1  {'osVersion': '8.1.0', 'sdkVersion': '30601', ...  "
      ]
     },
     "execution_count": 7,
     "metadata": {},
     "output_type": "execute_result"
    }
   ],
   "source": [
    "order_timer_rendered_raw.head(2)"
   ]
  },
  {
   "cell_type": "code",
   "execution_count": 77,
   "metadata": {},
   "outputs": [
    {
     "data": {
      "text/plain": [
       "{'area': '----',\n",
       " 'cluster': '',\n",
       " 'city': 'Bangalore',\n",
       " 'Device rooted': 'false',\n",
       " 'regCity': 'Bangalore',\n",
       " 'CT Source': 'Mobile',\n",
       " 'latitude': 12.711327,\n",
       " 'longitude': 77.699585,\n",
       " 'CT Latitude': 12.711327,\n",
       " 'CT Longitude': 77.699585,\n",
       " 'occurred_date': '$D_1581397311',\n",
       " 'hhmmss': '103151',\n",
       " 'orderId': '5e4235036735ce3fc338bc39',\n",
       " 'yyyymmdd': '20200211',\n",
       " 'networkspeed': '-1.0',\n",
       " 'CT App Version': '3.10.2',\n",
       " 'epoch': '1581397311990'}"
      ]
     },
     "execution_count": 77,
     "metadata": {},
     "output_type": "execute_result"
    },
    {
     "data": {
      "text/plain": [
       "'5e4235036735ce3fc338bc39'"
      ]
     },
     "execution_count": 77,
     "metadata": {},
     "output_type": "execute_result"
    }
   ],
   "source": [
    "order_timer_rendered_raw['eventProps'].iloc[2]\n",
    "get_order_identity(order_timer_rendered_raw['eventProps'].iloc[2])"
   ]
  },
  {
   "cell_type": "code",
   "execution_count": 74,
   "metadata": {},
   "outputs": [
    {
     "data": {
      "text/plain": [
       "'5e4235036735ce3fc338bc39'"
      ]
     },
     "execution_count": 74,
     "metadata": {},
     "output_type": "execute_result"
    }
   ],
   "source": [
    "eventPropsPayload=order_timer_rendered_raw['eventProps'].iloc[2]\n",
    "id_index=[i for i, s in enumerate(eventPropsPayload) if 'orderId' in s][0]\n",
    "list(eventPropsPayload.values())[id_index]"
   ]
  },
  {
   "cell_type": "code",
   "execution_count": null,
   "metadata": {},
   "outputs": [],
   "source": []
  },
  {
   "cell_type": "code",
   "execution_count": 31,
   "metadata": {},
   "outputs": [
    {
     "data": {
      "text/plain": [
       "{'all_identities': ['5dd68c3661ebec69bf92edb6'],\n",
       " 'identity': '5dd68c3661ebec69bf92edb6',\n",
       " 'platform': 'Android',\n",
       " 'phone': 919148338065,\n",
       " 'name': 'Veeresh H',\n",
       " 'push_token': 'fcm:e8Mr0IJQvd4:APA91bEpYaTZb7EiAfnRZ5MEsFmWaSMLXHreR2_K_8p30GEBAfMm1KO2Rgbjiok9KVqToeEOfBoLrmhoT0Y7AHDPZ4F15g5BcvXCtbsmuBTIh_Xc0ZHMx-TS5FJbz9tF8EG6_0EPKt-i'}"
      ]
     },
     "execution_count": 31,
     "metadata": {},
     "output_type": "execute_result"
    },
    {
     "data": {
      "text/plain": [
       "[False, True, False, False, False, False]"
      ]
     },
     "execution_count": 31,
     "metadata": {},
     "output_type": "execute_result"
    }
   ],
   "source": [
    "profile_payload=order_timer_rendered_raw['profile'].iloc[2]\n",
    "profile_payload\n",
    "[\"identity\" in x for i,x in enumerate(profile_payload)]"
   ]
  },
  {
   "cell_type": "code",
   "execution_count": 42,
   "metadata": {},
   "outputs": [
    {
     "data": {
      "text/plain": [
       "'5dd68c3661ebec69bf92edb6'"
      ]
     },
     "execution_count": 42,
     "metadata": {},
     "output_type": "execute_result"
    },
    {
     "name": "stdout",
     "output_type": "stream",
     "text": [
      "all_identities\n",
      "identity\n",
      "platform\n",
      "phone\n",
      "name\n",
      "push_token\n"
     ]
    }
   ],
   "source": [
    "list(profile_payload.values())[1]\n",
    "for i,x  in enumerate(profile_payload):\n",
    "    print(x)\n",
    "    "
   ]
  },
  {
   "cell_type": "code",
   "execution_count": 59,
   "metadata": {},
   "outputs": [
    {
     "name": "stderr",
     "output_type": "stream",
     "text": [
      "\n",
      "\n",
      "\n",
      "  0%|          | 0/98964 [00:00<?, ?it/s]\u001b[A\u001b[A\u001b[A\n",
      "\n",
      "\n",
      " 25%|██▌       | 25103/98964 [00:00<00:00, 251027.85it/s]\u001b[A\u001b[A\u001b[A\n",
      "\n",
      "\n",
      " 59%|█████▉    | 58284/98964 [00:00<00:00, 270805.93it/s]\u001b[A\u001b[A\u001b[A\n",
      "\n",
      "\n",
      "100%|██████████| 98964/98964 [00:00<00:00, 290306.66it/s]\u001b[A\u001b[A\u001b[A\n"
     ]
    }
   ],
   "source": []
  },
  {
   "cell_type": "code",
   "execution_count": 67,
   "metadata": {},
   "outputs": [
    {
     "data": {
      "text/plain": [
       "(98964, 7)"
      ]
     },
     "execution_count": 67,
     "metadata": {},
     "output_type": "execute_result"
    }
   ],
   "source": [
    "order_timer_rendered_raw.shape"
   ]
  },
  {
   "cell_type": "code",
   "execution_count": 75,
   "metadata": {},
   "outputs": [
    {
     "data": {
      "text/html": [
       "<div>\n",
       "<style scoped>\n",
       "    .dataframe tbody tr th:only-of-type {\n",
       "        vertical-align: middle;\n",
       "    }\n",
       "\n",
       "    .dataframe tbody tr th {\n",
       "        vertical-align: top;\n",
       "    }\n",
       "\n",
       "    .dataframe thead th {\n",
       "        text-align: right;\n",
       "    }\n",
       "</style>\n",
       "<table border=\"1\" class=\"dataframe\">\n",
       "  <thead>\n",
       "    <tr style=\"text-align: right;\">\n",
       "      <th></th>\n",
       "      <th>eventName</th>\n",
       "      <th>ts</th>\n",
       "      <th>eventProps</th>\n",
       "      <th>profile</th>\n",
       "      <th>deviceInfo</th>\n",
       "      <th>time</th>\n",
       "      <th>captain_id</th>\n",
       "    </tr>\n",
       "  </thead>\n",
       "  <tbody>\n",
       "    <tr>\n",
       "      <td>0</td>\n",
       "      <td>orderTimerRendered</td>\n",
       "      <td>20200211103149</td>\n",
       "      <td>{'area': '----', 'cluster': 'BRS nagar', 'city...</td>\n",
       "      <td>{'all_identities': ['randhirsingh55300@gmail.c...</td>\n",
       "      <td>{'osVersion': '9', 'sdkVersion': '30601', 'mak...</td>\n",
       "      <td>2020-02-11 10:31:49</td>\n",
       "      <td>5d2a01ae06ee2c37f1f6841e,5d71c3a69f130346e2c86cfb</td>\n",
       "    </tr>\n",
       "    <tr>\n",
       "      <td>1</td>\n",
       "      <td>orderTimerRendered</td>\n",
       "      <td>20200211103151</td>\n",
       "      <td>{'area': '----', 'cluster': '', 'city': 'Banga...</td>\n",
       "      <td>{'all_identities': ['5dd68c3661ebec69bf92edb6'...</td>\n",
       "      <td>{'osVersion': '9', 'sdkVersion': '30601', 'mak...</td>\n",
       "      <td>2020-02-11 10:31:51</td>\n",
       "      <td>5dd68c3661ebec69bf92edb6</td>\n",
       "    </tr>\n",
       "    <tr>\n",
       "      <td>2</td>\n",
       "      <td>orderTimerRendered</td>\n",
       "      <td>20200211103151</td>\n",
       "      <td>{'area': '----', 'cluster': '', 'city': 'Banga...</td>\n",
       "      <td>{'all_identities': ['5dd68c3661ebec69bf92edb6'...</td>\n",
       "      <td>{'osVersion': '9', 'sdkVersion': '30601', 'mak...</td>\n",
       "      <td>2020-02-11 10:31:51</td>\n",
       "      <td>5dd68c3661ebec69bf92edb6</td>\n",
       "    </tr>\n",
       "    <tr>\n",
       "      <td>3</td>\n",
       "      <td>orderTimerRendered</td>\n",
       "      <td>20200211103155</td>\n",
       "      <td>{'area': '----', 'cluster': 'Hex 3', 'city': '...</td>\n",
       "      <td>{'all_identities': ['5e0c51a5a10a71228f892a7c'...</td>\n",
       "      <td>{'osVersion': '9', 'sdkVersion': '30601', 'mak...</td>\n",
       "      <td>2020-02-11 10:31:55</td>\n",
       "      <td>5e0c51a5a10a71228f892a7c</td>\n",
       "    </tr>\n",
       "    <tr>\n",
       "      <td>4</td>\n",
       "      <td>orderTimerRendered</td>\n",
       "      <td>20200211103153</td>\n",
       "      <td>{'area': '----', 'cluster': 'SH-Rosalina', 'ci...</td>\n",
       "      <td>{'all_identities': ['5d3a9eb82f470b5bbc1fa69e'...</td>\n",
       "      <td>{'osVersion': '8.0.0', 'sdkVersion': '30601', ...</td>\n",
       "      <td>2020-02-11 10:31:53</td>\n",
       "      <td>5d3a9eb82f470b5bbc1fa69e,5d614bbba24c96105e22d83e</td>\n",
       "    </tr>\n",
       "    <tr>\n",
       "      <td>...</td>\n",
       "      <td>...</td>\n",
       "      <td>...</td>\n",
       "      <td>...</td>\n",
       "      <td>...</td>\n",
       "      <td>...</td>\n",
       "      <td>...</td>\n",
       "      <td>...</td>\n",
       "    </tr>\n",
       "    <tr>\n",
       "      <td>98959</td>\n",
       "      <td>orderTimerRendered</td>\n",
       "      <td>20200211234246</td>\n",
       "      <td>{'area': '----', 'cluster': 'BTM', 'city': 'Ba...</td>\n",
       "      <td>{'all_identities': ['5d19f75911e17032dce9505c'...</td>\n",
       "      <td>{'osVersion': '8.1.0', 'sdkVersion': '30601', ...</td>\n",
       "      <td>2020-02-11 23:42:46</td>\n",
       "      <td>5d19f75911e17032dce9505c</td>\n",
       "    </tr>\n",
       "    <tr>\n",
       "      <td>98960</td>\n",
       "      <td>orderTimerRendered</td>\n",
       "      <td>20200211234256</td>\n",
       "      <td>{'area': '----', 'cluster': 'BTM', 'city': 'Ba...</td>\n",
       "      <td>{'all_identities': ['5d19f75911e17032dce9505c'...</td>\n",
       "      <td>{'osVersion': '8.1.0', 'sdkVersion': '30601', ...</td>\n",
       "      <td>2020-02-11 23:42:56</td>\n",
       "      <td>5d19f75911e17032dce9505c</td>\n",
       "    </tr>\n",
       "    <tr>\n",
       "      <td>98961</td>\n",
       "      <td>orderTimerRendered</td>\n",
       "      <td>20200211220509</td>\n",
       "      <td>{'area': '----', 'cluster': 'Kishanpura', 'cit...</td>\n",
       "      <td>{'all_identities': ['5cc6a37fadc5f92951ee46c2'...</td>\n",
       "      <td>{'osVersion': '8.0.0', 'sdkVersion': '30601', ...</td>\n",
       "      <td>2020-02-11 22:05:09</td>\n",
       "      <td>5cc6a37fadc5f92951ee46c2,5d08b09a1c64cc470f61de8e</td>\n",
       "    </tr>\n",
       "    <tr>\n",
       "      <td>98962</td>\n",
       "      <td>orderTimerRendered</td>\n",
       "      <td>20200211210331</td>\n",
       "      <td>{'cluster': 'Mathikere', 'city': 'Bangalore', ...</td>\n",
       "      <td>{'all_identities': ['5ad1e59cf7284039532fbb42'...</td>\n",
       "      <td>{'osVersion': '7.0', 'sdkVersion': '30601', 'm...</td>\n",
       "      <td>2020-02-11 21:03:31</td>\n",
       "      <td>5ad1e59cf7284039532fbb42</td>\n",
       "    </tr>\n",
       "    <tr>\n",
       "      <td>98963</td>\n",
       "      <td>orderTimerRendered</td>\n",
       "      <td>20200211220002</td>\n",
       "      <td>{'area': '----', 'cluster': '', 'city': 'Banga...</td>\n",
       "      <td>{'all_identities': ['58cbbb3ed421dc596ed7f258'...</td>\n",
       "      <td>{'osVersion': '9', 'sdkVersion': '30601', 'mak...</td>\n",
       "      <td>2020-02-11 22:00:02</td>\n",
       "      <td>58cbbb3ed421dc596ed7f258,59798e185dfa38d405132be1</td>\n",
       "    </tr>\n",
       "  </tbody>\n",
       "</table>\n",
       "<p>97981 rows × 7 columns</p>\n",
       "</div>"
      ],
      "text/plain": [
       "                eventName              ts  \\\n",
       "0      orderTimerRendered  20200211103149   \n",
       "1      orderTimerRendered  20200211103151   \n",
       "2      orderTimerRendered  20200211103151   \n",
       "3      orderTimerRendered  20200211103155   \n",
       "4      orderTimerRendered  20200211103153   \n",
       "...                   ...             ...   \n",
       "98959  orderTimerRendered  20200211234246   \n",
       "98960  orderTimerRendered  20200211234256   \n",
       "98961  orderTimerRendered  20200211220509   \n",
       "98962  orderTimerRendered  20200211210331   \n",
       "98963  orderTimerRendered  20200211220002   \n",
       "\n",
       "                                              eventProps  \\\n",
       "0      {'area': '----', 'cluster': 'BRS nagar', 'city...   \n",
       "1      {'area': '----', 'cluster': '', 'city': 'Banga...   \n",
       "2      {'area': '----', 'cluster': '', 'city': 'Banga...   \n",
       "3      {'area': '----', 'cluster': 'Hex 3', 'city': '...   \n",
       "4      {'area': '----', 'cluster': 'SH-Rosalina', 'ci...   \n",
       "...                                                  ...   \n",
       "98959  {'area': '----', 'cluster': 'BTM', 'city': 'Ba...   \n",
       "98960  {'area': '----', 'cluster': 'BTM', 'city': 'Ba...   \n",
       "98961  {'area': '----', 'cluster': 'Kishanpura', 'cit...   \n",
       "98962  {'cluster': 'Mathikere', 'city': 'Bangalore', ...   \n",
       "98963  {'area': '----', 'cluster': '', 'city': 'Banga...   \n",
       "\n",
       "                                                 profile  \\\n",
       "0      {'all_identities': ['randhirsingh55300@gmail.c...   \n",
       "1      {'all_identities': ['5dd68c3661ebec69bf92edb6'...   \n",
       "2      {'all_identities': ['5dd68c3661ebec69bf92edb6'...   \n",
       "3      {'all_identities': ['5e0c51a5a10a71228f892a7c'...   \n",
       "4      {'all_identities': ['5d3a9eb82f470b5bbc1fa69e'...   \n",
       "...                                                  ...   \n",
       "98959  {'all_identities': ['5d19f75911e17032dce9505c'...   \n",
       "98960  {'all_identities': ['5d19f75911e17032dce9505c'...   \n",
       "98961  {'all_identities': ['5cc6a37fadc5f92951ee46c2'...   \n",
       "98962  {'all_identities': ['5ad1e59cf7284039532fbb42'...   \n",
       "98963  {'all_identities': ['58cbbb3ed421dc596ed7f258'...   \n",
       "\n",
       "                                              deviceInfo                time  \\\n",
       "0      {'osVersion': '9', 'sdkVersion': '30601', 'mak... 2020-02-11 10:31:49   \n",
       "1      {'osVersion': '9', 'sdkVersion': '30601', 'mak... 2020-02-11 10:31:51   \n",
       "2      {'osVersion': '9', 'sdkVersion': '30601', 'mak... 2020-02-11 10:31:51   \n",
       "3      {'osVersion': '9', 'sdkVersion': '30601', 'mak... 2020-02-11 10:31:55   \n",
       "4      {'osVersion': '8.0.0', 'sdkVersion': '30601', ... 2020-02-11 10:31:53   \n",
       "...                                                  ...                 ...   \n",
       "98959  {'osVersion': '8.1.0', 'sdkVersion': '30601', ... 2020-02-11 23:42:46   \n",
       "98960  {'osVersion': '8.1.0', 'sdkVersion': '30601', ... 2020-02-11 23:42:56   \n",
       "98961  {'osVersion': '8.0.0', 'sdkVersion': '30601', ... 2020-02-11 22:05:09   \n",
       "98962  {'osVersion': '7.0', 'sdkVersion': '30601', 'm... 2020-02-11 21:03:31   \n",
       "98963  {'osVersion': '9', 'sdkVersion': '30601', 'mak... 2020-02-11 22:00:02   \n",
       "\n",
       "                                              captain_id  \n",
       "0      5d2a01ae06ee2c37f1f6841e,5d71c3a69f130346e2c86cfb  \n",
       "1                               5dd68c3661ebec69bf92edb6  \n",
       "2                               5dd68c3661ebec69bf92edb6  \n",
       "3                               5e0c51a5a10a71228f892a7c  \n",
       "4      5d3a9eb82f470b5bbc1fa69e,5d614bbba24c96105e22d83e  \n",
       "...                                                  ...  \n",
       "98959                           5d19f75911e17032dce9505c  \n",
       "98960                           5d19f75911e17032dce9505c  \n",
       "98961  5cc6a37fadc5f92951ee46c2,5d08b09a1c64cc470f61de8e  \n",
       "98962                           5ad1e59cf7284039532fbb42  \n",
       "98963  58cbbb3ed421dc596ed7f258,59798e185dfa38d405132be1  \n",
       "\n",
       "[97981 rows x 7 columns]"
      ]
     },
     "execution_count": 75,
     "metadata": {},
     "output_type": "execute_result"
    },
    {
     "data": {
      "text/plain": [
       "{'platform': 'Android',\n",
       " 'phone': 919592389008,\n",
       " 'name': 'Rajat Kumar',\n",
       " 'push_token': 'fcm:dozSVanuEmw:APA91bEWr_Lxp_dSjVK4JIZSA6N_WS_Z3J9WswiTPi_Q8jFEzfkcUFH_x9JEj_hjppAxhAH0oFUFKKG8qvYEgwIHRTYXyuGfL013cI_LBqh7ZJIqlhFsdZ-EmrBSkj5JlKclyu3QdGcl'}"
      ]
     },
     "execution_count": 75,
     "metadata": {},
     "output_type": "execute_result"
    },
    {
     "data": {
      "text/plain": [
       "{'all_identities': ['594b664185992d305990c6f0',\n",
       "  'ak23091990@gmail.com',\n",
       "  '5be433ca246eb83dabc12404',\n",
       "  'velanganni1958@gmail.com'],\n",
       " 'identity': '594b664185992d305990c6f0,5be433ca246eb83dabc12404',\n",
       " 'platform': 'Android',\n",
       " 'phone': 919886712702,\n",
       " 'name': 'vinay  S',\n",
       " 'email': 'ak23091990@gmail.com',\n",
       " 'push_token': 'fcm:ci9BOXKU6M8:APA91bFCnBHpCuy-FZ5NfWoLseoWVF4mTaB6hh-6YILRPIzQzliMraYby9x1OGBnpZH1yA5UgCNWwDGrYPs0xE4RQazaTisTuqAXbpG3VrJdXaYZFJkb0zgez-Xdagd14yBnYlR_kqe-'}"
      ]
     },
     "execution_count": 75,
     "metadata": {},
     "output_type": "execute_result"
    }
   ],
   "source": [
    "order_timer_rendered_raw[~order_timer_rendered_raw.captain_id.isna()]\n",
    "order_timer_rendered_raw.iloc[327]['profile']\n",
    "order_timer_rendered_raw.iloc[326]['profile']"
   ]
  },
  {
   "cell_type": "code",
   "execution_count": 58,
   "metadata": {},
   "outputs": [
    {
     "name": "stdout",
     "output_type": "stream",
     "text": [
      "5dd68c3661ebec69bf92edb6\n"
     ]
    }
   ],
   "source": [
    "# print(a)\n",
    "# import re\n",
    "# m = re.search('[0-9a-fA-F]{10,}', a)\n",
    "# if m:\n",
    "#     found = m.group(0)\n",
    "#     print(found) "
   ]
  },
  {
   "cell_type": "code",
   "execution_count": 55,
   "metadata": {},
   "outputs": [
    {
     "data": {
      "text/plain": [
       "0        {'all_identities': ['randhirsingh55300@gmail.c...\n",
       "1        {'all_identities': ['5dd68c3661ebec69bf92edb6'...\n",
       "2        {'all_identities': ['5dd68c3661ebec69bf92edb6'...\n",
       "3        {'all_identities': ['5e0c51a5a10a71228f892a7c'...\n",
       "4        {'all_identities': ['5d3a9eb82f470b5bbc1fa69e'...\n",
       "                               ...                        \n",
       "98959    {'all_identities': ['5d19f75911e17032dce9505c'...\n",
       "98960    {'all_identities': ['5d19f75911e17032dce9505c'...\n",
       "98961    {'all_identities': ['5cc6a37fadc5f92951ee46c2'...\n",
       "98962    {'all_identities': ['5ad1e59cf7284039532fbb42'...\n",
       "98963    {'all_identities': ['58cbbb3ed421dc596ed7f258'...\n",
       "Name: profile, Length: 98964, dtype: object"
      ]
     },
     "execution_count": 55,
     "metadata": {},
     "output_type": "execute_result"
    }
   ],
   "source": [
    "order_timer_rendered_raw['profile'].progress"
   ]
  },
  {
   "cell_type": "code",
   "execution_count": 57,
   "metadata": {},
   "outputs": [
    {
     "data": {
      "text/plain": [
       "{'all_identities': ['randhirsingh55300@gmail.com',\n",
       "  '5d2a01ae06ee2c37f1f6841e',\n",
       "  '5d71c3a69f130346e2c86cfb'],\n",
       " 'identity': '5d2a01ae06ee2c37f1f6841e,5d71c3a69f130346e2c86cfb',\n",
       " 'platform': 'Android',\n",
       " 'phone': 918968755300,\n",
       " 'name': 'Barinder Singh',\n",
       " 'email': 'randhirsingh55300@gmail.com',\n",
       " 'push_token': 'fcm:d846nZvuiHs:APA91bGbUMMTTDn3CqFfZ7e6E38V9wXXzZ4bOThnxuXbvQgBXjKo_nED0HCRvZvzbqT2SzgFS6bYtj9KVjRJSDtPEbAGabJ5C_jduMWGJ282XHimjD40GhidDczLAXlrz3v4Vvu5gs6i'}"
      ]
     },
     "execution_count": 57,
     "metadata": {},
     "output_type": "execute_result"
    }
   ],
   "source": [
    "order_timer_rendered_raw['profile'].iloc[0]"
   ]
  },
  {
   "cell_type": "code",
   "execution_count": 56,
   "metadata": {},
   "outputs": [
    {
     "data": {
      "text/plain": [
       "'5d2a01ae06ee2c37f1f6841e,5d71c3a69f130346e2c86cfb'"
      ]
     },
     "execution_count": 56,
     "metadata": {},
     "output_type": "execute_result"
    }
   ],
   "source": [
    "get_captain_identity(order_timer_rendered_raw['profile'].iloc[0])"
   ]
  },
  {
   "cell_type": "code",
   "execution_count": 53,
   "metadata": {},
   "outputs": [
    {
     "data": {
      "text/plain": [
       "'5dd68c3661ebec69bf92edb6'"
      ]
     },
     "execution_count": 53,
     "metadata": {},
     "output_type": "execute_result"
    }
   ],
   "source": [
    "get_captain_identity(order_timer_rendered_raw['profile'].iloc[2])"
   ]
  },
  {
   "cell_type": "code",
   "execution_count": 24,
   "metadata": {},
   "outputs": [
    {
     "data": {
      "text/plain": [
       "{'area': '----',\n",
       " 'cluster': '',\n",
       " 'city': 'Bangalore',\n",
       " 'Device rooted': 'false',\n",
       " 'regCity': 'Bangalore',\n",
       " 'CT Source': 'Mobile',\n",
       " 'latitude': 12.711327,\n",
       " 'longitude': 77.699585,\n",
       " 'CT Latitude': 12.711327,\n",
       " 'CT Longitude': 77.699585,\n",
       " 'occurred_date': '$D_1581397311',\n",
       " 'hhmmss': '103151',\n",
       " 'orderId': '5e4235036735ce3fc338bc39',\n",
       " 'yyyymmdd': '20200211',\n",
       " 'networkspeed': '-1.0',\n",
       " 'CT App Version': '3.10.2',\n",
       " 'epoch': '1581397311990'}"
      ]
     },
     "execution_count": 24,
     "metadata": {},
     "output_type": "execute_result"
    }
   ],
   "source": [
    "order_timer_rendered_raw['eventProps'].iloc[2]"
   ]
  },
  {
   "cell_type": "code",
   "execution_count": 23,
   "metadata": {},
   "outputs": [
    {
     "data": {
      "text/html": [
       "<div>\n",
       "<style scoped>\n",
       "    .dataframe tbody tr th:only-of-type {\n",
       "        vertical-align: middle;\n",
       "    }\n",
       "\n",
       "    .dataframe tbody tr th {\n",
       "        vertical-align: top;\n",
       "    }\n",
       "\n",
       "    .dataframe thead th {\n",
       "        text-align: right;\n",
       "    }\n",
       "</style>\n",
       "<table border=\"1\" class=\"dataframe\">\n",
       "  <thead>\n",
       "    <tr style=\"text-align: right;\">\n",
       "      <th></th>\n",
       "      <th>eventName</th>\n",
       "      <th>time</th>\n",
       "    </tr>\n",
       "  </thead>\n",
       "  <tbody>\n",
       "    <tr>\n",
       "      <td>0</td>\n",
       "      <td>orderTimerRendered</td>\n",
       "      <td>2020-02-11 10:31:49</td>\n",
       "    </tr>\n",
       "    <tr>\n",
       "      <td>1</td>\n",
       "      <td>orderTimerRendered</td>\n",
       "      <td>2020-02-11 10:31:51</td>\n",
       "    </tr>\n",
       "    <tr>\n",
       "      <td>2</td>\n",
       "      <td>orderTimerRendered</td>\n",
       "      <td>2020-02-11 10:31:51</td>\n",
       "    </tr>\n",
       "    <tr>\n",
       "      <td>3</td>\n",
       "      <td>orderTimerRendered</td>\n",
       "      <td>2020-02-11 10:31:55</td>\n",
       "    </tr>\n",
       "    <tr>\n",
       "      <td>4</td>\n",
       "      <td>orderTimerRendered</td>\n",
       "      <td>2020-02-11 10:31:53</td>\n",
       "    </tr>\n",
       "    <tr>\n",
       "      <td>...</td>\n",
       "      <td>...</td>\n",
       "      <td>...</td>\n",
       "    </tr>\n",
       "    <tr>\n",
       "      <td>98959</td>\n",
       "      <td>orderTimerRendered</td>\n",
       "      <td>2020-02-11 23:42:46</td>\n",
       "    </tr>\n",
       "    <tr>\n",
       "      <td>98960</td>\n",
       "      <td>orderTimerRendered</td>\n",
       "      <td>2020-02-11 23:42:56</td>\n",
       "    </tr>\n",
       "    <tr>\n",
       "      <td>98961</td>\n",
       "      <td>orderTimerRendered</td>\n",
       "      <td>2020-02-11 22:05:09</td>\n",
       "    </tr>\n",
       "    <tr>\n",
       "      <td>98962</td>\n",
       "      <td>orderTimerRendered</td>\n",
       "      <td>2020-02-11 21:03:31</td>\n",
       "    </tr>\n",
       "    <tr>\n",
       "      <td>98963</td>\n",
       "      <td>orderTimerRendered</td>\n",
       "      <td>2020-02-11 22:00:02</td>\n",
       "    </tr>\n",
       "  </tbody>\n",
       "</table>\n",
       "<p>98964 rows × 2 columns</p>\n",
       "</div>"
      ],
      "text/plain": [
       "                eventName                time\n",
       "0      orderTimerRendered 2020-02-11 10:31:49\n",
       "1      orderTimerRendered 2020-02-11 10:31:51\n",
       "2      orderTimerRendered 2020-02-11 10:31:51\n",
       "3      orderTimerRendered 2020-02-11 10:31:55\n",
       "4      orderTimerRendered 2020-02-11 10:31:53\n",
       "...                   ...                 ...\n",
       "98959  orderTimerRendered 2020-02-11 23:42:46\n",
       "98960  orderTimerRendered 2020-02-11 23:42:56\n",
       "98961  orderTimerRendered 2020-02-11 22:05:09\n",
       "98962  orderTimerRendered 2020-02-11 21:03:31\n",
       "98963  orderTimerRendered 2020-02-11 22:00:02\n",
       "\n",
       "[98964 rows x 2 columns]"
      ]
     },
     "execution_count": 23,
     "metadata": {},
     "output_type": "execute_result"
    }
   ],
   "source": [
    "order_timer_rendered_raw[['eventName','time']]"
   ]
  },
  {
   "cell_type": "code",
   "execution_count": 17,
   "metadata": {},
   "outputs": [],
   "source": [
    "test_time='20200211103149'"
   ]
  },
  {
   "cell_type": "code",
   "execution_count": 19,
   "metadata": {},
   "outputs": [
    {
     "name": "stdout",
     "output_type": "stream",
     "text": [
      "2020-02-11 10:31:49\n"
     ]
    }
   ],
   "source": [
    "from datetime import datetime\n",
    "test_time='20200211103149'\n",
    "datetime_str = '09/19/18 13:55:26'\n",
    "\n",
    "\n",
    "# datetime_object = datetime.strptime(test_time, '%m/%d/%y %H:%M:%S')\n",
    "\n",
    "# print(type(datetime_object))\n",
    "print(datetime_object)  # printed in default forma"
   ]
  },
  {
   "cell_type": "code",
   "execution_count": null,
   "metadata": {},
   "outputs": [],
   "source": []
  }
 ],
 "metadata": {
  "kernelspec": {
   "display_name": "Python 3",
   "language": "python",
   "name": "python3"
  },
  "language_info": {
   "codemirror_mode": {
    "name": "ipython",
    "version": 3
   },
   "file_extension": ".py",
   "mimetype": "text/x-python",
   "name": "python",
   "nbconvert_exporter": "python",
   "pygments_lexer": "ipython3",
   "version": "3.7.6"
  }
 },
 "nbformat": 4,
 "nbformat_minor": 2
}
