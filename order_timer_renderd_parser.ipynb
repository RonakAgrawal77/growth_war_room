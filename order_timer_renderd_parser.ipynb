{
 "cells": [
  {
   "cell_type": "code",
   "execution_count": 1,
   "metadata": {},
   "outputs": [
    {
     "name": "stderr",
     "output_type": "stream",
     "text": [
      "/home/ronak/anaconda3/lib/python3.7/site-packages/tqdm/std.py:648: FutureWarning: The Panel class is removed from pandas. Accessing it from the top-level namespace will also be removed in the next version\n",
      "  from pandas import Panel\n"
     ]
    }
   ],
   "source": [
    "from IPython.core.interactiveshell import InteractiveShell\n",
    "InteractiveShell.ast_node_interactivity = \"all\"\n",
    "import pandas as pd\n",
    "import seaborn as sns\n",
    "sns.set()\n",
    "import pandas as pd\n",
    "import gc\n",
    "gc.collect()\n",
    "%matplotlib inline\n",
    "import matplotlib.pyplot as plt\n",
    "from IPython.display import set_matplotlib_formats\n",
    "set_matplotlib_formats('retina')\n",
    "from tqdm import tqdm\n",
    "\n",
    "from pyhive import presto\n",
    "import requests\n",
    "from requests.auth import HTTPBasicAuth\n",
    "import pandas as pd\n",
    "requests.packages.urllib3.disable_warnings()\n",
    "import matplotlib.pyplot as plt\n",
    "import datetime as dt\n",
    "import numpy as np\n",
    "import gc\n",
    "gc.collect()\n",
    "gc.collect()\n",
    "\n",
    "tqdm.pandas()"
   ]
  },
  {
   "cell_type": "code",
   "execution_count": 7,
   "metadata": {},
   "outputs": [],
   "source": [
    "file_name='1582024475-1582024475-orderTimerRendered-20200211-1-0.json'"
   ]
  },
  {
   "cell_type": "code",
   "execution_count": 14,
   "metadata": {},
   "outputs": [],
   "source": []
  },
  {
   "cell_type": "code",
   "execution_count": 87,
   "metadata": {},
   "outputs": [],
   "source": [
    "def parse_order_time_rendered(file_name):\n",
    "    def parse_time(x):\n",
    "        return  datetime.strptime(str(x), '%Y%m%d%H%M%S')\n",
    "    def get_captain_identity(profile_payload):\n",
    "        try:\n",
    "            identity_index=[i for i, s in enumerate(profile_payload) if 'identity' in s][0]\n",
    "        except:\n",
    "            return None\n",
    "        captain_identity=list(profile_payload.values())[identity_index]\n",
    "        return captain_identity\n",
    "\n",
    "    def get_order_identity(event_prpos_payload):\n",
    "        try:\n",
    "            identity_index=[i for i, s in enumerate(event_prpos_payload) if 'orderId' in s][0]\n",
    "        except:\n",
    "            return None\n",
    "        captain_identity=list(event_prpos_payload.values())[identity_index]\n",
    "        return captain_identity\n",
    "    order_timer_rendered_raw=pd.read_json(file_name,lines=True)\n",
    "    order_timer_rendered_raw['time']=order_timer_rendered_raw['ts'].progress_apply(parse_time)\n",
    "    order_timer_rendered_raw.loc[:,'captain_id']=order_timer_rendered_raw['profile'].progress_apply(get_captain_identity)\n",
    "    order_timer_rendered_raw.loc[:,'order_id']=order_timer_rendered_raw['eventProps'].progress_apply(get_order_identity)\n",
    "    return order_timer_rendered_raw[['eventName','time','captain_id','order_id']]"
   ]
  },
  {
   "cell_type": "code",
   "execution_count": 88,
   "metadata": {
    "scrolled": true
   },
   "outputs": [
    {
     "name": "stderr",
     "output_type": "stream",
     "text": [
      "\n",
      "\n",
      "\n",
      "  0%|          | 0/98964 [00:00<?, ?it/s]\u001b[A\u001b[A\u001b[A\n",
      "\n",
      "\n",
      "  7%|▋         | 6876/98964 [00:00<00:01, 68759.74it/s]\u001b[A\u001b[A\u001b[A\n",
      "\n",
      "\n",
      " 15%|█▍        | 14411/98964 [00:00<00:01, 70611.54it/s]\u001b[A\u001b[A\u001b[A\n",
      "\n",
      "\n",
      " 22%|██▏       | 22237/98964 [00:00<00:01, 72742.11it/s]\u001b[A\u001b[A\u001b[A\n",
      "\n",
      "\n",
      " 30%|███       | 30046/98964 [00:00<00:00, 74266.45it/s]\u001b[A\u001b[A\u001b[A\n",
      "\n",
      "\n",
      " 39%|███▊      | 38203/98964 [00:00<00:00, 76315.96it/s]\u001b[A\u001b[A\u001b[A\n",
      "\n",
      "\n",
      " 46%|████▋     | 45876/98964 [00:00<00:00, 76437.76it/s]\u001b[A\u001b[A\u001b[A\n",
      "\n",
      "\n",
      " 54%|█████▍    | 53637/98964 [00:00<00:00, 76783.33it/s]\u001b[A\u001b[A\u001b[A\n",
      "\n",
      "\n",
      " 62%|██████▏   | 61290/98964 [00:00<00:00, 76705.25it/s]\u001b[A\u001b[A\u001b[A\n",
      "\n",
      "\n",
      " 70%|██████▉   | 69208/98964 [00:00<00:00, 77428.76it/s]\u001b[A\u001b[A\u001b[A\n",
      "\n",
      "\n",
      " 78%|███████▊  | 77206/98964 [00:01<00:00, 78174.98it/s]\u001b[A\u001b[A\u001b[A\n",
      "\n",
      "\n",
      " 86%|████████▌ | 85339/98964 [00:01<00:00, 79094.90it/s]\u001b[A\u001b[A\u001b[A\n",
      "\n",
      "\n",
      "100%|██████████| 98964/98964 [00:01<00:00, 76411.83it/s]\u001b[A\u001b[A\u001b[A\n",
      "\n",
      "\n",
      "\n",
      "  0%|          | 0/98964 [00:00<?, ?it/s]\u001b[A\u001b[A\u001b[A\n",
      "\n",
      "\n",
      " 30%|███       | 29772/98964 [00:00<00:00, 297717.44it/s]\u001b[A\u001b[A\u001b[A\n",
      "\n",
      "\n",
      " 64%|██████▍   | 63575/98964 [00:00<00:00, 308762.22it/s]\u001b[A\u001b[A\u001b[A\n",
      "\n",
      "\n",
      "100%|██████████| 98964/98964 [00:00<00:00, 314376.72it/s]\u001b[A\u001b[A\u001b[A\n",
      "\n",
      "\n",
      "\n",
      "  0%|          | 0/98964 [00:00<?, ?it/s]\u001b[A\u001b[A\u001b[A\n",
      "\n",
      "\n",
      " 23%|██▎       | 22417/98964 [00:00<00:00, 224168.61it/s]\u001b[A\u001b[A\u001b[A\n",
      "\n",
      "\n",
      " 52%|█████▏    | 51114/98964 [00:00<00:00, 239919.98it/s]\u001b[A\u001b[A\u001b[A\n",
      "\n",
      "\n",
      "100%|██████████| 98964/98964 [00:00<00:00, 263137.44it/s]\u001b[A\u001b[A\u001b[A\n"
     ]
    }
   ],
   "source": [
    "order_timer_rendered=parse_order_time_rendered(file_name)"
   ]
  },
  {
   "cell_type": "code",
   "execution_count": 89,
   "metadata": {},
   "outputs": [
    {
     "data": {
      "text/html": [
       "<div>\n",
       "<style scoped>\n",
       "    .dataframe tbody tr th:only-of-type {\n",
       "        vertical-align: middle;\n",
       "    }\n",
       "\n",
       "    .dataframe tbody tr th {\n",
       "        vertical-align: top;\n",
       "    }\n",
       "\n",
       "    .dataframe thead th {\n",
       "        text-align: right;\n",
       "    }\n",
       "</style>\n",
       "<table border=\"1\" class=\"dataframe\">\n",
       "  <thead>\n",
       "    <tr style=\"text-align: right;\">\n",
       "      <th></th>\n",
       "      <th>eventName</th>\n",
       "      <th>time</th>\n",
       "      <th>captain_id</th>\n",
       "      <th>order_id</th>\n",
       "    </tr>\n",
       "  </thead>\n",
       "  <tbody>\n",
       "    <tr>\n",
       "      <td>0</td>\n",
       "      <td>orderTimerRendered</td>\n",
       "      <td>2020-02-11 10:31:49</td>\n",
       "      <td>5d2a01ae06ee2c37f1f6841e,5d71c3a69f130346e2c86cfb</td>\n",
       "      <td>5e42353a81d9ff5123956319</td>\n",
       "    </tr>\n",
       "    <tr>\n",
       "      <td>1</td>\n",
       "      <td>orderTimerRendered</td>\n",
       "      <td>2020-02-11 10:31:51</td>\n",
       "      <td>5dd68c3661ebec69bf92edb6</td>\n",
       "      <td>5e4235036735ce3fc338bc39</td>\n",
       "    </tr>\n",
       "    <tr>\n",
       "      <td>2</td>\n",
       "      <td>orderTimerRendered</td>\n",
       "      <td>2020-02-11 10:31:51</td>\n",
       "      <td>5dd68c3661ebec69bf92edb6</td>\n",
       "      <td>5e4235036735ce3fc338bc39</td>\n",
       "    </tr>\n",
       "    <tr>\n",
       "      <td>3</td>\n",
       "      <td>orderTimerRendered</td>\n",
       "      <td>2020-02-11 10:31:55</td>\n",
       "      <td>5e0c51a5a10a71228f892a7c</td>\n",
       "      <td>5e42353f6735ce3fc338bd3c</td>\n",
       "    </tr>\n",
       "    <tr>\n",
       "      <td>4</td>\n",
       "      <td>orderTimerRendered</td>\n",
       "      <td>2020-02-11 10:31:53</td>\n",
       "      <td>5d3a9eb82f470b5bbc1fa69e,5d614bbba24c96105e22d83e</td>\n",
       "      <td>5e42353e6735ce3fc338bd35</td>\n",
       "    </tr>\n",
       "  </tbody>\n",
       "</table>\n",
       "</div>"
      ],
      "text/plain": [
       "            eventName                time  \\\n",
       "0  orderTimerRendered 2020-02-11 10:31:49   \n",
       "1  orderTimerRendered 2020-02-11 10:31:51   \n",
       "2  orderTimerRendered 2020-02-11 10:31:51   \n",
       "3  orderTimerRendered 2020-02-11 10:31:55   \n",
       "4  orderTimerRendered 2020-02-11 10:31:53   \n",
       "\n",
       "                                          captain_id                  order_id  \n",
       "0  5d2a01ae06ee2c37f1f6841e,5d71c3a69f130346e2c86cfb  5e42353a81d9ff5123956319  \n",
       "1                           5dd68c3661ebec69bf92edb6  5e4235036735ce3fc338bc39  \n",
       "2                           5dd68c3661ebec69bf92edb6  5e4235036735ce3fc338bc39  \n",
       "3                           5e0c51a5a10a71228f892a7c  5e42353f6735ce3fc338bd3c  \n",
       "4  5d3a9eb82f470b5bbc1fa69e,5d614bbba24c96105e22d83e  5e42353e6735ce3fc338bd35  "
      ]
     },
     "execution_count": 89,
     "metadata": {},
     "output_type": "execute_result"
    }
   ],
   "source": [
    "order_timer_rendered.head()"
   ]
  },
  {
   "cell_type": "code",
   "execution_count": 85,
   "metadata": {},
   "outputs": [
    {
     "data": {
      "text/html": [
       "<div>\n",
       "<style scoped>\n",
       "    .dataframe tbody tr th:only-of-type {\n",
       "        vertical-align: middle;\n",
       "    }\n",
       "\n",
       "    .dataframe tbody tr th {\n",
       "        vertical-align: top;\n",
       "    }\n",
       "\n",
       "    .dataframe thead th {\n",
       "        text-align: right;\n",
       "    }\n",
       "</style>\n",
       "<table border=\"1\" class=\"dataframe\">\n",
       "  <thead>\n",
       "    <tr style=\"text-align: right;\">\n",
       "      <th></th>\n",
       "      <th>eventName</th>\n",
       "      <th>ts</th>\n",
       "      <th>eventProps</th>\n",
       "      <th>profile</th>\n",
       "      <th>deviceInfo</th>\n",
       "      <th>time</th>\n",
       "      <th>captain_id</th>\n",
       "      <th>order_id</th>\n",
       "    </tr>\n",
       "  </thead>\n",
       "  <tbody>\n",
       "    <tr>\n",
       "      <td>0</td>\n",
       "      <td>orderTimerRendered</td>\n",
       "      <td>20200211103149</td>\n",
       "      <td>{'area': '----', 'cluster': 'BRS nagar', 'city...</td>\n",
       "      <td>{'all_identities': ['randhirsingh55300@gmail.c...</td>\n",
       "      <td>{'osVersion': '9', 'sdkVersion': '30601', 'mak...</td>\n",
       "      <td>2020-02-11 10:31:49</td>\n",
       "      <td>5d2a01ae06ee2c37f1f6841e,5d71c3a69f130346e2c86cfb</td>\n",
       "      <td>5e42353a81d9ff5123956319</td>\n",
       "    </tr>\n",
       "    <tr>\n",
       "      <td>1</td>\n",
       "      <td>orderTimerRendered</td>\n",
       "      <td>20200211103151</td>\n",
       "      <td>{'area': '----', 'cluster': '', 'city': 'Banga...</td>\n",
       "      <td>{'all_identities': ['5dd68c3661ebec69bf92edb6'...</td>\n",
       "      <td>{'osVersion': '9', 'sdkVersion': '30601', 'mak...</td>\n",
       "      <td>2020-02-11 10:31:51</td>\n",
       "      <td>5dd68c3661ebec69bf92edb6</td>\n",
       "      <td>5e4235036735ce3fc338bc39</td>\n",
       "    </tr>\n",
       "  </tbody>\n",
       "</table>\n",
       "</div>"
      ],
      "text/plain": [
       "            eventName              ts  \\\n",
       "0  orderTimerRendered  20200211103149   \n",
       "1  orderTimerRendered  20200211103151   \n",
       "\n",
       "                                          eventProps  \\\n",
       "0  {'area': '----', 'cluster': 'BRS nagar', 'city...   \n",
       "1  {'area': '----', 'cluster': '', 'city': 'Banga...   \n",
       "\n",
       "                                             profile  \\\n",
       "0  {'all_identities': ['randhirsingh55300@gmail.c...   \n",
       "1  {'all_identities': ['5dd68c3661ebec69bf92edb6'...   \n",
       "\n",
       "                                          deviceInfo                time  \\\n",
       "0  {'osVersion': '9', 'sdkVersion': '30601', 'mak... 2020-02-11 10:31:49   \n",
       "1  {'osVersion': '9', 'sdkVersion': '30601', 'mak... 2020-02-11 10:31:51   \n",
       "\n",
       "                                          captain_id                  order_id  \n",
       "0  5d2a01ae06ee2c37f1f6841e,5d71c3a69f130346e2c86cfb  5e42353a81d9ff5123956319  \n",
       "1                           5dd68c3661ebec69bf92edb6  5e4235036735ce3fc338bc39  "
      ]
     },
     "execution_count": 85,
     "metadata": {},
     "output_type": "execute_result"
    }
   ],
   "source": [
    "order_timer_rendered_raw.head(2)"
   ]
  },
  {
   "cell_type": "code",
   "execution_count": 86,
   "metadata": {},
   "outputs": [
    {
     "data": {
      "text/html": [
       "<div>\n",
       "<style scoped>\n",
       "    .dataframe tbody tr th:only-of-type {\n",
       "        vertical-align: middle;\n",
       "    }\n",
       "\n",
       "    .dataframe tbody tr th {\n",
       "        vertical-align: top;\n",
       "    }\n",
       "\n",
       "    .dataframe thead th {\n",
       "        text-align: right;\n",
       "    }\n",
       "</style>\n",
       "<table border=\"1\" class=\"dataframe\">\n",
       "  <thead>\n",
       "    <tr style=\"text-align: right;\">\n",
       "      <th></th>\n",
       "      <th>eventName</th>\n",
       "      <th>time</th>\n",
       "      <th>captain_id</th>\n",
       "      <th>order_id</th>\n",
       "    </tr>\n",
       "  </thead>\n",
       "  <tbody>\n",
       "    <tr>\n",
       "      <td>0</td>\n",
       "      <td>orderTimerRendered</td>\n",
       "      <td>2020-02-11 10:31:49</td>\n",
       "      <td>5d2a01ae06ee2c37f1f6841e,5d71c3a69f130346e2c86cfb</td>\n",
       "      <td>5e42353a81d9ff5123956319</td>\n",
       "    </tr>\n",
       "    <tr>\n",
       "      <td>1</td>\n",
       "      <td>orderTimerRendered</td>\n",
       "      <td>2020-02-11 10:31:51</td>\n",
       "      <td>5dd68c3661ebec69bf92edb6</td>\n",
       "      <td>5e4235036735ce3fc338bc39</td>\n",
       "    </tr>\n",
       "  </tbody>\n",
       "</table>\n",
       "</div>"
      ],
      "text/plain": [
       "            eventName                time  \\\n",
       "0  orderTimerRendered 2020-02-11 10:31:49   \n",
       "1  orderTimerRendered 2020-02-11 10:31:51   \n",
       "\n",
       "                                          captain_id                  order_id  \n",
       "0  5d2a01ae06ee2c37f1f6841e,5d71c3a69f130346e2c86cfb  5e42353a81d9ff5123956319  \n",
       "1                           5dd68c3661ebec69bf92edb6  5e4235036735ce3fc338bc39  "
      ]
     },
     "execution_count": 86,
     "metadata": {},
     "output_type": "execute_result"
    }
   ],
   "source": [
    "order_timer_rendered_raw[['eventName','time','captain_id','order_id']].head(2)"
   ]
  },
  {
   "cell_type": "code",
   "execution_count": 83,
   "metadata": {},
   "outputs": [
    {
     "data": {
      "text/plain": [
       "Timestamp('2020-02-11 00:00:10')"
      ]
     },
     "execution_count": 83,
     "metadata": {},
     "output_type": "execute_result"
    },
    {
     "data": {
      "text/plain": [
       "Timestamp('2020-02-11 23:59:57')"
      ]
     },
     "execution_count": 83,
     "metadata": {},
     "output_type": "execute_result"
    }
   ],
   "source": [
    "order_timer_rendered_raw.time.min()\n",
    "order_timer_rendered_raw.time.max()"
   ]
  },
  {
   "cell_type": "code",
   "execution_count": 76,
   "metadata": {},
   "outputs": [],
   "source": []
  },
  {
   "cell_type": "code",
   "execution_count": 77,
   "metadata": {},
   "outputs": [
    {
     "data": {
      "text/plain": [
       "{'area': '----',\n",
       " 'cluster': '',\n",
       " 'city': 'Bangalore',\n",
       " 'Device rooted': 'false',\n",
       " 'regCity': 'Bangalore',\n",
       " 'CT Source': 'Mobile',\n",
       " 'latitude': 12.711327,\n",
       " 'longitude': 77.699585,\n",
       " 'CT Latitude': 12.711327,\n",
       " 'CT Longitude': 77.699585,\n",
       " 'occurred_date': '$D_1581397311',\n",
       " 'hhmmss': '103151',\n",
       " 'orderId': '5e4235036735ce3fc338bc39',\n",
       " 'yyyymmdd': '20200211',\n",
       " 'networkspeed': '-1.0',\n",
       " 'CT App Version': '3.10.2',\n",
       " 'epoch': '1581397311990'}"
      ]
     },
     "execution_count": 77,
     "metadata": {},
     "output_type": "execute_result"
    },
    {
     "data": {
      "text/plain": [
       "'5e4235036735ce3fc338bc39'"
      ]
     },
     "execution_count": 77,
     "metadata": {},
     "output_type": "execute_result"
    }
   ],
   "source": [
    "order_timer_rendered_raw['eventProps'].iloc[2]\n",
    "get_order_identity(order_timer_rendered_raw['eventProps'].iloc[2])"
   ]
  },
  {
   "cell_type": "code",
   "execution_count": 74,
   "metadata": {},
   "outputs": [
    {
     "data": {
      "text/plain": [
       "'5e4235036735ce3fc338bc39'"
      ]
     },
     "execution_count": 74,
     "metadata": {},
     "output_type": "execute_result"
    }
   ],
   "source": [
    "eventPropsPayload=order_timer_rendered_raw['eventProps'].iloc[2]\n",
    "id_index=[i for i, s in enumerate(eventPropsPayload) if 'orderId' in s][0]\n",
    "list(eventPropsPayload.values())[id_index]"
   ]
  },
  {
   "cell_type": "code",
   "execution_count": null,
   "metadata": {},
   "outputs": [],
   "source": []
  },
  {
   "cell_type": "code",
   "execution_count": 31,
   "metadata": {},
   "outputs": [
    {
     "data": {
      "text/plain": [
       "{'all_identities': ['5dd68c3661ebec69bf92edb6'],\n",
       " 'identity': '5dd68c3661ebec69bf92edb6',\n",
       " 'platform': 'Android',\n",
       " 'phone': 919148338065,\n",
       " 'name': 'Veeresh H',\n",
       " 'push_token': 'fcm:e8Mr0IJQvd4:APA91bEpYaTZb7EiAfnRZ5MEsFmWaSMLXHreR2_K_8p30GEBAfMm1KO2Rgbjiok9KVqToeEOfBoLrmhoT0Y7AHDPZ4F15g5BcvXCtbsmuBTIh_Xc0ZHMx-TS5FJbz9tF8EG6_0EPKt-i'}"
      ]
     },
     "execution_count": 31,
     "metadata": {},
     "output_type": "execute_result"
    },
    {
     "data": {
      "text/plain": [
       "[False, True, False, False, False, False]"
      ]
     },
     "execution_count": 31,
     "metadata": {},
     "output_type": "execute_result"
    }
   ],
   "source": [
    "profile_payload=order_timer_rendered_raw['profile'].iloc[2]\n",
    "profile_payload\n",
    "[\"identity\" in x for i,x in enumerate(profile_payload)]"
   ]
  },
  {
   "cell_type": "code",
   "execution_count": 42,
   "metadata": {},
   "outputs": [
    {
     "data": {
      "text/plain": [
       "'5dd68c3661ebec69bf92edb6'"
      ]
     },
     "execution_count": 42,
     "metadata": {},
     "output_type": "execute_result"
    },
    {
     "name": "stdout",
     "output_type": "stream",
     "text": [
      "all_identities\n",
      "identity\n",
      "platform\n",
      "phone\n",
      "name\n",
      "push_token\n"
     ]
    }
   ],
   "source": [
    "list(profile_payload.values())[1]\n",
    "for i,x  in enumerate(profile_payload):\n",
    "    print(x)\n",
    "    "
   ]
  },
  {
   "cell_type": "code",
   "execution_count": 59,
   "metadata": {},
   "outputs": [
    {
     "name": "stderr",
     "output_type": "stream",
     "text": [
      "\n",
      "\n",
      "\n",
      "  0%|          | 0/98964 [00:00<?, ?it/s]\u001b[A\u001b[A\u001b[A\n",
      "\n",
      "\n",
      " 25%|██▌       | 25103/98964 [00:00<00:00, 251027.85it/s]\u001b[A\u001b[A\u001b[A\n",
      "\n",
      "\n",
      " 59%|█████▉    | 58284/98964 [00:00<00:00, 270805.93it/s]\u001b[A\u001b[A\u001b[A\n",
      "\n",
      "\n",
      "100%|██████████| 98964/98964 [00:00<00:00, 290306.66it/s]\u001b[A\u001b[A\u001b[A\n"
     ]
    }
   ],
   "source": []
  },
  {
   "cell_type": "code",
   "execution_count": 67,
   "metadata": {},
   "outputs": [
    {
     "data": {
      "text/plain": [
       "(98964, 7)"
      ]
     },
     "execution_count": 67,
     "metadata": {},
     "output_type": "execute_result"
    }
   ],
   "source": [
    "order_timer_rendered_raw.shape"
   ]
  },
  {
   "cell_type": "code",
   "execution_count": 75,
   "metadata": {},
   "outputs": [
    {
     "data": {
      "text/html": [
       "<div>\n",
       "<style scoped>\n",
       "    .dataframe tbody tr th:only-of-type {\n",
       "        vertical-align: middle;\n",
       "    }\n",
       "\n",
       "    .dataframe tbody tr th {\n",
       "        vertical-align: top;\n",
       "    }\n",
       "\n",
       "    .dataframe thead th {\n",
       "        text-align: right;\n",
       "    }\n",
       "</style>\n",
       "<table border=\"1\" class=\"dataframe\">\n",
       "  <thead>\n",
       "    <tr style=\"text-align: right;\">\n",
       "      <th></th>\n",
       "      <th>eventName</th>\n",
       "      <th>ts</th>\n",
       "      <th>eventProps</th>\n",
       "      <th>profile</th>\n",
       "      <th>deviceInfo</th>\n",
       "      <th>time</th>\n",
       "      <th>captain_id</th>\n",
       "    </tr>\n",
       "  </thead>\n",
       "  <tbody>\n",
       "    <tr>\n",
       "      <td>0</td>\n",
       "      <td>orderTimerRendered</td>\n",
       "      <td>20200211103149</td>\n",
       "      <td>{'area': '----', 'cluster': 'BRS nagar', 'city...</td>\n",
       "      <td>{'all_identities': ['randhirsingh55300@gmail.c...</td>\n",
       "      <td>{'osVersion': '9', 'sdkVersion': '30601', 'mak...</td>\n",
       "      <td>2020-02-11 10:31:49</td>\n",
       "      <td>5d2a01ae06ee2c37f1f6841e,5d71c3a69f130346e2c86cfb</td>\n",
       "    </tr>\n",
       "    <tr>\n",
       "      <td>1</td>\n",
       "      <td>orderTimerRendered</td>\n",
       "      <td>20200211103151</td>\n",
       "      <td>{'area': '----', 'cluster': '', 'city': 'Banga...</td>\n",
       "      <td>{'all_identities': ['5dd68c3661ebec69bf92edb6'...</td>\n",
       "      <td>{'osVersion': '9', 'sdkVersion': '30601', 'mak...</td>\n",
       "      <td>2020-02-11 10:31:51</td>\n",
       "      <td>5dd68c3661ebec69bf92edb6</td>\n",
       "    </tr>\n",
       "    <tr>\n",
       "      <td>2</td>\n",
       "      <td>orderTimerRendered</td>\n",
       "      <td>20200211103151</td>\n",
       "      <td>{'area': '----', 'cluster': '', 'city': 'Banga...</td>\n",
       "      <td>{'all_identities': ['5dd68c3661ebec69bf92edb6'...</td>\n",
       "      <td>{'osVersion': '9', 'sdkVersion': '30601', 'mak...</td>\n",
       "      <td>2020-02-11 10:31:51</td>\n",
       "      <td>5dd68c3661ebec69bf92edb6</td>\n",
       "    </tr>\n",
       "    <tr>\n",
       "      <td>3</td>\n",
       "      <td>orderTimerRendered</td>\n",
       "      <td>20200211103155</td>\n",
       "      <td>{'area': '----', 'cluster': 'Hex 3', 'city': '...</td>\n",
       "      <td>{'all_identities': ['5e0c51a5a10a71228f892a7c'...</td>\n",
       "      <td>{'osVersion': '9', 'sdkVersion': '30601', 'mak...</td>\n",
       "      <td>2020-02-11 10:31:55</td>\n",
       "      <td>5e0c51a5a10a71228f892a7c</td>\n",
       "    </tr>\n",
       "    <tr>\n",
       "      <td>4</td>\n",
       "      <td>orderTimerRendered</td>\n",
       "      <td>20200211103153</td>\n",
       "      <td>{'area': '----', 'cluster': 'SH-Rosalina', 'ci...</td>\n",
       "      <td>{'all_identities': ['5d3a9eb82f470b5bbc1fa69e'...</td>\n",
       "      <td>{'osVersion': '8.0.0', 'sdkVersion': '30601', ...</td>\n",
       "      <td>2020-02-11 10:31:53</td>\n",
       "      <td>5d3a9eb82f470b5bbc1fa69e,5d614bbba24c96105e22d83e</td>\n",
       "    </tr>\n",
       "    <tr>\n",
       "      <td>...</td>\n",
       "      <td>...</td>\n",
       "      <td>...</td>\n",
       "      <td>...</td>\n",
       "      <td>...</td>\n",
       "      <td>...</td>\n",
       "      <td>...</td>\n",
       "      <td>...</td>\n",
       "    </tr>\n",
       "    <tr>\n",
       "      <td>98959</td>\n",
       "      <td>orderTimerRendered</td>\n",
       "      <td>20200211234246</td>\n",
       "      <td>{'area': '----', 'cluster': 'BTM', 'city': 'Ba...</td>\n",
       "      <td>{'all_identities': ['5d19f75911e17032dce9505c'...</td>\n",
       "      <td>{'osVersion': '8.1.0', 'sdkVersion': '30601', ...</td>\n",
       "      <td>2020-02-11 23:42:46</td>\n",
       "      <td>5d19f75911e17032dce9505c</td>\n",
       "    </tr>\n",
       "    <tr>\n",
       "      <td>98960</td>\n",
       "      <td>orderTimerRendered</td>\n",
       "      <td>20200211234256</td>\n",
       "      <td>{'area': '----', 'cluster': 'BTM', 'city': 'Ba...</td>\n",
       "      <td>{'all_identities': ['5d19f75911e17032dce9505c'...</td>\n",
       "      <td>{'osVersion': '8.1.0', 'sdkVersion': '30601', ...</td>\n",
       "      <td>2020-02-11 23:42:56</td>\n",
       "      <td>5d19f75911e17032dce9505c</td>\n",
       "    </tr>\n",
       "    <tr>\n",
       "      <td>98961</td>\n",
       "      <td>orderTimerRendered</td>\n",
       "      <td>20200211220509</td>\n",
       "      <td>{'area': '----', 'cluster': 'Kishanpura', 'cit...</td>\n",
       "      <td>{'all_identities': ['5cc6a37fadc5f92951ee46c2'...</td>\n",
       "      <td>{'osVersion': '8.0.0', 'sdkVersion': '30601', ...</td>\n",
       "      <td>2020-02-11 22:05:09</td>\n",
       "      <td>5cc6a37fadc5f92951ee46c2,5d08b09a1c64cc470f61de8e</td>\n",
       "    </tr>\n",
       "    <tr>\n",
       "      <td>98962</td>\n",
       "      <td>orderTimerRendered</td>\n",
       "      <td>20200211210331</td>\n",
       "      <td>{'cluster': 'Mathikere', 'city': 'Bangalore', ...</td>\n",
       "      <td>{'all_identities': ['5ad1e59cf7284039532fbb42'...</td>\n",
       "      <td>{'osVersion': '7.0', 'sdkVersion': '30601', 'm...</td>\n",
       "      <td>2020-02-11 21:03:31</td>\n",
       "      <td>5ad1e59cf7284039532fbb42</td>\n",
       "    </tr>\n",
       "    <tr>\n",
       "      <td>98963</td>\n",
       "      <td>orderTimerRendered</td>\n",
       "      <td>20200211220002</td>\n",
       "      <td>{'area': '----', 'cluster': '', 'city': 'Banga...</td>\n",
       "      <td>{'all_identities': ['58cbbb3ed421dc596ed7f258'...</td>\n",
       "      <td>{'osVersion': '9', 'sdkVersion': '30601', 'mak...</td>\n",
       "      <td>2020-02-11 22:00:02</td>\n",
       "      <td>58cbbb3ed421dc596ed7f258,59798e185dfa38d405132be1</td>\n",
       "    </tr>\n",
       "  </tbody>\n",
       "</table>\n",
       "<p>97981 rows × 7 columns</p>\n",
       "</div>"
      ],
      "text/plain": [
       "                eventName              ts  \\\n",
       "0      orderTimerRendered  20200211103149   \n",
       "1      orderTimerRendered  20200211103151   \n",
       "2      orderTimerRendered  20200211103151   \n",
       "3      orderTimerRendered  20200211103155   \n",
       "4      orderTimerRendered  20200211103153   \n",
       "...                   ...             ...   \n",
       "98959  orderTimerRendered  20200211234246   \n",
       "98960  orderTimerRendered  20200211234256   \n",
       "98961  orderTimerRendered  20200211220509   \n",
       "98962  orderTimerRendered  20200211210331   \n",
       "98963  orderTimerRendered  20200211220002   \n",
       "\n",
       "                                              eventProps  \\\n",
       "0      {'area': '----', 'cluster': 'BRS nagar', 'city...   \n",
       "1      {'area': '----', 'cluster': '', 'city': 'Banga...   \n",
       "2      {'area': '----', 'cluster': '', 'city': 'Banga...   \n",
       "3      {'area': '----', 'cluster': 'Hex 3', 'city': '...   \n",
       "4      {'area': '----', 'cluster': 'SH-Rosalina', 'ci...   \n",
       "...                                                  ...   \n",
       "98959  {'area': '----', 'cluster': 'BTM', 'city': 'Ba...   \n",
       "98960  {'area': '----', 'cluster': 'BTM', 'city': 'Ba...   \n",
       "98961  {'area': '----', 'cluster': 'Kishanpura', 'cit...   \n",
       "98962  {'cluster': 'Mathikere', 'city': 'Bangalore', ...   \n",
       "98963  {'area': '----', 'cluster': '', 'city': 'Banga...   \n",
       "\n",
       "                                                 profile  \\\n",
       "0      {'all_identities': ['randhirsingh55300@gmail.c...   \n",
       "1      {'all_identities': ['5dd68c3661ebec69bf92edb6'...   \n",
       "2      {'all_identities': ['5dd68c3661ebec69bf92edb6'...   \n",
       "3      {'all_identities': ['5e0c51a5a10a71228f892a7c'...   \n",
       "4      {'all_identities': ['5d3a9eb82f470b5bbc1fa69e'...   \n",
       "...                                                  ...   \n",
       "98959  {'all_identities': ['5d19f75911e17032dce9505c'...   \n",
       "98960  {'all_identities': ['5d19f75911e17032dce9505c'...   \n",
       "98961  {'all_identities': ['5cc6a37fadc5f92951ee46c2'...   \n",
       "98962  {'all_identities': ['5ad1e59cf7284039532fbb42'...   \n",
       "98963  {'all_identities': ['58cbbb3ed421dc596ed7f258'...   \n",
       "\n",
       "                                              deviceInfo                time  \\\n",
       "0      {'osVersion': '9', 'sdkVersion': '30601', 'mak... 2020-02-11 10:31:49   \n",
       "1      {'osVersion': '9', 'sdkVersion': '30601', 'mak... 2020-02-11 10:31:51   \n",
       "2      {'osVersion': '9', 'sdkVersion': '30601', 'mak... 2020-02-11 10:31:51   \n",
       "3      {'osVersion': '9', 'sdkVersion': '30601', 'mak... 2020-02-11 10:31:55   \n",
       "4      {'osVersion': '8.0.0', 'sdkVersion': '30601', ... 2020-02-11 10:31:53   \n",
       "...                                                  ...                 ...   \n",
       "98959  {'osVersion': '8.1.0', 'sdkVersion': '30601', ... 2020-02-11 23:42:46   \n",
       "98960  {'osVersion': '8.1.0', 'sdkVersion': '30601', ... 2020-02-11 23:42:56   \n",
       "98961  {'osVersion': '8.0.0', 'sdkVersion': '30601', ... 2020-02-11 22:05:09   \n",
       "98962  {'osVersion': '7.0', 'sdkVersion': '30601', 'm... 2020-02-11 21:03:31   \n",
       "98963  {'osVersion': '9', 'sdkVersion': '30601', 'mak... 2020-02-11 22:00:02   \n",
       "\n",
       "                                              captain_id  \n",
       "0      5d2a01ae06ee2c37f1f6841e,5d71c3a69f130346e2c86cfb  \n",
       "1                               5dd68c3661ebec69bf92edb6  \n",
       "2                               5dd68c3661ebec69bf92edb6  \n",
       "3                               5e0c51a5a10a71228f892a7c  \n",
       "4      5d3a9eb82f470b5bbc1fa69e,5d614bbba24c96105e22d83e  \n",
       "...                                                  ...  \n",
       "98959                           5d19f75911e17032dce9505c  \n",
       "98960                           5d19f75911e17032dce9505c  \n",
       "98961  5cc6a37fadc5f92951ee46c2,5d08b09a1c64cc470f61de8e  \n",
       "98962                           5ad1e59cf7284039532fbb42  \n",
       "98963  58cbbb3ed421dc596ed7f258,59798e185dfa38d405132be1  \n",
       "\n",
       "[97981 rows x 7 columns]"
      ]
     },
     "execution_count": 75,
     "metadata": {},
     "output_type": "execute_result"
    },
    {
     "data": {
      "text/plain": [
       "{'platform': 'Android',\n",
       " 'phone': 919592389008,\n",
       " 'name': 'Rajat Kumar',\n",
       " 'push_token': 'fcm:dozSVanuEmw:APA91bEWr_Lxp_dSjVK4JIZSA6N_WS_Z3J9WswiTPi_Q8jFEzfkcUFH_x9JEj_hjppAxhAH0oFUFKKG8qvYEgwIHRTYXyuGfL013cI_LBqh7ZJIqlhFsdZ-EmrBSkj5JlKclyu3QdGcl'}"
      ]
     },
     "execution_count": 75,
     "metadata": {},
     "output_type": "execute_result"
    },
    {
     "data": {
      "text/plain": [
       "{'all_identities': ['594b664185992d305990c6f0',\n",
       "  'ak23091990@gmail.com',\n",
       "  '5be433ca246eb83dabc12404',\n",
       "  'velanganni1958@gmail.com'],\n",
       " 'identity': '594b664185992d305990c6f0,5be433ca246eb83dabc12404',\n",
       " 'platform': 'Android',\n",
       " 'phone': 919886712702,\n",
       " 'name': 'vinay  S',\n",
       " 'email': 'ak23091990@gmail.com',\n",
       " 'push_token': 'fcm:ci9BOXKU6M8:APA91bFCnBHpCuy-FZ5NfWoLseoWVF4mTaB6hh-6YILRPIzQzliMraYby9x1OGBnpZH1yA5UgCNWwDGrYPs0xE4RQazaTisTuqAXbpG3VrJdXaYZFJkb0zgez-Xdagd14yBnYlR_kqe-'}"
      ]
     },
     "execution_count": 75,
     "metadata": {},
     "output_type": "execute_result"
    }
   ],
   "source": [
    "order_timer_rendered_raw[~order_timer_rendered_raw.captain_id.isna()]\n",
    "order_timer_rendered_raw.iloc[327]['profile']\n",
    "order_timer_rendered_raw.iloc[326]['profile']"
   ]
  },
  {
   "cell_type": "code",
   "execution_count": 58,
   "metadata": {},
   "outputs": [
    {
     "name": "stdout",
     "output_type": "stream",
     "text": [
      "5dd68c3661ebec69bf92edb6\n"
     ]
    }
   ],
   "source": [
    "# print(a)\n",
    "# import re\n",
    "# m = re.search('[0-9a-fA-F]{10,}', a)\n",
    "# if m:\n",
    "#     found = m.group(0)\n",
    "#     print(found) "
   ]
  },
  {
   "cell_type": "code",
   "execution_count": 55,
   "metadata": {},
   "outputs": [
    {
     "data": {
      "text/plain": [
       "0        {'all_identities': ['randhirsingh55300@gmail.c...\n",
       "1        {'all_identities': ['5dd68c3661ebec69bf92edb6'...\n",
       "2        {'all_identities': ['5dd68c3661ebec69bf92edb6'...\n",
       "3        {'all_identities': ['5e0c51a5a10a71228f892a7c'...\n",
       "4        {'all_identities': ['5d3a9eb82f470b5bbc1fa69e'...\n",
       "                               ...                        \n",
       "98959    {'all_identities': ['5d19f75911e17032dce9505c'...\n",
       "98960    {'all_identities': ['5d19f75911e17032dce9505c'...\n",
       "98961    {'all_identities': ['5cc6a37fadc5f92951ee46c2'...\n",
       "98962    {'all_identities': ['5ad1e59cf7284039532fbb42'...\n",
       "98963    {'all_identities': ['58cbbb3ed421dc596ed7f258'...\n",
       "Name: profile, Length: 98964, dtype: object"
      ]
     },
     "execution_count": 55,
     "metadata": {},
     "output_type": "execute_result"
    }
   ],
   "source": [
    "order_timer_rendered_raw['profile'].progress"
   ]
  },
  {
   "cell_type": "code",
   "execution_count": 57,
   "metadata": {},
   "outputs": [
    {
     "data": {
      "text/plain": [
       "{'all_identities': ['randhirsingh55300@gmail.com',\n",
       "  '5d2a01ae06ee2c37f1f6841e',\n",
       "  '5d71c3a69f130346e2c86cfb'],\n",
       " 'identity': '5d2a01ae06ee2c37f1f6841e,5d71c3a69f130346e2c86cfb',\n",
       " 'platform': 'Android',\n",
       " 'phone': 918968755300,\n",
       " 'name': 'Barinder Singh',\n",
       " 'email': 'randhirsingh55300@gmail.com',\n",
       " 'push_token': 'fcm:d846nZvuiHs:APA91bGbUMMTTDn3CqFfZ7e6E38V9wXXzZ4bOThnxuXbvQgBXjKo_nED0HCRvZvzbqT2SzgFS6bYtj9KVjRJSDtPEbAGabJ5C_jduMWGJ282XHimjD40GhidDczLAXlrz3v4Vvu5gs6i'}"
      ]
     },
     "execution_count": 57,
     "metadata": {},
     "output_type": "execute_result"
    }
   ],
   "source": [
    "order_timer_rendered_raw['profile'].iloc[0]"
   ]
  },
  {
   "cell_type": "code",
   "execution_count": 56,
   "metadata": {},
   "outputs": [
    {
     "data": {
      "text/plain": [
       "'5d2a01ae06ee2c37f1f6841e,5d71c3a69f130346e2c86cfb'"
      ]
     },
     "execution_count": 56,
     "metadata": {},
     "output_type": "execute_result"
    }
   ],
   "source": [
    "get_captain_identity(order_timer_rendered_raw['profile'].iloc[0])"
   ]
  },
  {
   "cell_type": "code",
   "execution_count": 53,
   "metadata": {},
   "outputs": [
    {
     "data": {
      "text/plain": [
       "'5dd68c3661ebec69bf92edb6'"
      ]
     },
     "execution_count": 53,
     "metadata": {},
     "output_type": "execute_result"
    }
   ],
   "source": [
    "get_captain_identity(order_timer_rendered_raw['profile'].iloc[2])"
   ]
  },
  {
   "cell_type": "code",
   "execution_count": 24,
   "metadata": {},
   "outputs": [
    {
     "data": {
      "text/plain": [
       "{'area': '----',\n",
       " 'cluster': '',\n",
       " 'city': 'Bangalore',\n",
       " 'Device rooted': 'false',\n",
       " 'regCity': 'Bangalore',\n",
       " 'CT Source': 'Mobile',\n",
       " 'latitude': 12.711327,\n",
       " 'longitude': 77.699585,\n",
       " 'CT Latitude': 12.711327,\n",
       " 'CT Longitude': 77.699585,\n",
       " 'occurred_date': '$D_1581397311',\n",
       " 'hhmmss': '103151',\n",
       " 'orderId': '5e4235036735ce3fc338bc39',\n",
       " 'yyyymmdd': '20200211',\n",
       " 'networkspeed': '-1.0',\n",
       " 'CT App Version': '3.10.2',\n",
       " 'epoch': '1581397311990'}"
      ]
     },
     "execution_count": 24,
     "metadata": {},
     "output_type": "execute_result"
    }
   ],
   "source": [
    "order_timer_rendered_raw['eventProps'].iloc[2]"
   ]
  },
  {
   "cell_type": "code",
   "execution_count": 23,
   "metadata": {},
   "outputs": [
    {
     "data": {
      "text/html": [
       "<div>\n",
       "<style scoped>\n",
       "    .dataframe tbody tr th:only-of-type {\n",
       "        vertical-align: middle;\n",
       "    }\n",
       "\n",
       "    .dataframe tbody tr th {\n",
       "        vertical-align: top;\n",
       "    }\n",
       "\n",
       "    .dataframe thead th {\n",
       "        text-align: right;\n",
       "    }\n",
       "</style>\n",
       "<table border=\"1\" class=\"dataframe\">\n",
       "  <thead>\n",
       "    <tr style=\"text-align: right;\">\n",
       "      <th></th>\n",
       "      <th>eventName</th>\n",
       "      <th>time</th>\n",
       "    </tr>\n",
       "  </thead>\n",
       "  <tbody>\n",
       "    <tr>\n",
       "      <td>0</td>\n",
       "      <td>orderTimerRendered</td>\n",
       "      <td>2020-02-11 10:31:49</td>\n",
       "    </tr>\n",
       "    <tr>\n",
       "      <td>1</td>\n",
       "      <td>orderTimerRendered</td>\n",
       "      <td>2020-02-11 10:31:51</td>\n",
       "    </tr>\n",
       "    <tr>\n",
       "      <td>2</td>\n",
       "      <td>orderTimerRendered</td>\n",
       "      <td>2020-02-11 10:31:51</td>\n",
       "    </tr>\n",
       "    <tr>\n",
       "      <td>3</td>\n",
       "      <td>orderTimerRendered</td>\n",
       "      <td>2020-02-11 10:31:55</td>\n",
       "    </tr>\n",
       "    <tr>\n",
       "      <td>4</td>\n",
       "      <td>orderTimerRendered</td>\n",
       "      <td>2020-02-11 10:31:53</td>\n",
       "    </tr>\n",
       "    <tr>\n",
       "      <td>...</td>\n",
       "      <td>...</td>\n",
       "      <td>...</td>\n",
       "    </tr>\n",
       "    <tr>\n",
       "      <td>98959</td>\n",
       "      <td>orderTimerRendered</td>\n",
       "      <td>2020-02-11 23:42:46</td>\n",
       "    </tr>\n",
       "    <tr>\n",
       "      <td>98960</td>\n",
       "      <td>orderTimerRendered</td>\n",
       "      <td>2020-02-11 23:42:56</td>\n",
       "    </tr>\n",
       "    <tr>\n",
       "      <td>98961</td>\n",
       "      <td>orderTimerRendered</td>\n",
       "      <td>2020-02-11 22:05:09</td>\n",
       "    </tr>\n",
       "    <tr>\n",
       "      <td>98962</td>\n",
       "      <td>orderTimerRendered</td>\n",
       "      <td>2020-02-11 21:03:31</td>\n",
       "    </tr>\n",
       "    <tr>\n",
       "      <td>98963</td>\n",
       "      <td>orderTimerRendered</td>\n",
       "      <td>2020-02-11 22:00:02</td>\n",
       "    </tr>\n",
       "  </tbody>\n",
       "</table>\n",
       "<p>98964 rows × 2 columns</p>\n",
       "</div>"
      ],
      "text/plain": [
       "                eventName                time\n",
       "0      orderTimerRendered 2020-02-11 10:31:49\n",
       "1      orderTimerRendered 2020-02-11 10:31:51\n",
       "2      orderTimerRendered 2020-02-11 10:31:51\n",
       "3      orderTimerRendered 2020-02-11 10:31:55\n",
       "4      orderTimerRendered 2020-02-11 10:31:53\n",
       "...                   ...                 ...\n",
       "98959  orderTimerRendered 2020-02-11 23:42:46\n",
       "98960  orderTimerRendered 2020-02-11 23:42:56\n",
       "98961  orderTimerRendered 2020-02-11 22:05:09\n",
       "98962  orderTimerRendered 2020-02-11 21:03:31\n",
       "98963  orderTimerRendered 2020-02-11 22:00:02\n",
       "\n",
       "[98964 rows x 2 columns]"
      ]
     },
     "execution_count": 23,
     "metadata": {},
     "output_type": "execute_result"
    }
   ],
   "source": [
    "order_timer_rendered_raw[['eventName','time']]"
   ]
  },
  {
   "cell_type": "code",
   "execution_count": 17,
   "metadata": {},
   "outputs": [],
   "source": [
    "test_time='20200211103149'"
   ]
  },
  {
   "cell_type": "code",
   "execution_count": 19,
   "metadata": {},
   "outputs": [
    {
     "name": "stdout",
     "output_type": "stream",
     "text": [
      "2020-02-11 10:31:49\n"
     ]
    }
   ],
   "source": [
    "from datetime import datetime\n",
    "test_time='20200211103149'\n",
    "datetime_str = '09/19/18 13:55:26'\n",
    "\n",
    "\n",
    "# datetime_object = datetime.strptime(test_time, '%m/%d/%y %H:%M:%S')\n",
    "\n",
    "# print(type(datetime_object))\n",
    "print(datetime_object)  # printed in default forma"
   ]
  },
  {
   "cell_type": "code",
   "execution_count": null,
   "metadata": {},
   "outputs": [],
   "source": []
  }
 ],
 "metadata": {
  "kernelspec": {
   "display_name": "Python 3",
   "language": "python",
   "name": "python3"
  },
  "language_info": {
   "codemirror_mode": {
    "name": "ipython",
    "version": 3
   },
   "file_extension": ".py",
   "mimetype": "text/x-python",
   "name": "python",
   "nbconvert_exporter": "python",
   "pygments_lexer": "ipython3",
   "version": "3.7.4"
  }
 },
 "nbformat": 4,
 "nbformat_minor": 2
}
