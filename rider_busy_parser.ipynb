{
 "cells": [
  {
   "cell_type": "code",
   "execution_count": 1,
   "metadata": {},
   "outputs": [
    {
     "name": "stderr",
     "output_type": "stream",
     "text": [
      "/home/ronak/anaconda3/envs/customer_v1/lib/python3.7/site-packages/tqdm/std.py:658: FutureWarning: The Panel class is removed from pandas. Accessing it from the top-level namespace will also be removed in the next version\n",
      "  from pandas import Panel\n"
     ]
    }
   ],
   "source": [
    "from IPython.core.interactiveshell import InteractiveShell\n",
    "InteractiveShell.ast_node_interactivity = \"all\"\n",
    "import pandas as pd\n",
    "import seaborn as sns\n",
    "sns.set()\n",
    "import pandas as pd\n",
    "import gc\n",
    "gc.collect()\n",
    "%matplotlib inline\n",
    "import matplotlib.pyplot as plt\n",
    "from IPython.display import set_matplotlib_formats\n",
    "set_matplotlib_formats('retina')\n",
    "from tqdm import tqdm\n",
    "\n",
    "from pyhive import presto\n",
    "import requests\n",
    "from requests.auth import HTTPBasicAuth\n",
    "import pandas as pd\n",
    "requests.packages.urllib3.disable_warnings()\n",
    "import matplotlib.pyplot as plt\n",
    "import datetime as dt\n",
    "import numpy as np\n",
    "import gc\n",
    "gc.collect()\n",
    "gc.collect()\n",
    "import gzip\n",
    "tqdm.pandas()"
   ]
  },
  {
   "cell_type": "code",
   "execution_count": 4,
   "metadata": {},
   "outputs": [],
   "source": [
    "rider_busy_raw_file='1582100338-1582100338-CaptainOrderStatus-riderBusy-20200218-0-0.json.gz'"
   ]
  },
  {
   "cell_type": "code",
   "execution_count": 6,
   "metadata": {},
   "outputs": [],
   "source": [
    "def parse_time(x):\n",
    "    return  datetime.strptime(str(x), '%Y%m%d%H%M%S')\n",
    "\n",
    "with gzip.open(rider_busy_raw_file) as f:\n",
    "    rider_busy_raw=pd.read_json(rider_busy_raw_file,lines=True)\n"
   ]
  },
  {
   "cell_type": "code",
   "execution_count": 10,
   "metadata": {},
   "outputs": [
    {
     "data": {
      "text/html": [
       "<div>\n",
       "<style scoped>\n",
       "    .dataframe tbody tr th:only-of-type {\n",
       "        vertical-align: middle;\n",
       "    }\n",
       "\n",
       "    .dataframe tbody tr th {\n",
       "        vertical-align: top;\n",
       "    }\n",
       "\n",
       "    .dataframe thead th {\n",
       "        text-align: right;\n",
       "    }\n",
       "</style>\n",
       "<table border=\"1\" class=\"dataframe\">\n",
       "  <thead>\n",
       "    <tr style=\"text-align: right;\">\n",
       "      <th></th>\n",
       "      <th>eventName</th>\n",
       "      <th>ts</th>\n",
       "      <th>eventProps</th>\n",
       "      <th>profile</th>\n",
       "      <th>deviceInfo</th>\n",
       "    </tr>\n",
       "  </thead>\n",
       "  <tbody>\n",
       "    <tr>\n",
       "      <th>0</th>\n",
       "      <td>CaptainOrderStatus-riderBusy</td>\n",
       "      <td>20200218000032</td>\n",
       "      <td>{'city': 'Hyderabad', 'pickupClusters': 'Nizam...</td>\n",
       "      <td>{'all_identities': ['imranbaig89@gmail.com', '...</td>\n",
       "      <td>{'osVersion': '9', 'sdkVersion': '30601', 'mak...</td>\n",
       "    </tr>\n",
       "    <tr>\n",
       "      <th>1</th>\n",
       "      <td>CaptainOrderStatus-riderBusy</td>\n",
       "      <td>20200218000032</td>\n",
       "      <td>{'city': 'Hyderabad', 'pickupClusters': 'ECIL'...</td>\n",
       "      <td>{'all_identities': ['5e4588ab2f2eb56621324042'...</td>\n",
       "      <td>{'osVersion': '9', 'sdkVersion': '30601', 'mak...</td>\n",
       "    </tr>\n",
       "    <tr>\n",
       "      <th>2</th>\n",
       "      <td>CaptainOrderStatus-riderBusy</td>\n",
       "      <td>20200218000035</td>\n",
       "      <td>{'city': 'Bangalore', 'pickupClusters': 'Sampa...</td>\n",
       "      <td>{'all_identities': ['5c35185f4a267149c769e3e7'...</td>\n",
       "      <td>{'osVersion': '9', 'sdkVersion': '30601', 'mak...</td>\n",
       "    </tr>\n",
       "    <tr>\n",
       "      <th>3</th>\n",
       "      <td>CaptainOrderStatus-riderBusy</td>\n",
       "      <td>20200218000039</td>\n",
       "      <td>{'city': 'Bangalore', 'pickupClusters': 'BTM',...</td>\n",
       "      <td>{'all_identities': ['5c90fad15e042733c9ced9c4'...</td>\n",
       "      <td>{'osVersion': '7.0', 'sdkVersion': '30303', 'm...</td>\n",
       "    </tr>\n",
       "    <tr>\n",
       "      <th>4</th>\n",
       "      <td>CaptainOrderStatus-riderBusy</td>\n",
       "      <td>20200218000101</td>\n",
       "      <td>{'city': 'Hyderabad', 'pickupClusters': 'ECIL'...</td>\n",
       "      <td>{'all_identities': ['5e4588ab2f2eb56621324042'...</td>\n",
       "      <td>{'osVersion': '9', 'sdkVersion': '30601', 'mak...</td>\n",
       "    </tr>\n",
       "  </tbody>\n",
       "</table>\n",
       "</div>"
      ],
      "text/plain": [
       "                      eventName              ts  \\\n",
       "0  CaptainOrderStatus-riderBusy  20200218000032   \n",
       "1  CaptainOrderStatus-riderBusy  20200218000032   \n",
       "2  CaptainOrderStatus-riderBusy  20200218000035   \n",
       "3  CaptainOrderStatus-riderBusy  20200218000039   \n",
       "4  CaptainOrderStatus-riderBusy  20200218000101   \n",
       "\n",
       "                                          eventProps  \\\n",
       "0  {'city': 'Hyderabad', 'pickupClusters': 'Nizam...   \n",
       "1  {'city': 'Hyderabad', 'pickupClusters': 'ECIL'...   \n",
       "2  {'city': 'Bangalore', 'pickupClusters': 'Sampa...   \n",
       "3  {'city': 'Bangalore', 'pickupClusters': 'BTM',...   \n",
       "4  {'city': 'Hyderabad', 'pickupClusters': 'ECIL'...   \n",
       "\n",
       "                                             profile  \\\n",
       "0  {'all_identities': ['imranbaig89@gmail.com', '...   \n",
       "1  {'all_identities': ['5e4588ab2f2eb56621324042'...   \n",
       "2  {'all_identities': ['5c35185f4a267149c769e3e7'...   \n",
       "3  {'all_identities': ['5c90fad15e042733c9ced9c4'...   \n",
       "4  {'all_identities': ['5e4588ab2f2eb56621324042'...   \n",
       "\n",
       "                                          deviceInfo  \n",
       "0  {'osVersion': '9', 'sdkVersion': '30601', 'mak...  \n",
       "1  {'osVersion': '9', 'sdkVersion': '30601', 'mak...  \n",
       "2  {'osVersion': '9', 'sdkVersion': '30601', 'mak...  \n",
       "3  {'osVersion': '7.0', 'sdkVersion': '30303', 'm...  \n",
       "4  {'osVersion': '9', 'sdkVersion': '30601', 'mak...  "
      ]
     },
     "execution_count": 10,
     "metadata": {},
     "output_type": "execute_result"
    },
    {
     "data": {
      "text/plain": [
       "{'city': 'Bangalore',\n",
       " 'pickupClusters': 'Sampagni Rama Nagar',\n",
       " 'dropClusters': 'Adugodi',\n",
       " 'paymentType': 'cash',\n",
       " 'orderType': 'app',\n",
       " 'clientId': 'self',\n",
       " 'showOtp': 'true',\n",
       " 'CT Source': 'API',\n",
       " 'lat': 0,\n",
       " 'lng': 0,\n",
       " 'identity': '5c85cd218c352421eae399a1',\n",
       " 'serviceType': '57370b61a6855d70057417d1',\n",
       " 'orderId': '5e4adb0a9a773437e4b7a85e',\n",
       " 'timeBucket': '00:00-00:30',\n",
       " 'orderDate': '2020-02-17',\n",
       " 'otp': '6449'}"
      ]
     },
     "execution_count": 10,
     "metadata": {},
     "output_type": "execute_result"
    },
    {
     "data": {
      "text/plain": [
       "{'all_identities': ['5c35185f4a267149c769e3e7',\n",
       "  'imtiazmncyber@gmail.com',\n",
       "  'ayeshaparveen9876@gmail.com',\n",
       "  '5d3d39f09996733edb0519f6'],\n",
       " 'identity': '5c35185f4a267149c769e3e7,5d3d39f09996733edb0519f6',\n",
       " 'platform': 'Android',\n",
       " 'phone': 919916669166,\n",
       " 'name': 'Mohammed Imtiyaz',\n",
       " 'email': 'imtiazmncyber@gmail.com',\n",
       " 'push_token': 'fcm:e_omTxvGns4:APA91bEkEnLwIr2NYRjTRKD6Va9mi0JMDDm1O2i3KJ_8fNCLcP3Cau8Ff4OKJqtd54sfL_LjvYvAnKj2qdvC1YcvymLhc-jQp4cai3S6eGGcI2gZ4XeMsRALVxzKLISXKd5asKgm6eOa'}"
      ]
     },
     "execution_count": 10,
     "metadata": {},
     "output_type": "execute_result"
    },
    {
     "data": {
      "text/plain": [
       "{'osVersion': '9',\n",
       " 'sdkVersion': '30601',\n",
       " 'make': 'OPPO',\n",
       " 'model': 'Others',\n",
       " 'appVersion': '3.10.5',\n",
       " 'browser': 'MobileApp',\n",
       " 'dpi': 320,\n",
       " 'dimensions': {'width': 65, 'height': 126, 'unit': 'mm'}}"
      ]
     },
     "execution_count": 10,
     "metadata": {},
     "output_type": "execute_result"
    }
   ],
   "source": [
    "rider_busy_raw.head()\n",
    "rider_busy_raw.eventProps.iloc[2]\n",
    "rider_busy_raw.profile.iloc[2]\n",
    "rider_busy_raw.deviceInfo.iloc[2]"
   ]
  },
  {
   "cell_type": "code",
   "execution_count": 12,
   "metadata": {},
   "outputs": [],
   "source": [
    "from datetime import datetime\n",
    "def parse_rider_busy_rendered(file_name):\n",
    "    def get_property_value_for_col(df,source_column,target_column,property_key):\n",
    "        def get_property(payload,property_key):\n",
    "            try:\n",
    "                identity_index=[i for i, s in enumerate(payload) if property_key in s][0]\n",
    "            except:\n",
    "                return None\n",
    "            value=list(payload.values())[identity_index]\n",
    "            return value\n",
    "        df.loc[:,target_column]=df[source_column].progress_apply(lambda x: get_property(x,property_key))\n",
    "        return df\n",
    "    def parse_time(x):\n",
    "        return  datetime.strptime(str(x), '%Y%m%d%H%M%S')\n",
    "\n",
    "    with gzip.open(rider_busy_raw_file) as f:\n",
    "        rider_busy_raw=pd.read_json(rider_busy_raw_file,lines=True)\n",
    "\n",
    "    rider_busy_raw['time']=rider_busy_raw['ts'].progress_apply(parse_time)\n",
    "    source_column='eventProps'\n",
    "    target_column='order_id'\n",
    "    property_key='orderId'\n",
    "\n",
    "    rider_busy_raw=get_property_value_for_col(rider_busy_raw,source_column,target_column,property_key)\n",
    "    source_column='profile'\n",
    "    target_column='captain_id'\n",
    "    property_key='identity'\n",
    "    rider_busy_raw=get_property_value_for_col(rider_busy_raw,source_column,target_column,property_key)\n",
    "    \n",
    "    source_column='deviceInfo'\n",
    "    target_column='app_version'\n",
    "    property_key='appVersion'\n",
    "    rider_busy_raw=get_property_value_for_col(rider_busy_raw,source_column,target_column,property_key)\n",
    "\n",
    "    return rider_busy_raw"
   ]
  },
  {
   "cell_type": "code",
   "execution_count": 15,
   "metadata": {},
   "outputs": [
    {
     "name": "stderr",
     "output_type": "stream",
     "text": [
      "100%|██████████| 228665/228665 [00:02<00:00, 82913.30it/s]\n",
      "100%|██████████| 228665/228665 [00:00<00:00, 258090.89it/s]\n",
      "100%|██████████| 228665/228665 [00:00<00:00, 311888.40it/s]\n",
      "100%|██████████| 228665/228665 [00:00<00:00, 319332.38it/s]\n"
     ]
    }
   ],
   "source": [
    "rider_busy=parse_rider_rejected_rendered(rider_busy_raw_file)\n"
   ]
  },
  {
   "cell_type": "code",
   "execution_count": 16,
   "metadata": {},
   "outputs": [
    {
     "data": {
      "text/html": [
       "<div>\n",
       "<style scoped>\n",
       "    .dataframe tbody tr th:only-of-type {\n",
       "        vertical-align: middle;\n",
       "    }\n",
       "\n",
       "    .dataframe tbody tr th {\n",
       "        vertical-align: top;\n",
       "    }\n",
       "\n",
       "    .dataframe thead th {\n",
       "        text-align: right;\n",
       "    }\n",
       "</style>\n",
       "<table border=\"1\" class=\"dataframe\">\n",
       "  <thead>\n",
       "    <tr style=\"text-align: right;\">\n",
       "      <th></th>\n",
       "      <th>eventName</th>\n",
       "      <th>ts</th>\n",
       "      <th>eventProps</th>\n",
       "      <th>profile</th>\n",
       "      <th>deviceInfo</th>\n",
       "      <th>time</th>\n",
       "      <th>order_id</th>\n",
       "      <th>captain_id</th>\n",
       "      <th>app_version</th>\n",
       "    </tr>\n",
       "  </thead>\n",
       "  <tbody>\n",
       "    <tr>\n",
       "      <th>0</th>\n",
       "      <td>CaptainOrderStatus-riderBusy</td>\n",
       "      <td>20200218000032</td>\n",
       "      <td>{'city': 'Hyderabad', 'pickupClusters': 'Nizam...</td>\n",
       "      <td>{'all_identities': ['imranbaig89@gmail.com', '...</td>\n",
       "      <td>{'osVersion': '9', 'sdkVersion': '30601', 'mak...</td>\n",
       "      <td>2020-02-18 00:00:32</td>\n",
       "      <td>5e4adb912806995062b9f6e6</td>\n",
       "      <td>5bb47306b7078153f3add9e9</td>\n",
       "      <td>3.10.5</td>\n",
       "    </tr>\n",
       "    <tr>\n",
       "      <th>1</th>\n",
       "      <td>CaptainOrderStatus-riderBusy</td>\n",
       "      <td>20200218000032</td>\n",
       "      <td>{'city': 'Hyderabad', 'pickupClusters': 'ECIL'...</td>\n",
       "      <td>{'all_identities': ['5e4588ab2f2eb56621324042'...</td>\n",
       "      <td>{'osVersion': '9', 'sdkVersion': '30601', 'mak...</td>\n",
       "      <td>2020-02-18 00:00:32</td>\n",
       "      <td>5e4ad8f49a773437e4b7a642</td>\n",
       "      <td>5e4588ab2f2eb56621324042</td>\n",
       "      <td>3.10.5</td>\n",
       "    </tr>\n",
       "  </tbody>\n",
       "</table>\n",
       "</div>"
      ],
      "text/plain": [
       "                      eventName              ts  \\\n",
       "0  CaptainOrderStatus-riderBusy  20200218000032   \n",
       "1  CaptainOrderStatus-riderBusy  20200218000032   \n",
       "\n",
       "                                          eventProps  \\\n",
       "0  {'city': 'Hyderabad', 'pickupClusters': 'Nizam...   \n",
       "1  {'city': 'Hyderabad', 'pickupClusters': 'ECIL'...   \n",
       "\n",
       "                                             profile  \\\n",
       "0  {'all_identities': ['imranbaig89@gmail.com', '...   \n",
       "1  {'all_identities': ['5e4588ab2f2eb56621324042'...   \n",
       "\n",
       "                                          deviceInfo                time  \\\n",
       "0  {'osVersion': '9', 'sdkVersion': '30601', 'mak... 2020-02-18 00:00:32   \n",
       "1  {'osVersion': '9', 'sdkVersion': '30601', 'mak... 2020-02-18 00:00:32   \n",
       "\n",
       "                   order_id                captain_id app_version  \n",
       "0  5e4adb912806995062b9f6e6  5bb47306b7078153f3add9e9      3.10.5  \n",
       "1  5e4ad8f49a773437e4b7a642  5e4588ab2f2eb56621324042      3.10.5  "
      ]
     },
     "execution_count": 16,
     "metadata": {},
     "output_type": "execute_result"
    }
   ],
   "source": [
    "rider_busy.head(2)"
   ]
  },
  {
   "cell_type": "code",
   "execution_count": 17,
   "metadata": {},
   "outputs": [],
   "source": [
    "rider_busy[['eventName','time','order_id','captain_id','app_version']].to_csv('rider_busy_20200218.csv',index=False)"
   ]
  },
  {
   "cell_type": "code",
   "execution_count": null,
   "metadata": {},
   "outputs": [],
   "source": []
  }
 ],
 "metadata": {
  "kernelspec": {
   "display_name": "Python 3",
   "language": "python",
   "name": "python3"
  },
  "language_info": {
   "codemirror_mode": {
    "name": "ipython",
    "version": 3
   },
   "file_extension": ".py",
   "mimetype": "text/x-python",
   "name": "python",
   "nbconvert_exporter": "python",
   "pygments_lexer": "ipython3",
   "version": "3.7.6"
  }
 },
 "nbformat": 4,
 "nbformat_minor": 4
}
