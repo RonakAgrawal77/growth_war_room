{
 "cells": [
  {
   "cell_type": "code",
   "execution_count": 48,
   "metadata": {},
   "outputs": [
    {
     "data": {
      "text/plain": [
       "66"
      ]
     },
     "execution_count": 48,
     "metadata": {},
     "output_type": "execute_result"
    },
    {
     "data": {
      "text/plain": [
       "8"
      ]
     },
     "execution_count": 48,
     "metadata": {},
     "output_type": "execute_result"
    },
    {
     "data": {
      "text/plain": [
       "0"
      ]
     },
     "execution_count": 48,
     "metadata": {},
     "output_type": "execute_result"
    },
    {
     "name": "stderr",
     "output_type": "stream",
     "text": [
      "/home/ronak/anaconda3/envs/customer_v1/lib/python3.7/site-packages/tqdm/std.py:658: FutureWarning: The Panel class is removed from pandas. Accessing it from the top-level namespace will also be removed in the next version\n",
      "  from pandas import Panel\n"
     ]
    }
   ],
   "source": [
    "from IPython.core.interactiveshell import InteractiveShell\n",
    "InteractiveShell.ast_node_interactivity = \"all\"\n",
    "import pandas as pd\n",
    "import seaborn as sns\n",
    "sns.set()\n",
    "import pandas as pd\n",
    "import gc\n",
    "gc.collect()\n",
    "%matplotlib inline\n",
    "import matplotlib.pyplot as plt\n",
    "from IPython.display import set_matplotlib_formats\n",
    "set_matplotlib_formats('retina')\n",
    "from tqdm import tqdm\n",
    "\n",
    "from pyhive import presto\n",
    "import requests\n",
    "from requests.auth import HTTPBasicAuth\n",
    "import pandas as pd\n",
    "requests.packages.urllib3.disable_warnings()\n",
    "import matplotlib.pyplot as plt\n",
    "import datetime as dt\n",
    "import numpy as np\n",
    "import gc\n",
    "gc.collect()\n",
    "gc.collect()\n",
    "import gzip\n",
    "tqdm.pandas()"
   ]
  },
  {
   "cell_type": "code",
   "execution_count": 49,
   "metadata": {},
   "outputs": [],
   "source": [
    "rider_rejected_raw_file='1582100338-1582100338-CaptainOrderStatus-riderRejected-20200218-0-0.json.gz'"
   ]
  },
  {
   "cell_type": "code",
   "execution_count": 52,
   "metadata": {},
   "outputs": [],
   "source": [
    "from datetime import datetime\n",
    "def parse_rider_rejected_rendered(file_name):\n",
    "    def get_property_value_for_col(df,source_column,target_column,property_key):\n",
    "        def get_property(payload,property_key):\n",
    "            try:\n",
    "                identity_index=[i for i, s in enumerate(payload) if property_key in s][0]\n",
    "            except:\n",
    "                return None\n",
    "            value=list(payload.values())[identity_index]\n",
    "            return value\n",
    "        df.loc[:,target_column]=df[source_column].progress_apply(lambda x: get_property(x,property_key))\n",
    "        return df\n",
    "    def parse_time(x):\n",
    "        return  datetime.strptime(str(x), '%Y%m%d%H%M%S')\n",
    "\n",
    "    with gzip.open(rider_rejected_raw_file) as f:\n",
    "        rider_rejected_raw=pd.read_json(rider_rejected_raw_file,lines=True)\n",
    "\n",
    "    rider_rejected_raw['time']=rider_rejected_raw['ts'].progress_apply(parse_time)\n",
    "    source_column='eventProps'\n",
    "    target_column='order_id'\n",
    "    property_key='orderId'\n",
    "\n",
    "    rider_rejected_raw=get_property_value_for_col(rider_rejected_raw,source_column,target_column,property_key)\n",
    "    source_column='profile'\n",
    "    target_column='captain_id'\n",
    "    property_key='identity'\n",
    "    rider_rejected_raw=get_property_value_for_col(rider_rejected_raw,source_column,target_column,property_key)\n",
    "\n",
    "    source_column='deviceInfo'\n",
    "    target_column='app_version'\n",
    "    property_key='appVersion'\n",
    "    rider_rejected_raw=get_property_value_for_col(rider_rejected_raw,source_column,target_column,property_key)\n",
    "\n",
    "    return rider_rejected_raw"
   ]
  },
  {
   "cell_type": "code",
   "execution_count": 51,
   "metadata": {},
   "outputs": [
    {
     "data": {
      "text/html": [
       "<div>\n",
       "<style scoped>\n",
       "    .dataframe tbody tr th:only-of-type {\n",
       "        vertical-align: middle;\n",
       "    }\n",
       "\n",
       "    .dataframe tbody tr th {\n",
       "        vertical-align: top;\n",
       "    }\n",
       "\n",
       "    .dataframe thead th {\n",
       "        text-align: right;\n",
       "    }\n",
       "</style>\n",
       "<table border=\"1\" class=\"dataframe\">\n",
       "  <thead>\n",
       "    <tr style=\"text-align: right;\">\n",
       "      <th></th>\n",
       "      <th>eventName</th>\n",
       "      <th>ts</th>\n",
       "      <th>eventProps</th>\n",
       "      <th>profile</th>\n",
       "      <th>deviceInfo</th>\n",
       "    </tr>\n",
       "  </thead>\n",
       "  <tbody>\n",
       "    <tr>\n",
       "      <th>0</th>\n",
       "      <td>CaptainOrderStatus-riderRejected</td>\n",
       "      <td>20200218000033</td>\n",
       "      <td>{'city': 'Hyderabad', 'pickupClusters': 'Saroo...</td>\n",
       "      <td>{'all_identities': ['5c6becaa21163e7a7c540484'...</td>\n",
       "      <td>{'osVersion': '9', 'sdkVersion': '30601', 'mak...</td>\n",
       "    </tr>\n",
       "    <tr>\n",
       "      <th>1</th>\n",
       "      <td>CaptainOrderStatus-riderRejected</td>\n",
       "      <td>20200218000116</td>\n",
       "      <td>{'city': 'Bangalore', 'pickupClusters': 'Sampa...</td>\n",
       "      <td>{'all_identities': ['5c35185f4a267149c769e3e7'...</td>\n",
       "      <td>{'osVersion': '9', 'sdkVersion': '30601', 'mak...</td>\n",
       "    </tr>\n",
       "  </tbody>\n",
       "</table>\n",
       "</div>"
      ],
      "text/plain": [
       "                          eventName              ts  \\\n",
       "0  CaptainOrderStatus-riderRejected  20200218000033   \n",
       "1  CaptainOrderStatus-riderRejected  20200218000116   \n",
       "\n",
       "                                          eventProps  \\\n",
       "0  {'city': 'Hyderabad', 'pickupClusters': 'Saroo...   \n",
       "1  {'city': 'Bangalore', 'pickupClusters': 'Sampa...   \n",
       "\n",
       "                                             profile  \\\n",
       "0  {'all_identities': ['5c6becaa21163e7a7c540484'...   \n",
       "1  {'all_identities': ['5c35185f4a267149c769e3e7'...   \n",
       "\n",
       "                                          deviceInfo  \n",
       "0  {'osVersion': '9', 'sdkVersion': '30601', 'mak...  \n",
       "1  {'osVersion': '9', 'sdkVersion': '30601', 'mak...  "
      ]
     },
     "execution_count": 51,
     "metadata": {},
     "output_type": "execute_result"
    }
   ],
   "source": [
    "with gzip.open(rider_rejected_raw_file) as f:\n",
    "    rider_rejected_raw=pd.read_json(rider_rejected_raw_file,lines=True)\n",
    "\n",
    "rider_rejected_raw.head(2)"
   ]
  },
  {
   "cell_type": "code",
   "execution_count": 53,
   "metadata": {},
   "outputs": [
    {
     "name": "stderr",
     "output_type": "stream",
     "text": [
      "\n",
      "\n",
      "\n",
      "  0%|          | 0/50347 [00:00<?, ?it/s]\u001b[A\u001b[A\u001b[A\n",
      "\n",
      "\n",
      " 16%|█▌        | 8115/50347 [00:00<00:00, 81121.45it/s]\u001b[A\u001b[A\u001b[A\n",
      "\n",
      "\n",
      " 33%|███▎      | 16542/50347 [00:00<00:00, 82040.83it/s]\u001b[A\u001b[A\u001b[A\n",
      "\n",
      "\n",
      " 50%|████▉     | 25004/50347 [00:00<00:00, 82796.49it/s]\u001b[A\u001b[A\u001b[A\n",
      "\n",
      "\n",
      " 66%|██████▌   | 33111/50347 [00:00<00:00, 82268.45it/s]\u001b[A\u001b[A\u001b[A\n",
      "\n",
      "\n",
      " 82%|████████▏ | 41308/50347 [00:00<00:00, 82176.18it/s]\u001b[A\u001b[A\u001b[A\n",
      "\n",
      "\n",
      "100%|██████████| 50347/50347 [00:00<00:00, 80794.37it/s]\u001b[A\u001b[A\u001b[A\n",
      "\n",
      "\n",
      "\n",
      "  0%|          | 0/50347 [00:00<?, ?it/s]\u001b[A\u001b[A\u001b[A\n",
      "\n",
      "\n",
      " 44%|████▍     | 22127/50347 [00:00<00:00, 221268.10it/s]\u001b[A\u001b[A\u001b[A\n",
      "\n",
      "\n",
      "100%|██████████| 50347/50347 [00:00<00:00, 201850.38it/s]\u001b[A\u001b[A\u001b[A\n",
      "\n",
      "\n",
      "\n",
      "  0%|          | 0/50347 [00:00<?, ?it/s]\u001b[A\u001b[A\u001b[A\n",
      "\n",
      "\n",
      "100%|██████████| 50347/50347 [00:00<00:00, 247722.30it/s]\u001b[A\u001b[A\u001b[A\n",
      "\n",
      "\n",
      "\n",
      "  0%|          | 0/50347 [00:00<?, ?it/s]\u001b[A\u001b[A\u001b[A\n",
      "\n",
      "\n",
      "100%|██████████| 50347/50347 [00:00<00:00, 248575.52it/s]\u001b[A\u001b[A\u001b[A\n"
     ]
    }
   ],
   "source": [
    "rider_rejected=parse_rider_rejected_rendered(rider_rejected_raw_file)\n",
    "rider_rejected[['eventName','time','order_id','captain_id','app_version']].to_csv('riderRejected_20200218.csv',index=False)"
   ]
  },
  {
   "cell_type": "code",
   "execution_count": null,
   "metadata": {},
   "outputs": [],
   "source": [
    "rider_rejected_raw.head()"
   ]
  }
 ],
 "metadata": {
  "kernelspec": {
   "display_name": "Python 3",
   "language": "python",
   "name": "python3"
  },
  "language_info": {
   "codemirror_mode": {
    "name": "ipython",
    "version": 3
   },
   "file_extension": ".py",
   "mimetype": "text/x-python",
   "name": "python",
   "nbconvert_exporter": "python",
   "pygments_lexer": "ipython3",
   "version": "3.7.6"
  }
 },
 "nbformat": 4,
 "nbformat_minor": 4
}
