{
 "cells": [
  {
   "cell_type": "code",
   "execution_count": 154,
   "metadata": {},
   "outputs": [
    {
     "data": {
      "text/plain": [
       "231"
      ]
     },
     "execution_count": 154,
     "metadata": {},
     "output_type": "execute_result"
    },
    {
     "data": {
      "text/plain": [
       "8"
      ]
     },
     "execution_count": 154,
     "metadata": {},
     "output_type": "execute_result"
    },
    {
     "data": {
      "text/plain": [
       "0"
      ]
     },
     "execution_count": 154,
     "metadata": {},
     "output_type": "execute_result"
    },
    {
     "name": "stderr",
     "output_type": "stream",
     "text": [
      "/home/ronak/anaconda3/lib/python3.7/site-packages/tqdm/std.py:648: FutureWarning: The Panel class is removed from pandas. Accessing it from the top-level namespace will also be removed in the next version\n",
      "  from pandas import Panel\n"
     ]
    }
   ],
   "source": [
    "from IPython.core.interactiveshell import InteractiveShell\n",
    "InteractiveShell.ast_node_interactivity = \"all\"\n",
    "import pandas as pd\n",
    "import seaborn as sns\n",
    "sns.set()\n",
    "import pandas as pd\n",
    "import gc\n",
    "gc.collect()\n",
    "%matplotlib inline\n",
    "import matplotlib.pyplot as plt\n",
    "from IPython.display import set_matplotlib_formats\n",
    "set_matplotlib_formats('retina')\n",
    "from tqdm import tqdm\n",
    "\n",
    "from pyhive import presto\n",
    "import requests\n",
    "from requests.auth import HTTPBasicAuth\n",
    "import pandas as pd\n",
    "requests.packages.urllib3.disable_warnings()\n",
    "import matplotlib.pyplot as plt\n",
    "import datetime as dt\n",
    "import numpy as np\n",
    "import gc\n",
    "gc.collect()\n",
    "gc.collect()\n",
    "\n",
    "tqdm.pandas()"
   ]
  },
  {
   "cell_type": "code",
   "execution_count": 1,
   "metadata": {},
   "outputs": [
    {
     "name": "stderr",
     "output_type": "stream",
     "text": [
      "/home/ronak/anaconda3/lib/python3.7/site-packages/tqdm/std.py:648: FutureWarning: The Panel class is removed from pandas. Accessing it from the top-level namespace will also be removed in the next version\n",
      "  from pandas import Panel\n"
     ]
    }
   ],
   "source": [
    "start_date='2020-01-27'\n",
    "end_date='2020-01-27' \n",
    "city='test'\n",
    "data_file='riderBusy_v1_india_{start_date}_{end_date}.csv'.format(city=city,start_date=start_date,end_date=end_date)\n",
    "\n",
    "tqdm.pandas()\n",
    "def download_data(city,start_date,end_date,data_file):\n",
    "    conn = presto.connect(\n",
    "        host='10.160.0.62',\n",
    "        port=8060,\n",
    "        protocol='http',\n",
    "        catalog='hive',\n",
    "        schema='mongodb',\n",
    "        username='ronak',\n",
    "        # requests_kwargs=req_kw,\n",
    "    )\n",
    "    order_date_query_test = \"\"\"Select _id as orderid,subtotal,updatedat,services,status,serviceobj_city as city,orderdate from mongodb.orders\n",
    "where (status ='customerCancelled') and  orderdate BETWEEN '{start_date}' and '{end_date}' LIMiT 10\n",
    "\"\"\".format(city=city,start_date=start_date,end_date=end_date)\n",
    "    print(order_date_query_test)\n",
    "    df_order_date_test = pd.read_sql(order_date_query_test, conn)\n",
    "    df_order_date_test.to_csv(data_file)\n",
    "\n",
    "\n",
    "download_data(city,start_date,end_date,data_file)"
   ]
  },
  {
   "cell_type": "code",
   "execution_count": 155,
   "metadata": {},
   "outputs": [],
   "source": [
    "rider_busy_raw=pd.read_csv(data_file,nrows=10)\n",
    "\n",
    "\n",
    "def drop_unnamed(df):\n",
    "    return df.loc[:, ~df.columns.str.contains('^Unnamed')]\n",
    "rider_busy_raw=drop_unnamed(rider_busy_raw)"
   ]
  },
  {
   "cell_type": "code",
   "execution_count": 156,
   "metadata": {},
   "outputs": [
    {
     "data": {
      "text/html": [
       "<div>\n",
       "<style scoped>\n",
       "    .dataframe tbody tr th:only-of-type {\n",
       "        vertical-align: middle;\n",
       "    }\n",
       "\n",
       "    .dataframe tbody tr th {\n",
       "        vertical-align: top;\n",
       "    }\n",
       "\n",
       "    .dataframe thead th {\n",
       "        text-align: right;\n",
       "    }\n",
       "</style>\n",
       "<table border=\"1\" class=\"dataframe\">\n",
       "  <thead>\n",
       "    <tr style=\"text-align: right;\">\n",
       "      <th></th>\n",
       "      <th>orderid</th>\n",
       "      <th>subtotal</th>\n",
       "      <th>updatedat</th>\n",
       "      <th>services</th>\n",
       "      <th>status</th>\n",
       "      <th>city</th>\n",
       "      <th>orderdate</th>\n",
       "    </tr>\n",
       "  </thead>\n",
       "  <tbody>\n",
       "    <tr>\n",
       "      <td>0</td>\n",
       "      <td>5e2ea8ebb73f381c8599ce87</td>\n",
       "      <td>21.0</td>\n",
       "      <td>[{'_id': ObjectId('5e2ea8eb4102654bbf270ad7'),...</td>\n",
       "      <td>[{'serviceId': '57370b61a6855d70057417d1', 'mi...</td>\n",
       "      <td>customerCancelled</td>\n",
       "      <td>Bangalore</td>\n",
       "      <td>2020-01-27</td>\n",
       "    </tr>\n",
       "    <tr>\n",
       "      <td>1</td>\n",
       "      <td>5e2ea8ebcb26a968318c306e</td>\n",
       "      <td>24.0</td>\n",
       "      <td>[{'_id': ObjectId('5e2ea8eb13d8a74be1a4eaac'),...</td>\n",
       "      <td>[{'serviceId': '574013f14fdf4798208bba26', 'mi...</td>\n",
       "      <td>customerCancelled</td>\n",
       "      <td>Hyderabad</td>\n",
       "      <td>2020-01-27</td>\n",
       "    </tr>\n",
       "  </tbody>\n",
       "</table>\n",
       "</div>"
      ],
      "text/plain": [
       "                    orderid  subtotal  \\\n",
       "0  5e2ea8ebb73f381c8599ce87      21.0   \n",
       "1  5e2ea8ebcb26a968318c306e      24.0   \n",
       "\n",
       "                                           updatedat  \\\n",
       "0  [{'_id': ObjectId('5e2ea8eb4102654bbf270ad7'),...   \n",
       "1  [{'_id': ObjectId('5e2ea8eb13d8a74be1a4eaac'),...   \n",
       "\n",
       "                                            services             status  \\\n",
       "0  [{'serviceId': '57370b61a6855d70057417d1', 'mi...  customerCancelled   \n",
       "1  [{'serviceId': '574013f14fdf4798208bba26', 'mi...  customerCancelled   \n",
       "\n",
       "        city   orderdate  \n",
       "0  Bangalore  2020-01-27  \n",
       "1  Hyderabad  2020-01-27  "
      ]
     },
     "execution_count": 156,
     "metadata": {},
     "output_type": "execute_result"
    }
   ],
   "source": [
    "rider_busy_raw.head(2)"
   ]
  },
  {
   "cell_type": "code",
   "execution_count": 157,
   "metadata": {},
   "outputs": [
    {
     "name": "stderr",
     "output_type": "stream",
     "text": [
      "100%|██████████| 10/10 [00:00<00:00, 9102.22it/s]\n"
     ]
    }
   ],
   "source": [
    "updated_at_split=rider_busy_raw['updatedat'].progress_apply(lambda x: x.strip('[]'))"
   ]
  },
  {
   "cell_type": "code",
   "execution_count": 168,
   "metadata": {},
   "outputs": [],
   "source": [
    "def get_all_new_index(split_list):\n",
    "    new_string=\"'status': 'new'\"\n",
    "    all_new_index=[i for i, s in enumerate(split_list) if new_string in s]\n",
    "    return all_new_index\n",
    "def get_all_cancelled_index(split_list):\n",
    "    cancelled_String=\"'status': 'customerCancelled'\"\n",
    "    cancelled_Index=[i for i, s in enumerate(split_list) if cancelled_String in s]\n",
    "    return cancelled_Index\n",
    "\n",
    "import re\n",
    "def extract_epoch_timestamp(a):\n",
    "    m = re.search('[0-9]{3,}.[0-9]{1}', a)\n",
    "    if m:\n",
    "        found = m.group(0)\n",
    "        return found\n",
    "def preprocess_status(x):\n",
    "    return x.replace('\\'',\"\").replace(' ',\"\").replace('status:',\"\")   \n",
    "\n",
    "def get_start_stop_indices(split_list):\n",
    "    new_indices=get_all_new_index(split_list)\n",
    "    cancelled_indices=get_all_cancelled_index(split_list)\n",
    "    new_cancelled_indices=list(zip(new_indices,cancelled_indices))\n",
    "    return new_cancelled_indices\n",
    "def get_all_status_for_range(each_slice):\n",
    "     if 'status' in each_slice:\n",
    "        status_index= [i for i, s in enumerate(each_slice.split(',')) if 'status' in s][0]\n",
    "        first_status=each_slice.split(',')[status_index]\n",
    "        request_time=float(extract_epoch_timestamp(each_slice.split(',')[status_index+1]))\n",
    "        return preprocess_status(first_status),request_time\n",
    "def get_all_status_in_cell(cell):\n",
    "    split_list= cell.split('{')\n",
    "    return [list(filter(None.__ne__,[get_all_status_for_range(split_list[curr_index]) \\\n",
    "                                         for curr_index in range(start,stop+1)]))\\\n",
    "                                            for start,stop in get_start_stop_indices(split_list)]"
   ]
  },
  {
   "cell_type": "code",
   "execution_count": 170,
   "metadata": {},
   "outputs": [
    {
     "data": {
      "text/plain": [
       "(1, 3)"
      ]
     },
     "execution_count": 170,
     "metadata": {},
     "output_type": "execute_result"
    }
   ],
   "source": [
    "cell=rider_busy_raw['updatedat'].iloc[3]\n",
    "split_list= cell.split('{')\n",
    "get_all_status_in_cell"
   ]
  },
  {
   "cell_type": "code",
   "execution_count": 172,
   "metadata": {},
   "outputs": [
    {
     "name": "stderr",
     "output_type": "stream",
     "text": [
      "\n",
      "\n",
      "  0%|          | 0/10 [00:00<?, ?it/s]\u001b[A\u001b[A"
     ]
    },
    {
     "ename": "TypeError",
     "evalue": "cannot unpack non-iterable int object",
     "output_type": "error",
     "traceback": [
      "\u001b[0;31m-------------------------------------------------------------------\u001b[0m",
      "\u001b[0;31mTypeError\u001b[0m                         Traceback (most recent call last)",
      "\u001b[0;32m<ipython-input-172-9e343ec9a44f>\u001b[0m in \u001b[0;36m<module>\u001b[0;34m\u001b[0m\n\u001b[0;32m----> 1\u001b[0;31m \u001b[0mtest\u001b[0m\u001b[0;34m=\u001b[0m\u001b[0mrider_busy_raw\u001b[0m\u001b[0;34m[\u001b[0m\u001b[0;34m'updatedat'\u001b[0m\u001b[0;34m]\u001b[0m\u001b[0;34m.\u001b[0m\u001b[0mprogress_apply\u001b[0m\u001b[0;34m(\u001b[0m\u001b[0mget_all_status_in_cell\u001b[0m\u001b[0;34m)\u001b[0m\u001b[0;34m\u001b[0m\u001b[0;34m\u001b[0m\u001b[0m\n\u001b[0m\u001b[1;32m      2\u001b[0m \u001b[0mtest\u001b[0m\u001b[0;34m.\u001b[0m\u001b[0miloc\u001b[0m\u001b[0;34m[\u001b[0m\u001b[0;36m0\u001b[0m\u001b[0;34m]\u001b[0m\u001b[0;34m\u001b[0m\u001b[0;34m\u001b[0m\u001b[0m\n",
      "\u001b[0;32m~/anaconda3/lib/python3.7/site-packages/tqdm/std.py\u001b[0m in \u001b[0;36minner\u001b[0;34m(df, func, *args, **kwargs)\u001b[0m\n\u001b[1;32m    734\u001b[0m                 \u001b[0;31m# Apply the provided function (in **kwargs)\u001b[0m\u001b[0;34m\u001b[0m\u001b[0;34m\u001b[0m\u001b[0;34m\u001b[0m\u001b[0m\n\u001b[1;32m    735\u001b[0m                 \u001b[0;31m# on the df using our wrapper (which provides bar updating)\u001b[0m\u001b[0;34m\u001b[0m\u001b[0;34m\u001b[0m\u001b[0;34m\u001b[0m\u001b[0m\n\u001b[0;32m--> 736\u001b[0;31m                 \u001b[0mresult\u001b[0m \u001b[0;34m=\u001b[0m \u001b[0mgetattr\u001b[0m\u001b[0;34m(\u001b[0m\u001b[0mdf\u001b[0m\u001b[0;34m,\u001b[0m \u001b[0mdf_function\u001b[0m\u001b[0;34m)\u001b[0m\u001b[0;34m(\u001b[0m\u001b[0mwrapper\u001b[0m\u001b[0;34m,\u001b[0m \u001b[0;34m**\u001b[0m\u001b[0mkwargs\u001b[0m\u001b[0;34m)\u001b[0m\u001b[0;34m\u001b[0m\u001b[0;34m\u001b[0m\u001b[0m\n\u001b[0m\u001b[1;32m    737\u001b[0m \u001b[0;34m\u001b[0m\u001b[0m\n\u001b[1;32m    738\u001b[0m                 \u001b[0;31m# Close bar and return pandas calculation result\u001b[0m\u001b[0;34m\u001b[0m\u001b[0;34m\u001b[0m\u001b[0;34m\u001b[0m\u001b[0m\n",
      "\u001b[0;32m~/anaconda3/lib/python3.7/site-packages/pandas/core/series.py\u001b[0m in \u001b[0;36mapply\u001b[0;34m(self, func, convert_dtype, args, **kwds)\u001b[0m\n\u001b[1;32m   4040\u001b[0m             \u001b[0;32melse\u001b[0m\u001b[0;34m:\u001b[0m\u001b[0;34m\u001b[0m\u001b[0;34m\u001b[0m\u001b[0m\n\u001b[1;32m   4041\u001b[0m                 \u001b[0mvalues\u001b[0m \u001b[0;34m=\u001b[0m \u001b[0mself\u001b[0m\u001b[0;34m.\u001b[0m\u001b[0mastype\u001b[0m\u001b[0;34m(\u001b[0m\u001b[0mobject\u001b[0m\u001b[0;34m)\u001b[0m\u001b[0;34m.\u001b[0m\u001b[0mvalues\u001b[0m\u001b[0;34m\u001b[0m\u001b[0;34m\u001b[0m\u001b[0m\n\u001b[0;32m-> 4042\u001b[0;31m                 \u001b[0mmapped\u001b[0m \u001b[0;34m=\u001b[0m \u001b[0mlib\u001b[0m\u001b[0;34m.\u001b[0m\u001b[0mmap_infer\u001b[0m\u001b[0;34m(\u001b[0m\u001b[0mvalues\u001b[0m\u001b[0;34m,\u001b[0m \u001b[0mf\u001b[0m\u001b[0;34m,\u001b[0m \u001b[0mconvert\u001b[0m\u001b[0;34m=\u001b[0m\u001b[0mconvert_dtype\u001b[0m\u001b[0;34m)\u001b[0m\u001b[0;34m\u001b[0m\u001b[0;34m\u001b[0m\u001b[0m\n\u001b[0m\u001b[1;32m   4043\u001b[0m \u001b[0;34m\u001b[0m\u001b[0m\n\u001b[1;32m   4044\u001b[0m         \u001b[0;32mif\u001b[0m \u001b[0mlen\u001b[0m\u001b[0;34m(\u001b[0m\u001b[0mmapped\u001b[0m\u001b[0;34m)\u001b[0m \u001b[0;32mand\u001b[0m \u001b[0misinstance\u001b[0m\u001b[0;34m(\u001b[0m\u001b[0mmapped\u001b[0m\u001b[0;34m[\u001b[0m\u001b[0;36m0\u001b[0m\u001b[0;34m]\u001b[0m\u001b[0;34m,\u001b[0m \u001b[0mSeries\u001b[0m\u001b[0;34m)\u001b[0m\u001b[0;34m:\u001b[0m\u001b[0;34m\u001b[0m\u001b[0;34m\u001b[0m\u001b[0m\n",
      "\u001b[0;32mpandas/_libs/lib.pyx\u001b[0m in \u001b[0;36mpandas._libs.lib.map_infer\u001b[0;34m()\u001b[0m\n",
      "\u001b[0;32m~/anaconda3/lib/python3.7/site-packages/tqdm/std.py\u001b[0m in \u001b[0;36mwrapper\u001b[0;34m(*args, **kwargs)\u001b[0m\n\u001b[1;32m    730\u001b[0m                     \u001b[0;31m# take a fast or slow code path; so stop when t.total==t.n\u001b[0m\u001b[0;34m\u001b[0m\u001b[0;34m\u001b[0m\u001b[0;34m\u001b[0m\u001b[0m\n\u001b[1;32m    731\u001b[0m                     \u001b[0mt\u001b[0m\u001b[0;34m.\u001b[0m\u001b[0mupdate\u001b[0m\u001b[0;34m(\u001b[0m\u001b[0mn\u001b[0m\u001b[0;34m=\u001b[0m\u001b[0;36m1\u001b[0m \u001b[0;32mif\u001b[0m \u001b[0;32mnot\u001b[0m \u001b[0mt\u001b[0m\u001b[0;34m.\u001b[0m\u001b[0mtotal\u001b[0m \u001b[0;32mor\u001b[0m \u001b[0mt\u001b[0m\u001b[0;34m.\u001b[0m\u001b[0mn\u001b[0m \u001b[0;34m<\u001b[0m \u001b[0mt\u001b[0m\u001b[0;34m.\u001b[0m\u001b[0mtotal\u001b[0m \u001b[0;32melse\u001b[0m \u001b[0;36m0\u001b[0m\u001b[0;34m)\u001b[0m\u001b[0;34m\u001b[0m\u001b[0;34m\u001b[0m\u001b[0m\n\u001b[0;32m--> 732\u001b[0;31m                     \u001b[0;32mreturn\u001b[0m \u001b[0mfunc\u001b[0m\u001b[0;34m(\u001b[0m\u001b[0;34m*\u001b[0m\u001b[0margs\u001b[0m\u001b[0;34m,\u001b[0m \u001b[0;34m**\u001b[0m\u001b[0mkwargs\u001b[0m\u001b[0;34m)\u001b[0m\u001b[0;34m\u001b[0m\u001b[0;34m\u001b[0m\u001b[0m\n\u001b[0m\u001b[1;32m    733\u001b[0m \u001b[0;34m\u001b[0m\u001b[0m\n\u001b[1;32m    734\u001b[0m                 \u001b[0;31m# Apply the provided function (in **kwargs)\u001b[0m\u001b[0;34m\u001b[0m\u001b[0;34m\u001b[0m\u001b[0;34m\u001b[0m\u001b[0m\n",
      "\u001b[0;32m<ipython-input-168-5677023b4a18>\u001b[0m in \u001b[0;36mget_all_status_in_cell\u001b[0;34m(cell)\u001b[0m\n\u001b[1;32m     32\u001b[0m     return [list(filter(None.__ne__,[get_all_status_for_range(split_list[curr_index]) \\\n\u001b[1;32m     33\u001b[0m                                          for curr_index in range(start,stop+1)]))\\\n\u001b[0;32m---> 34\u001b[0;31m                                             for start,stop in get_start_stop_indices(split_list)]\n\u001b[0m",
      "\u001b[0;32m<ipython-input-168-5677023b4a18>\u001b[0m in \u001b[0;36m<listcomp>\u001b[0;34m(.0)\u001b[0m\n\u001b[1;32m     32\u001b[0m     return [list(filter(None.__ne__,[get_all_status_for_range(split_list[curr_index]) \\\n\u001b[1;32m     33\u001b[0m                                          for curr_index in range(start,stop+1)]))\\\n\u001b[0;32m---> 34\u001b[0;31m                                             for start,stop in get_start_stop_indices(split_list)]\n\u001b[0m",
      "\u001b[0;31mTypeError\u001b[0m: cannot unpack non-iterable int object"
     ]
    }
   ],
   "source": [
    "test=rider_busy_raw['updatedat'].progress_apply(get_all_status_in_cell)\n",
    "test.iloc[0]"
   ]
  },
  {
   "cell_type": "code",
   "execution_count": 164,
   "metadata": {},
   "outputs": [
    {
     "name": "stderr",
     "output_type": "stream",
     "text": [
      "\r",
      "  0%|          | 0/10 [00:00<?, ?it/s]"
     ]
    },
    {
     "ename": "TypeError",
     "evalue": "cannot unpack non-iterable int object",
     "output_type": "error",
     "traceback": [
      "\u001b[0;31m-------------------------------------------------------------------\u001b[0m",
      "\u001b[0;31mTypeError\u001b[0m                         Traceback (most recent call last)",
      "\u001b[0;32m<ipython-input-164-9e343ec9a44f>\u001b[0m in \u001b[0;36m<module>\u001b[0;34m\u001b[0m\n\u001b[0;32m----> 1\u001b[0;31m \u001b[0mtest\u001b[0m\u001b[0;34m=\u001b[0m\u001b[0mrider_busy_raw\u001b[0m\u001b[0;34m[\u001b[0m\u001b[0;34m'updatedat'\u001b[0m\u001b[0;34m]\u001b[0m\u001b[0;34m.\u001b[0m\u001b[0mprogress_apply\u001b[0m\u001b[0;34m(\u001b[0m\u001b[0mget_all_status_in_cell\u001b[0m\u001b[0;34m)\u001b[0m\u001b[0;34m\u001b[0m\u001b[0;34m\u001b[0m\u001b[0m\n\u001b[0m\u001b[1;32m      2\u001b[0m \u001b[0mtest\u001b[0m\u001b[0;34m.\u001b[0m\u001b[0miloc\u001b[0m\u001b[0;34m[\u001b[0m\u001b[0;36m0\u001b[0m\u001b[0;34m]\u001b[0m\u001b[0;34m\u001b[0m\u001b[0;34m\u001b[0m\u001b[0m\n",
      "\u001b[0;32m~/anaconda3/lib/python3.7/site-packages/tqdm/std.py\u001b[0m in \u001b[0;36minner\u001b[0;34m(df, func, *args, **kwargs)\u001b[0m\n\u001b[1;32m    734\u001b[0m                 \u001b[0;31m# Apply the provided function (in **kwargs)\u001b[0m\u001b[0;34m\u001b[0m\u001b[0;34m\u001b[0m\u001b[0;34m\u001b[0m\u001b[0m\n\u001b[1;32m    735\u001b[0m                 \u001b[0;31m# on the df using our wrapper (which provides bar updating)\u001b[0m\u001b[0;34m\u001b[0m\u001b[0;34m\u001b[0m\u001b[0;34m\u001b[0m\u001b[0m\n\u001b[0;32m--> 736\u001b[0;31m                 \u001b[0mresult\u001b[0m \u001b[0;34m=\u001b[0m \u001b[0mgetattr\u001b[0m\u001b[0;34m(\u001b[0m\u001b[0mdf\u001b[0m\u001b[0;34m,\u001b[0m \u001b[0mdf_function\u001b[0m\u001b[0;34m)\u001b[0m\u001b[0;34m(\u001b[0m\u001b[0mwrapper\u001b[0m\u001b[0;34m,\u001b[0m \u001b[0;34m**\u001b[0m\u001b[0mkwargs\u001b[0m\u001b[0;34m)\u001b[0m\u001b[0;34m\u001b[0m\u001b[0;34m\u001b[0m\u001b[0m\n\u001b[0m\u001b[1;32m    737\u001b[0m \u001b[0;34m\u001b[0m\u001b[0m\n\u001b[1;32m    738\u001b[0m                 \u001b[0;31m# Close bar and return pandas calculation result\u001b[0m\u001b[0;34m\u001b[0m\u001b[0;34m\u001b[0m\u001b[0;34m\u001b[0m\u001b[0m\n",
      "\u001b[0;32m~/anaconda3/lib/python3.7/site-packages/pandas/core/series.py\u001b[0m in \u001b[0;36mapply\u001b[0;34m(self, func, convert_dtype, args, **kwds)\u001b[0m\n\u001b[1;32m   4040\u001b[0m             \u001b[0;32melse\u001b[0m\u001b[0;34m:\u001b[0m\u001b[0;34m\u001b[0m\u001b[0;34m\u001b[0m\u001b[0m\n\u001b[1;32m   4041\u001b[0m                 \u001b[0mvalues\u001b[0m \u001b[0;34m=\u001b[0m \u001b[0mself\u001b[0m\u001b[0;34m.\u001b[0m\u001b[0mastype\u001b[0m\u001b[0;34m(\u001b[0m\u001b[0mobject\u001b[0m\u001b[0;34m)\u001b[0m\u001b[0;34m.\u001b[0m\u001b[0mvalues\u001b[0m\u001b[0;34m\u001b[0m\u001b[0;34m\u001b[0m\u001b[0m\n\u001b[0;32m-> 4042\u001b[0;31m                 \u001b[0mmapped\u001b[0m \u001b[0;34m=\u001b[0m \u001b[0mlib\u001b[0m\u001b[0;34m.\u001b[0m\u001b[0mmap_infer\u001b[0m\u001b[0;34m(\u001b[0m\u001b[0mvalues\u001b[0m\u001b[0;34m,\u001b[0m \u001b[0mf\u001b[0m\u001b[0;34m,\u001b[0m \u001b[0mconvert\u001b[0m\u001b[0;34m=\u001b[0m\u001b[0mconvert_dtype\u001b[0m\u001b[0;34m)\u001b[0m\u001b[0;34m\u001b[0m\u001b[0;34m\u001b[0m\u001b[0m\n\u001b[0m\u001b[1;32m   4043\u001b[0m \u001b[0;34m\u001b[0m\u001b[0m\n\u001b[1;32m   4044\u001b[0m         \u001b[0;32mif\u001b[0m \u001b[0mlen\u001b[0m\u001b[0;34m(\u001b[0m\u001b[0mmapped\u001b[0m\u001b[0;34m)\u001b[0m \u001b[0;32mand\u001b[0m \u001b[0misinstance\u001b[0m\u001b[0;34m(\u001b[0m\u001b[0mmapped\u001b[0m\u001b[0;34m[\u001b[0m\u001b[0;36m0\u001b[0m\u001b[0;34m]\u001b[0m\u001b[0;34m,\u001b[0m \u001b[0mSeries\u001b[0m\u001b[0;34m)\u001b[0m\u001b[0;34m:\u001b[0m\u001b[0;34m\u001b[0m\u001b[0;34m\u001b[0m\u001b[0m\n",
      "\u001b[0;32mpandas/_libs/lib.pyx\u001b[0m in \u001b[0;36mpandas._libs.lib.map_infer\u001b[0;34m()\u001b[0m\n",
      "\u001b[0;32m~/anaconda3/lib/python3.7/site-packages/tqdm/std.py\u001b[0m in \u001b[0;36mwrapper\u001b[0;34m(*args, **kwargs)\u001b[0m\n\u001b[1;32m    730\u001b[0m                     \u001b[0;31m# take a fast or slow code path; so stop when t.total==t.n\u001b[0m\u001b[0;34m\u001b[0m\u001b[0;34m\u001b[0m\u001b[0;34m\u001b[0m\u001b[0m\n\u001b[1;32m    731\u001b[0m                     \u001b[0mt\u001b[0m\u001b[0;34m.\u001b[0m\u001b[0mupdate\u001b[0m\u001b[0;34m(\u001b[0m\u001b[0mn\u001b[0m\u001b[0;34m=\u001b[0m\u001b[0;36m1\u001b[0m \u001b[0;32mif\u001b[0m \u001b[0;32mnot\u001b[0m \u001b[0mt\u001b[0m\u001b[0;34m.\u001b[0m\u001b[0mtotal\u001b[0m \u001b[0;32mor\u001b[0m \u001b[0mt\u001b[0m\u001b[0;34m.\u001b[0m\u001b[0mn\u001b[0m \u001b[0;34m<\u001b[0m \u001b[0mt\u001b[0m\u001b[0;34m.\u001b[0m\u001b[0mtotal\u001b[0m \u001b[0;32melse\u001b[0m \u001b[0;36m0\u001b[0m\u001b[0;34m)\u001b[0m\u001b[0;34m\u001b[0m\u001b[0;34m\u001b[0m\u001b[0m\n\u001b[0;32m--> 732\u001b[0;31m                     \u001b[0;32mreturn\u001b[0m \u001b[0mfunc\u001b[0m\u001b[0;34m(\u001b[0m\u001b[0;34m*\u001b[0m\u001b[0margs\u001b[0m\u001b[0;34m,\u001b[0m \u001b[0;34m**\u001b[0m\u001b[0mkwargs\u001b[0m\u001b[0;34m)\u001b[0m\u001b[0;34m\u001b[0m\u001b[0;34m\u001b[0m\u001b[0m\n\u001b[0m\u001b[1;32m    733\u001b[0m \u001b[0;34m\u001b[0m\u001b[0m\n\u001b[1;32m    734\u001b[0m                 \u001b[0;31m# Apply the provided function (in **kwargs)\u001b[0m\u001b[0;34m\u001b[0m\u001b[0;34m\u001b[0m\u001b[0;34m\u001b[0m\u001b[0m\n",
      "\u001b[0;32m<ipython-input-163-03661998734e>\u001b[0m in \u001b[0;36mget_all_status_in_cell\u001b[0;34m(cell)\u001b[0m\n\u001b[1;32m     32\u001b[0m     return [list(filter(None.__ne__,[get_all_status_for_range(split_list[curr_index]) \\\n\u001b[1;32m     33\u001b[0m                                          for curr_index in range(start,stop+1)]))\\\n\u001b[0;32m---> 34\u001b[0;31m                                             for start,stop in get_start_stop_indices(split_list)[-1]]\n\u001b[0m",
      "\u001b[0;32m<ipython-input-163-03661998734e>\u001b[0m in \u001b[0;36m<listcomp>\u001b[0;34m(.0)\u001b[0m\n\u001b[1;32m     32\u001b[0m     return [list(filter(None.__ne__,[get_all_status_for_range(split_list[curr_index]) \\\n\u001b[1;32m     33\u001b[0m                                          for curr_index in range(start,stop+1)]))\\\n\u001b[0;32m---> 34\u001b[0;31m                                             for start,stop in get_start_stop_indices(split_list)[-1]]\n\u001b[0m",
      "\u001b[0;31mTypeError\u001b[0m: cannot unpack non-iterable int object"
     ]
    }
   ],
   "source": [
    "test=rider_busy_raw['updatedat'].progress_apply(get_all_status_in_cell)\n",
    "test.iloc[0]"
   ]
  },
  {
   "cell_type": "code",
   "execution_count": 159,
   "metadata": {},
   "outputs": [],
   "source": [
    "def get_time_difference_before_rider_busy(slice_1):\n",
    "    rider_busy_indices=[i for i,s in enumerate(slice_1) if 'riderBusy' in s ]\n",
    "    return [(slice_1[index][1]-slice_1[index-1][1])/1000 for index in rider_busy_indices]\n",
    "\n",
    "def get_rider_busy_pre_times(status_list_cell):\n",
    "    list_times=[get_time_difference_before_rider_busy(slice_1) for slice_1 in status_list_cell]\n",
    "    flat_list = [item for sublist in list_times for item in sublist]\n",
    "    return flat_list\n",
    "\n",
    "def get_time_for_each_cell(x):\n",
    "    status_list_cell=get_all_status_in_cell(x)\n",
    "    return get_rider_busy_pre_times(status_list_cell)"
   ]
  },
  {
   "cell_type": "code",
   "execution_count": null,
   "metadata": {},
   "outputs": [],
   "source": []
  },
  {
   "cell_type": "code",
   "execution_count": 132,
   "metadata": {},
   "outputs": [
    {
     "name": "stderr",
     "output_type": "stream",
     "text": [
      "100%|██████████| 149652/149652 [00:06<00:00, 23530.76it/s]\n"
     ]
    }
   ],
   "source": [
    "time_diff=rider_busy_raw['updatedat'].progress_apply(get_time_for_each_cell)"
   ]
  },
  {
   "cell_type": "code",
   "execution_count": 142,
   "metadata": {},
   "outputs": [
    {
     "data": {
      "text/plain": [
       "0         [28.523]\n",
       "1               []\n",
       "2         [27.212]\n",
       "3               []\n",
       "4               []\n",
       "            ...   \n",
       "149647          []\n",
       "149648          []\n",
       "149649          []\n",
       "149650          []\n",
       "149651          []\n",
       "Name: updatedat, Length: 149652, dtype: object"
      ]
     },
     "execution_count": 142,
     "metadata": {},
     "output_type": "execute_result"
    }
   ],
   "source": [
    "time_diff"
   ]
  },
  {
   "cell_type": "code",
   "execution_count": 141,
   "metadata": {},
   "outputs": [
    {
     "data": {
      "text/plain": [
       "pandas.core.series.Series"
      ]
     },
     "execution_count": 141,
     "metadata": {},
     "output_type": "execute_result"
    }
   ],
   "source": [
    "type(time_diff)\n",
    "time_diff_ser=time_diff.apply(pd.Series).stack().reset_index(drop=True)"
   ]
  },
  {
   "cell_type": "code",
   "execution_count": 143,
   "metadata": {},
   "outputs": [
    {
     "data": {
      "text/plain": [
       "0    28.523\n",
       "1    27.212\n",
       "2    25.717\n",
       "3    27.802\n",
       "4    28.071\n",
       "dtype: float64"
      ]
     },
     "execution_count": 143,
     "metadata": {},
     "output_type": "execute_result"
    }
   ],
   "source": [
    "time_diff_ser.head()"
   ]
  },
  {
   "cell_type": "code",
   "execution_count": 153,
   "metadata": {},
   "outputs": [
    {
     "data": {
      "text/plain": [
       "count    73929.000000\n",
       "mean        28.294093\n",
       "std          8.234443\n",
       "min        -88.000000\n",
       "10%         25.000000\n",
       "20%         26.000000\n",
       "30%         26.000000\n",
       "40%         26.000000\n",
       "50%         27.000000\n",
       "60%         27.000000\n",
       "70%         28.000000\n",
       "80%         28.000000\n",
       "90%         29.000000\n",
       "max        168.000000\n",
       "dtype: float64"
      ]
     },
     "execution_count": 153,
     "metadata": {},
     "output_type": "execute_result"
    }
   ],
   "source": [
    "time_diff_ser.astype(int).describe(percentiles=[0.1,0.2,0.3,0.4,0.6,0.7,0.8,0.9])"
   ]
  },
  {
   "cell_type": "code",
   "execution_count": 149,
   "metadata": {},
   "outputs": [
    {
     "data": {
      "text/plain": [
       "<matplotlib.axes._subplots.AxesSubplot at 0x7f4fd643db90>"
      ]
     },
     "execution_count": 149,
     "metadata": {},
     "output_type": "execute_result"
    },
    {
     "data": {
      "image/png": "[encoded data removed]",
      "text/plain": [
       "<Figure size 432x288 with 1 Axes>"
      ]
     },
     "metadata": {
      "image/png": {
       "height": 251,
       "width": 393
      },
      "needs_background": "light"
     },
     "output_type": "display_data"
    }
   ],
   "source": [
    "time_diff_ser.astype(int).value_counts().sort_index().iloc[10:30].plot()"
   ]
  },
  {
   "cell_type": "code",
   "execution_count": 144,
   "metadata": {},
   "outputs": [
    {
     "data": {
      "text/plain": [
       "0         [28.523]\n",
       "1               []\n",
       "2         [27.212]\n",
       "3               []\n",
       "4               []\n",
       "            ...   \n",
       "149647          []\n",
       "149648          []\n",
       "149649          []\n",
       "149650          []\n",
       "149651          []\n",
       "Name: updatedat, Length: 149652, dtype: object"
      ]
     },
     "execution_count": 144,
     "metadata": {},
     "output_type": "execute_result"
    }
   ],
   "source": [
    "time_diff"
   ]
  },
  {
   "cell_type": "code",
   "execution_count": 135,
   "metadata": {},
   "outputs": [
    {
     "name": "stderr",
     "output_type": "stream",
     "text": [
      "/home/ronak/anaconda3/lib/python3.7/site-packages/ipykernel_launcher.py:1: FutureWarning: The signature of `Series.to_csv` was aligned to that of `DataFrame.to_csv`, and argument 'header' will change its default value from False to True: please pass an explicit value to suppress this warning.\n",
      "  \"\"\"Entry point for launching an IPython kernel.\n"
     ]
    }
   ],
   "source": [
    "time_diff_ser.to_csv('time_diff_before_riderBusy.csv',index=False)"
   ]
  },
  {
   "cell_type": "code",
   "execution_count": 139,
   "metadata": {},
   "outputs": [
    {
     "data": {
      "text/plain": [
       "107       4.873\n",
       "3152      0.003\n",
       "6681     11.781\n",
       "16929   -16.348\n",
       "17372    -5.182\n",
       "17373    -5.182\n",
       "17442    -5.161\n",
       "17449    -5.221\n",
       "17471   -15.758\n",
       "17533   -13.534\n",
       "17935    -5.601\n",
       "17939    -5.182\n",
       "17941   -20.397\n",
       "17942   -21.609\n",
       "17956   -59.124\n",
       "17959   -25.675\n",
       "17963    -5.235\n",
       "22784   -22.345\n",
       "22810   -88.097\n",
       "22839   -20.583\n",
       "22864   -22.314\n",
       "22879   -18.863\n",
       "23843   -23.803\n",
       "23880   -15.466\n",
       "23884   -26.560\n",
       "23918   -17.678\n",
       "23943     0.001\n",
       "25634     0.003\n",
       "32502     0.009\n",
       "33422    -5.204\n",
       "49036     0.012\n",
       "58784    -5.337\n",
       "59144    -5.243\n",
       "59280   -13.924\n",
       "59331    -9.937\n",
       "62131    -5.239\n",
       "69076     0.002\n",
       "69079     0.002\n",
       "dtype: float64"
      ]
     },
     "execution_count": 139,
     "metadata": {},
     "output_type": "execute_result"
    }
   ],
   "source": [
    "time_diff_ser[time_diff_ser<25]"
   ]
  },
  {
   "cell_type": "code",
   "execution_count": 122,
   "metadata": {},
   "outputs": [
    {
     "data": {
      "text/plain": [
       "0                  []\n",
       "1                  []\n",
       "2            [28.596]\n",
       "3    [27.492, 26.911]\n",
       "4                  []\n",
       "5            [28.153]\n",
       "6                  []\n",
       "7            [28.687]\n",
       "8                  []\n",
       "9                  []\n",
       "Name: updatedat, dtype: object"
      ]
     },
     "execution_count": 122,
     "metadata": {},
     "output_type": "execute_result"
    }
   ],
   "source": [
    "time_diff"
   ]
  },
  {
   "cell_type": "code",
   "execution_count": null,
   "metadata": {},
   "outputs": [],
   "source": [
    "### get time before status riderbusy\n"
   ]
  },
  {
   "cell_type": "code",
   "execution_count": null,
   "metadata": {},
   "outputs": [],
   "source": [
    "def get_all_riderBusy_index(split_list):\n",
    "    rider_rejected_string=\"'status': 'riderRejected'\"\n",
    "    all_rr_index=[i for i, s in enumerate(split_list) if rider_rejected_string in s]\n",
    "    return all_rr_index\n"
   ]
  }
 ],
 "metadata": {
  "kernelspec": {
   "display_name": "Python 3",
   "language": "python",
   "name": "python3"
  },
  "language_info": {
   "codemirror_mode": {
    "name": "ipython",
    "version": 3
   },
   "file_extension": ".py",
   "mimetype": "text/x-python",
   "name": "python",
   "nbconvert_exporter": "python",
   "pygments_lexer": "ipython3",
   "version": "3.7.4"
  }
 },
 "nbformat": 4,
 "nbformat_minor": 2
}
