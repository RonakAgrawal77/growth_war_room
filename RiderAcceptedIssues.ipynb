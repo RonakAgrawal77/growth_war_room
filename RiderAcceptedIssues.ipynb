{
 "cells": [
  {
   "cell_type": "code",
   "execution_count": 1,
   "metadata": {},
   "outputs": [
    {
     "name": "stderr",
     "output_type": "stream",
     "text": [
      "/home/ronak/anaconda3/envs/customer_v1/lib/python3.7/site-packages/tqdm/std.py:658: FutureWarning: The Panel class is removed from pandas. Accessing it from the top-level namespace will also be removed in the next version\n",
      "  from pandas import Panel\n"
     ]
    }
   ],
   "source": [
    "from IPython.core.interactiveshell import InteractiveShell\n",
    "InteractiveShell.ast_node_interactivity = \"all\"\n",
    "import pandas as pd\n",
    "import seaborn as sns\n",
    "sns.set()\n",
    "import pandas as pd\n",
    "import gc\n",
    "gc.collect()\n",
    "%matplotlib inline\n",
    "import matplotlib.pyplot as plt\n",
    "from IPython.display import set_matplotlib_formats\n",
    "set_matplotlib_formats('retina')\n",
    "from tqdm import tqdm\n",
    "\n",
    "from pyhive import presto\n",
    "import requests\n",
    "from requests.auth import HTTPBasicAuth\n",
    "import pandas as pd\n",
    "requests.packages.urllib3.disable_warnings()\n",
    "import matplotlib.pyplot as plt\n",
    "import datetime as dt\n",
    "import numpy as np\n",
    "import gc\n",
    "gc.collect()\n",
    "gc.collect()\n",
    "\n",
    "tqdm.pandas()"
   ]
  },
  {
   "cell_type": "code",
   "execution_count": 15,
   "metadata": {},
   "outputs": [],
   "source": [
    "tqdm.pandas()\n",
    "def download_data(city,date,data_file):\n",
    "    conn = presto.connect(\n",
    "        host='10.160.0.62',\n",
    "        port=8060,\n",
    "        protocol='http',\n",
    "        catalog='hive',\n",
    "        schema='mongodb',\n",
    "        username='ronak',\n",
    "        # requests_kwargs=req_kw,\n",
    "    )\n",
    "    order_date_query_test = \"\"\"Select updatedAt,customer,status,orderdate,serviceobj_city,spdfraud_flag\n",
    "    from hive.mongodb.orders \n",
    "    where (orderdate =  '{date}') and (status ='customerCancelled') and (serviceobj_city='{city}')\n",
    "    \"\"\".format(city=city,date=date)\n",
    "    df_order_date_test = pd.read_sql(order_date_query_test, conn)\n",
    "    df_order_date_test.to_csv(data_file)\n",
    "\n",
    "#### Cancelled Rider Issues: (new →  (riderBusy,riderRejected)*  → (customerCancelled))\n",
    "\n",
    "def get_status_from_slice(each_slice):\n",
    "    status_index= [i for i, s in enumerate(each_slice.split(',')) if 'status' in s][0]\n",
    "    first_status=each_slice.split(',')[status_index]\n",
    "    request_time=float(extract_epoch_timestamp(each_slice.split(',')[status_index+1]))\n",
    "    return preprocess_status(first_status),request_time\n",
    "def get_all_new_index(split_list):\n",
    "    new_string=\"'status': 'new'\"\n",
    "    all_new_index=[i for i, s in enumerate(split_list) if new_string in s]\n",
    "    return all_new_index\n",
    "def get_all_otw_index(split_list):\n",
    "    new_string=\"'status': 'onTheWay'\"\n",
    "    all_otw_index=[i for i, s in enumerate(split_list) if new_string in s]\n",
    "    return all_otw_index\n",
    "\n",
    "def get_all_riderRejected_index(split_list):\n",
    "    rider_rejected_string=\"'status': 'riderRejected'\"\n",
    "    all_rr_index=[i for i, s in enumerate(split_list) if rider_rejected_string in s]\n",
    "    return all_rr_index\n",
    "\n",
    "def get_all_cancelled_index(split_list):\n",
    "    cancelled_String=\"'status': 'customerCancelled'\"\n",
    "    cancelled_Index=[i for i, s in enumerate(split_list) if cancelled_String in s]\n",
    "    return cancelled_Index\n",
    "\n",
    "import re\n",
    "def extract_epoch_timestamp(a):\n",
    "    m = re.search('[0-9]{3,}.[0-9]{1}', a)\n",
    "    if m:\n",
    "        found = m.group(0)\n",
    "        return found\n",
    "def preprocess_status(x):\n",
    "    return x.replace('\\'',\"\").replace(' ',\"\").replace('status:',\"\")   \n",
    "\n",
    "def get_status_from_slice(each_slice):\n",
    "    status_index= [i for i, s in enumerate(each_slice.split(',')) if 'status' in s][0]\n",
    "    first_status=each_slice.split(',')[status_index]\n",
    "    request_time=float(extract_epoch_timestamp(each_slice.split(',')[status_index+1]))\n",
    "    return preprocess_status(first_status),request_time\n",
    "\n",
    "def get_start_stop_indices(split_list):\n",
    "    new_indices=get_all_new_index(split_list)\n",
    "    cancelled_indices=get_all_cancelled_index(split_list)\n",
    "    new_cancelled_indices=list(zip(new_indices,cancelled_indices))\n",
    "    return new_cancelled_indices\n",
    "def get_non_none_status_for_range(start,stop,split_list):\n",
    "    return list(filter(None.__ne__, [get_all_status_for_range(split_list[curr_index]) for curr_index in range(start,stop+1)]))\n",
    "def get_all_status_for_range(each_slice):\n",
    "     if 'status' in each_slice:\n",
    "        status_index= [i for i, s in enumerate(each_slice.split(',')) if 'status' in s][0]\n",
    "        first_status=each_slice.split(',')[status_index]\n",
    "        request_time=float(extract_epoch_timestamp(each_slice.split(',')[status_index+1]))\n",
    "        return preprocess_status(first_status),request_time\n",
    "\n",
    "def get_if_expected_list(split_list,start_stop):\n",
    "    status_list=get_non_none_status_for_range(*start_stop,split_list)\n",
    "    allowed_status=[\n",
    "        'new',\n",
    "        'riderBusy',\n",
    "        'riderRejected',\n",
    "        'customerCancelled'\n",
    "    ]\n",
    "    filtered_list=[x for x in status_list if x[0] in allowed_status]\n",
    "    return (len(filtered_list)==len(status_list))\n",
    "def get_count_in_cell(cell):\n",
    "    split_list= cell.split('{')\n",
    "    return sum([get_if_expected_list(split_list,start_stop) for start_stop in get_start_stop_indices(split_list)])\n",
    "\n",
    "def drop_unnamed(df):\n",
    "    return df.loc[:, ~df.columns.str.contains('^Unnamed')]\n",
    "\n",
    "def get_cri(data_file):\n",
    "    orders=pd.read_csv(data_file)\n",
    "    orders=drop_unnamed(orders)\n",
    "    orders.head(2)\n",
    "    updated_at_split=orders['updatedAt'].progress_apply(lambda x: x.strip('[]'))\n",
    "    count=updated_at_split.progress_apply(get_count_in_cell).sum()\n",
    "    return count\n",
    "def execute(city,date):\n",
    "    data_file='CRI_{city}_{date}.csv'.format(city=city,date=date)\n",
    "    download_data(city,date,data_file)\n",
    "    count=get_cri(data_file)\n",
    "    from pathlib import Path\n",
    "    Path(data_file+'_'+str(count)).touch()\n",
    "    print('# CancelledRiderIssues- (new →  (riderBusy,riderRejected)*  → (customerCancelled)) = {0} for {1}'.format(count,data_file))"
   ]
  },
  {
   "cell_type": "code",
   "execution_count": 18,
   "metadata": {},
   "outputs": [
    {
     "name": "stderr",
     "output_type": "stream",
     "text": [
      "100%|██████████| 16719/16719 [00:00<00:00, 636414.17it/s]\n",
      "100%|██████████| 16719/16719 [00:00<00:00, 30294.65it/s]\n"
     ]
    },
    {
     "name": "stdout",
     "output_type": "stream",
     "text": [
      "# CancelledRiderIssues- (new →  (riderBusy,riderRejected)*  → (customerCancelled)) = 5070 for CRI_Kolkata_2020-02-03.csv\n"
     ]
    },
    {
     "name": "stderr",
     "output_type": "stream",
     "text": [
      "100%|██████████| 11589/11589 [00:00<00:00, 640047.79it/s]\n",
      "100%|██████████| 11589/11589 [00:00<00:00, 30344.57it/s]"
     ]
    },
    {
     "name": "stdout",
     "output_type": "stream",
     "text": [
      "# CancelledRiderIssues- (new →  (riderBusy,riderRejected)*  → (customerCancelled)) = 3461 for CRI_Delhi_2020-02-03.csv\n"
     ]
    },
    {
     "name": "stderr",
     "output_type": "stream",
     "text": [
      "\n"
     ]
    },
    {
     "data": {
      "text/plain": [
       "[None, None]"
      ]
     },
     "execution_count": 18,
     "metadata": {},
     "output_type": "execute_result"
    }
   ],
   "source": [
    "date_list=['2020-02-03']\n",
    "city_list=['Kolkata','Delhi']\n",
    "[execute(city,date) for city in city_list for date in date_list]"
   ]
  },
  {
   "cell_type": "markdown",
   "metadata": {},
   "source": [
    "#### Get number of expries"
   ]
  },
  {
   "cell_type": "code",
   "execution_count": null,
   "metadata": {},
   "outputs": [],
   "source": []
  }
 ],
 "metadata": {
  "kernelspec": {
   "display_name": "Python 3",
   "language": "python",
   "name": "python3"
  },
  "language_info": {
   "codemirror_mode": {
    "name": "ipython",
    "version": 3
   },
   "file_extension": ".py",
   "mimetype": "text/x-python",
   "name": "python",
   "nbconvert_exporter": "python",
   "pygments_lexer": "ipython3",
   "version": "3.7.6"
  }
 },
 "nbformat": 4,
 "nbformat_minor": 4
}
