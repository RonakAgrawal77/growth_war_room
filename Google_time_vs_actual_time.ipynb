{
 "cells": [
  {
   "cell_type": "code",
   "execution_count": null,
   "metadata": {},
   "outputs": [],
   "source": []
  },
  {
   "cell_type": "code",
   "execution_count": 1,
   "metadata": {},
   "outputs": [
    {
     "name": "stderr",
     "output_type": "stream",
     "text": [
      "/home/ronak/anaconda3/lib/python3.7/site-packages/tqdm/std.py:648: FutureWarning: The Panel class is removed from pandas. Accessing it from the top-level namespace will also be removed in the next version\n",
      "  from pandas import Panel\n"
     ]
    }
   ],
   "source": [
    "from IPython.core.interactiveshell import InteractiveShell\n",
    "InteractiveShell.ast_node_interactivity = \"all\"\n",
    "import pandas as pd\n",
    "import seaborn as sns\n",
    "sns.set()\n",
    "import pandas as pd\n",
    "import gc\n",
    "gc.collect()\n",
    "%matplotlib inline\n",
    "import matplotlib.pyplot as plt\n",
    "from IPython.display import set_matplotlib_formats\n",
    "set_matplotlib_formats('retina')\n",
    "from tqdm import tqdm\n",
    "\n",
    "from pyhive import presto\n",
    "import requests\n",
    "from requests.auth import HTTPBasicAuth\n",
    "import pandas as pd\n",
    "requests.packages.urllib3.disable_warnings()\n",
    "import matplotlib.pyplot as plt\n",
    "import datetime as dt\n",
    "import numpy as np\n",
    "import gc\n",
    "gc.collect()\n",
    "gc.collect()\n",
    "\n",
    "tqdm.pandas()\n",
    "\n",
    "city='Bangalore'\n",
    "start_date='2020-01-27'\n",
    "end_date='2020-02-09' \n",
    "\n",
    "data_file='time_v1_{city}_{start_date}_{end_date}.csv'.format(city=city,start_date=start_date,end_date=end_date)\n",
    "\n",
    "tqdm.pandas()\n",
    "def download_data(city,start_date,end_date,data_file):\n",
    "    conn = presto.connect(\n",
    "        host='10.160.0.62',\n",
    "        port=8060,\n",
    "        protocol='http',\n",
    "        catalog='hive',\n",
    "        schema='mongodb',\n",
    "        username='ronak',\n",
    "        # requests_kwargs=req_kw,\n",
    "    )\n",
    "    order_date_query_test = \"\"\"Select _id as orderid,subtotal,allpaths,ridetime,services,status,serviceobj_city as city,orderdate from mongodb.orders\n",
    "where (status ='dropped') and  (serviceobj_city='{city}') and orderdate BETWEEN '{start_date}' and '{end_date}'\n",
    "\"\"\".format(city=city,start_date=start_date,end_date=end_date)\n",
    "    df_order_date_test = pd.read_sql(order_date_query_test, conn)\n",
    "    df_order_date_test.to_csv(data_file)\n",
    "\n",
    "\n",
    "download_data(city,start_date,end_date,data_file)"
   ]
  },
  {
   "cell_type": "code",
   "execution_count": 96,
   "metadata": {},
   "outputs": [],
   "source": [
    "city='Bangalore'\n",
    "start_date='2020-01-27'\n",
    "end_date='2020-02-09' \n",
    "\n",
    "data_file='time_v1_{city}_{start_date}_{end_date}.csv'.format(city=city,start_date=start_date,end_date=end_date)\n"
   ]
  },
  {
   "cell_type": "code",
   "execution_count": 109,
   "metadata": {},
   "outputs": [],
   "source": [
    "orders=pd.read_csv(data_file)"
   ]
  },
  {
   "cell_type": "code",
   "execution_count": 110,
   "metadata": {},
   "outputs": [
    {
     "data": {
      "text/plain": [
       "(842713, 9)"
      ]
     },
     "execution_count": 110,
     "metadata": {},
     "output_type": "execute_result"
    }
   ],
   "source": [
    "orders.shape"
   ]
  },
  {
   "cell_type": "code",
   "execution_count": 111,
   "metadata": {},
   "outputs": [
    {
     "name": "stderr",
     "output_type": "stream",
     "text": [
      "100%|██████████| 842713/842713 [00:02<00:00, 349360.47it/s]\n"
     ]
    },
    {
     "data": {
      "text/html": [
       "<div>\n",
       "<style scoped>\n",
       "    .dataframe tbody tr th:only-of-type {\n",
       "        vertical-align: middle;\n",
       "    }\n",
       "\n",
       "    .dataframe tbody tr th {\n",
       "        vertical-align: top;\n",
       "    }\n",
       "\n",
       "    .dataframe thead th {\n",
       "        text-align: right;\n",
       "    }\n",
       "</style>\n",
       "<table border=\"1\" class=\"dataframe\">\n",
       "  <thead>\n",
       "    <tr style=\"text-align: right;\">\n",
       "      <th></th>\n",
       "      <th>orderid</th>\n",
       "      <th>subtotal</th>\n",
       "      <th>allpaths</th>\n",
       "      <th>ridetime</th>\n",
       "      <th>services</th>\n",
       "      <th>status</th>\n",
       "      <th>city</th>\n",
       "      <th>orderdate</th>\n",
       "      <th>g_time_secs</th>\n",
       "      <th>ride_time_secs</th>\n",
       "    </tr>\n",
       "  </thead>\n",
       "  <tbody>\n",
       "    <tr>\n",
       "      <td>0</td>\n",
       "      <td>5e3d830ce42ea84f6cae80ac</td>\n",
       "      <td>69.0</td>\n",
       "      <td>[{'distance': 7486.3, 'time': 1300.7, 'polylin...</td>\n",
       "      <td>27.002133</td>\n",
       "      <td>[{'serviceId': '574013f14fdf4798208bba26', 'mi...</td>\n",
       "      <td>dropped</td>\n",
       "      <td>Hyderabad</td>\n",
       "      <td>2020-02-07</td>\n",
       "      <td>1300</td>\n",
       "      <td>1620</td>\n",
       "    </tr>\n",
       "    <tr>\n",
       "      <td>3</td>\n",
       "      <td>5e3d83106735ce3fc330c260</td>\n",
       "      <td>33.0</td>\n",
       "      <td>[{'distance': 3292.7, 'time': 577.5, 'polyline...</td>\n",
       "      <td>13.105033</td>\n",
       "      <td>[{'serviceId': '574013f14fdf4798208bba26', 'mi...</td>\n",
       "      <td>dropped</td>\n",
       "      <td>Hyderabad</td>\n",
       "      <td>2020-02-07</td>\n",
       "      <td>577</td>\n",
       "      <td>786</td>\n",
       "    </tr>\n",
       "    <tr>\n",
       "      <td>4</td>\n",
       "      <td>5e3d831167be1d6954656d91</td>\n",
       "      <td>38.0</td>\n",
       "      <td>[{'distance': 3556, 'time': 792, 'polyline': '...</td>\n",
       "      <td>11.784833</td>\n",
       "      <td>[{'serviceId': '574013f14fdf4798208bba26', 'mi...</td>\n",
       "      <td>dropped</td>\n",
       "      <td>Hyderabad</td>\n",
       "      <td>2020-02-07</td>\n",
       "      <td>792</td>\n",
       "      <td>707</td>\n",
       "    </tr>\n",
       "    <tr>\n",
       "      <td>5</td>\n",
       "      <td>5e3d83126735ce3fc330c263</td>\n",
       "      <td>32.0</td>\n",
       "      <td>[{'distance': 3010, 'time': 578, 'polyline': '...</td>\n",
       "      <td>6.767350</td>\n",
       "      <td>[{'serviceId': '574013f14fdf4798208bba26', 'mi...</td>\n",
       "      <td>dropped</td>\n",
       "      <td>Hyderabad</td>\n",
       "      <td>2020-02-07</td>\n",
       "      <td>578</td>\n",
       "      <td>406</td>\n",
       "    </tr>\n",
       "    <tr>\n",
       "      <td>6</td>\n",
       "      <td>5e3d83136c2b60097fdcc861</td>\n",
       "      <td>44.0</td>\n",
       "      <td>[{'distance': 4598, 'time': 917, 'polyline': '...</td>\n",
       "      <td>10.948667</td>\n",
       "      <td>[{'serviceId': '574013f14fdf4798208bba26', 'mi...</td>\n",
       "      <td>dropped</td>\n",
       "      <td>Hyderabad</td>\n",
       "      <td>2020-02-07</td>\n",
       "      <td>917</td>\n",
       "      <td>656</td>\n",
       "    </tr>\n",
       "  </tbody>\n",
       "</table>\n",
       "</div>"
      ],
      "text/plain": [
       "                    orderid  subtotal  \\\n",
       "0  5e3d830ce42ea84f6cae80ac      69.0   \n",
       "3  5e3d83106735ce3fc330c260      33.0   \n",
       "4  5e3d831167be1d6954656d91      38.0   \n",
       "5  5e3d83126735ce3fc330c263      32.0   \n",
       "6  5e3d83136c2b60097fdcc861      44.0   \n",
       "\n",
       "                                            allpaths   ridetime  \\\n",
       "0  [{'distance': 7486.3, 'time': 1300.7, 'polylin...  27.002133   \n",
       "3  [{'distance': 3292.7, 'time': 577.5, 'polyline...  13.105033   \n",
       "4  [{'distance': 3556, 'time': 792, 'polyline': '...  11.784833   \n",
       "5  [{'distance': 3010, 'time': 578, 'polyline': '...   6.767350   \n",
       "6  [{'distance': 4598, 'time': 917, 'polyline': '...  10.948667   \n",
       "\n",
       "                                            services   status       city  \\\n",
       "0  [{'serviceId': '574013f14fdf4798208bba26', 'mi...  dropped  Hyderabad   \n",
       "3  [{'serviceId': '574013f14fdf4798208bba26', 'mi...  dropped  Hyderabad   \n",
       "4  [{'serviceId': '574013f14fdf4798208bba26', 'mi...  dropped  Hyderabad   \n",
       "5  [{'serviceId': '574013f14fdf4798208bba26', 'mi...  dropped  Hyderabad   \n",
       "6  [{'serviceId': '574013f14fdf4798208bba26', 'mi...  dropped  Hyderabad   \n",
       "\n",
       "    orderdate  g_time_secs  ride_time_secs  \n",
       "0  2020-02-07         1300            1620  \n",
       "3  2020-02-07          577             786  \n",
       "4  2020-02-07          792             707  \n",
       "5  2020-02-07          578             406  \n",
       "6  2020-02-07          917             656  "
      ]
     },
     "execution_count": 111,
     "metadata": {},
     "output_type": "execute_result"
    }
   ],
   "source": [
    "orders=pd.read_csv(data_file)\n",
    "def drop_unnamed(df):\n",
    "    return df.loc[:, ~df.columns.str.contains('^Unnamed')]\n",
    "orders=drop_unnamed(orders)\n",
    "\n",
    "import re\n",
    "def get_time_from_allpaths(test_str):\n",
    "    m =re.search('\\'time\\': [0-9]*', test_str)\n",
    "    if m:\n",
    "        found = m.group(0)\n",
    "        return [int(s) for s in found.split() if s.isdigit()][0]\n",
    "orders.loc[:,'g_time_secs']=orders.allpaths.progress_apply(get_time_from_allpaths)\n",
    "orders.dropna(subset=['g_time_secs'],inplace=True)\n",
    "orders['g_time_secs']=orders['g_time_secs'].astype(int)\n",
    "orders.loc[:,'ride_time_secs']=(orders['ridetime']*60).astype(int)\n",
    "orders.head()\n",
    "orders.loc[:,'diff_abs']=abs(orders['g_time_secs']-orders['ride_time_secs'])\n"
   ]
  },
  {
   "cell_type": "code",
   "execution_count": 112,
   "metadata": {},
   "outputs": [
    {
     "data": {
      "text/plain": [
       "(582929, 11)"
      ]
     },
     "execution_count": 112,
     "metadata": {},
     "output_type": "execute_result"
    }
   ],
   "source": [
    "orders.shape"
   ]
  },
  {
   "cell_type": "code",
   "execution_count": 100,
   "metadata": {},
   "outputs": [
    {
     "name": "stdout",
     "output_type": "stream",
     "text": [
      "==================Bangalore : Diff in G_Time and Actual Time==============\n"
     ]
    },
    {
     "data": {
      "text/plain": [
       "count    475143.000000\n",
       "mean        294.464951\n",
       "std         453.026274\n",
       "min           0.000000\n",
       "20%          66.000000\n",
       "30%         102.000000\n",
       "40%         141.000000\n",
       "50%         185.000000\n",
       "60%         238.000000\n",
       "70%         309.000000\n",
       "80%         416.000000\n",
       "90%         634.000000\n",
       "95%         920.000000\n",
       "98%        1414.160000\n",
       "max       73557.000000\n",
       "Name: diff_abs, dtype: float64"
      ]
     },
     "execution_count": 100,
     "metadata": {},
     "output_type": "execute_result"
    },
    {
     "data": {
      "text/plain": [
       "Text(0.5, 1.0, 'Bangalore: # of orders on y, diff in g_time, actual time on x')"
      ]
     },
     "execution_count": 100,
     "metadata": {},
     "output_type": "execute_result"
    },
    {
     "data": {
      "image/png": "[encoded data removed]",
      "text/plain": [
       "<Figure size 432x288 with 1 Axes>"
      ]
     },
     "metadata": {
      "image/png": {
       "height": 283,
       "width": 405
      },
      "needs_background": "light"
     },
     "output_type": "display_data"
    }
   ],
   "source": [
    "print('==================Bangalore : Diff in G_Time and Actual Time==============')\n",
    "orders.diff_abs.describe(percentiles=[0.2,0.3,0.4,0.5,0.6,0.7,0.8,0.9,0.95,0.98])\n",
    "\n",
    "sns.distplot(orders[orders.diff_abs<726]['diff_abs'], hist=True, kde=False, color = 'blue',\n",
    "             hist_kws={'edgecolor':'black'}).set_title('Bangalore: # of orders on y, diff in g_time, actual time on x')"
   ]
  },
  {
   "cell_type": "markdown",
   "metadata": {},
   "source": [
    "#### Hyderabad"
   ]
  },
  {
   "cell_type": "code",
   "execution_count": 102,
   "metadata": {},
   "outputs": [],
   "source": [
    "city='Hyderabad'\n",
    "start_date='2020-01-27'\n",
    "end_date='2020-02-09' \n",
    "\n",
    "data_file='time_v1_{city}_{start_date}_{end_date}.csv'.format(city=city,start_date=start_date,end_date=end_date)\n"
   ]
  },
  {
   "cell_type": "code",
   "execution_count": 103,
   "metadata": {},
   "outputs": [
    {
     "name": "stderr",
     "output_type": "stream",
     "text": [
      "100%|██████████| 842713/842713 [00:02<00:00, 348225.83it/s]\n"
     ]
    },
    {
     "data": {
      "text/html": [
       "<div>\n",
       "<style scoped>\n",
       "    .dataframe tbody tr th:only-of-type {\n",
       "        vertical-align: middle;\n",
       "    }\n",
       "\n",
       "    .dataframe tbody tr th {\n",
       "        vertical-align: top;\n",
       "    }\n",
       "\n",
       "    .dataframe thead th {\n",
       "        text-align: right;\n",
       "    }\n",
       "</style>\n",
       "<table border=\"1\" class=\"dataframe\">\n",
       "  <thead>\n",
       "    <tr style=\"text-align: right;\">\n",
       "      <th></th>\n",
       "      <th>orderid</th>\n",
       "      <th>subtotal</th>\n",
       "      <th>allpaths</th>\n",
       "      <th>ridetime</th>\n",
       "      <th>services</th>\n",
       "      <th>status</th>\n",
       "      <th>city</th>\n",
       "      <th>orderdate</th>\n",
       "      <th>g_time_secs</th>\n",
       "      <th>ride_time_secs</th>\n",
       "    </tr>\n",
       "  </thead>\n",
       "  <tbody>\n",
       "    <tr>\n",
       "      <td>0</td>\n",
       "      <td>5e3d830ce42ea84f6cae80ac</td>\n",
       "      <td>69.0</td>\n",
       "      <td>[{'distance': 7486.3, 'time': 1300.7, 'polylin...</td>\n",
       "      <td>27.002133</td>\n",
       "      <td>[{'serviceId': '574013f14fdf4798208bba26', 'mi...</td>\n",
       "      <td>dropped</td>\n",
       "      <td>Hyderabad</td>\n",
       "      <td>2020-02-07</td>\n",
       "      <td>1300</td>\n",
       "      <td>1620</td>\n",
       "    </tr>\n",
       "    <tr>\n",
       "      <td>3</td>\n",
       "      <td>5e3d83106735ce3fc330c260</td>\n",
       "      <td>33.0</td>\n",
       "      <td>[{'distance': 3292.7, 'time': 577.5, 'polyline...</td>\n",
       "      <td>13.105033</td>\n",
       "      <td>[{'serviceId': '574013f14fdf4798208bba26', 'mi...</td>\n",
       "      <td>dropped</td>\n",
       "      <td>Hyderabad</td>\n",
       "      <td>2020-02-07</td>\n",
       "      <td>577</td>\n",
       "      <td>786</td>\n",
       "    </tr>\n",
       "    <tr>\n",
       "      <td>4</td>\n",
       "      <td>5e3d831167be1d6954656d91</td>\n",
       "      <td>38.0</td>\n",
       "      <td>[{'distance': 3556, 'time': 792, 'polyline': '...</td>\n",
       "      <td>11.784833</td>\n",
       "      <td>[{'serviceId': '574013f14fdf4798208bba26', 'mi...</td>\n",
       "      <td>dropped</td>\n",
       "      <td>Hyderabad</td>\n",
       "      <td>2020-02-07</td>\n",
       "      <td>792</td>\n",
       "      <td>707</td>\n",
       "    </tr>\n",
       "    <tr>\n",
       "      <td>5</td>\n",
       "      <td>5e3d83126735ce3fc330c263</td>\n",
       "      <td>32.0</td>\n",
       "      <td>[{'distance': 3010, 'time': 578, 'polyline': '...</td>\n",
       "      <td>6.767350</td>\n",
       "      <td>[{'serviceId': '574013f14fdf4798208bba26', 'mi...</td>\n",
       "      <td>dropped</td>\n",
       "      <td>Hyderabad</td>\n",
       "      <td>2020-02-07</td>\n",
       "      <td>578</td>\n",
       "      <td>406</td>\n",
       "    </tr>\n",
       "    <tr>\n",
       "      <td>6</td>\n",
       "      <td>5e3d83136c2b60097fdcc861</td>\n",
       "      <td>44.0</td>\n",
       "      <td>[{'distance': 4598, 'time': 917, 'polyline': '...</td>\n",
       "      <td>10.948667</td>\n",
       "      <td>[{'serviceId': '574013f14fdf4798208bba26', 'mi...</td>\n",
       "      <td>dropped</td>\n",
       "      <td>Hyderabad</td>\n",
       "      <td>2020-02-07</td>\n",
       "      <td>917</td>\n",
       "      <td>656</td>\n",
       "    </tr>\n",
       "  </tbody>\n",
       "</table>\n",
       "</div>"
      ],
      "text/plain": [
       "                    orderid  subtotal  \\\n",
       "0  5e3d830ce42ea84f6cae80ac      69.0   \n",
       "3  5e3d83106735ce3fc330c260      33.0   \n",
       "4  5e3d831167be1d6954656d91      38.0   \n",
       "5  5e3d83126735ce3fc330c263      32.0   \n",
       "6  5e3d83136c2b60097fdcc861      44.0   \n",
       "\n",
       "                                            allpaths   ridetime  \\\n",
       "0  [{'distance': 7486.3, 'time': 1300.7, 'polylin...  27.002133   \n",
       "3  [{'distance': 3292.7, 'time': 577.5, 'polyline...  13.105033   \n",
       "4  [{'distance': 3556, 'time': 792, 'polyline': '...  11.784833   \n",
       "5  [{'distance': 3010, 'time': 578, 'polyline': '...   6.767350   \n",
       "6  [{'distance': 4598, 'time': 917, 'polyline': '...  10.948667   \n",
       "\n",
       "                                            services   status       city  \\\n",
       "0  [{'serviceId': '574013f14fdf4798208bba26', 'mi...  dropped  Hyderabad   \n",
       "3  [{'serviceId': '574013f14fdf4798208bba26', 'mi...  dropped  Hyderabad   \n",
       "4  [{'serviceId': '574013f14fdf4798208bba26', 'mi...  dropped  Hyderabad   \n",
       "5  [{'serviceId': '574013f14fdf4798208bba26', 'mi...  dropped  Hyderabad   \n",
       "6  [{'serviceId': '574013f14fdf4798208bba26', 'mi...  dropped  Hyderabad   \n",
       "\n",
       "    orderdate  g_time_secs  ride_time_secs  \n",
       "0  2020-02-07         1300            1620  \n",
       "3  2020-02-07          577             786  \n",
       "4  2020-02-07          792             707  \n",
       "5  2020-02-07          578             406  \n",
       "6  2020-02-07          917             656  "
      ]
     },
     "execution_count": 103,
     "metadata": {},
     "output_type": "execute_result"
    }
   ],
   "source": [
    "orders=pd.read_csv(data_file)\n",
    "def drop_unnamed(df):\n",
    "    return df.loc[:, ~df.columns.str.contains('^Unnamed')]\n",
    "orders=drop_unnamed(orders)\n",
    "\n",
    "import re\n",
    "def get_time_from_allpaths(test_str):\n",
    "    m =re.search('\\'time\\': [0-9]*', test_str)\n",
    "    if m:\n",
    "        found = m.group(0)\n",
    "        return [int(s) for s in found.split() if s.isdigit()][0]\n",
    "orders.loc[:,'g_time_secs']=orders.allpaths.progress_apply(get_time_from_allpaths)\n",
    "orders.dropna(subset=['g_time_secs'],inplace=True)\n",
    "orders['g_time_secs']=orders['g_time_secs'].astype(int)\n",
    "orders.loc[:,'ride_time_secs']=(orders['ridetime']*60).astype(int)\n",
    "orders.head()\n",
    "orders.loc[:,'diff_abs']=abs(orders['g_time_secs']-orders['ride_time_secs'])"
   ]
  },
  {
   "cell_type": "code",
   "execution_count": 108,
   "metadata": {},
   "outputs": [
    {
     "name": "stdout",
     "output_type": "stream",
     "text": [
      "============Hyderabad: Diff in G_Time and Actual Time=============\n"
     ]
    },
    {
     "data": {
      "text/plain": [
       "count    582929.000000\n",
       "mean        250.925818\n",
       "std         419.801301\n",
       "min           0.000000\n",
       "20%          61.000000\n",
       "30%          93.000000\n",
       "40%         128.000000\n",
       "50%         167.000000\n",
       "60%         213.000000\n",
       "70%         273.000000\n",
       "80%         359.000000\n",
       "90%         524.000000\n",
       "95%         726.000000\n",
       "98%        1090.000000\n",
       "max       74773.000000\n",
       "Name: diff_abs, dtype: float64"
      ]
     },
     "execution_count": 108,
     "metadata": {},
     "output_type": "execute_result"
    }
   ],
   "source": [
    "print('============Hyderabad: Diff in G_Time and Actual Time=============')\n",
    "orders.diff_abs.describe(percentiles=[0.2,0.3,0.4,0.5,0.6,0.7,0.8,0.9,0.95,0.98])"
   ]
  },
  {
   "cell_type": "code",
   "execution_count": 107,
   "metadata": {},
   "outputs": [
    {
     "data": {
      "text/plain": [
       "Text(0.5, 1.0, 'Hyderabad: # of orders on y, diff in g_time, actual time on x')"
      ]
     },
     "execution_count": 107,
     "metadata": {},
     "output_type": "execute_result"
    },
    {
     "data": {
      "image/png": "[encoded data removed]",
      "text/plain": [
       "<Figure size 432x288 with 1 Axes>"
      ]
     },
     "metadata": {
      "image/png": {
       "height": 283,
       "width": 407
      },
      "needs_background": "light"
     },
     "output_type": "display_data"
    }
   ],
   "source": [
    "sns.distplot(orders[orders.diff_abs<726]['diff_abs'], hist=True, kde=False, color = 'blue',\n",
    "             hist_kws={'edgecolor':'black'}).set_title('Hyderabad: # of orders on y, diff in g_time, actual time on x')"
   ]
  },
  {
   "cell_type": "code",
   "execution_count": null,
   "metadata": {},
   "outputs": [],
   "source": []
  },
  {
   "cell_type": "code",
   "execution_count": 82,
   "metadata": {},
   "outputs": [],
   "source": [
    "diff_time=orders.diff_abs.value_counts().sort_index().reset_index().rename(columns={'index':'diff_in_secs','diff_abs':'# of orders'})"
   ]
  },
  {
   "cell_type": "code",
   "execution_count": 83,
   "metadata": {},
   "outputs": [
    {
     "data": {
      "text/html": [
       "<div>\n",
       "<style scoped>\n",
       "    .dataframe tbody tr th:only-of-type {\n",
       "        vertical-align: middle;\n",
       "    }\n",
       "\n",
       "    .dataframe tbody tr th {\n",
       "        vertical-align: top;\n",
       "    }\n",
       "\n",
       "    .dataframe thead th {\n",
       "        text-align: right;\n",
       "    }\n",
       "</style>\n",
       "<table border=\"1\" class=\"dataframe\">\n",
       "  <thead>\n",
       "    <tr style=\"text-align: right;\">\n",
       "      <th></th>\n",
       "      <th>diff_in_secs</th>\n",
       "      <th># of orders</th>\n",
       "    </tr>\n",
       "  </thead>\n",
       "  <tbody>\n",
       "    <tr>\n",
       "      <td>0</td>\n",
       "      <td>0</td>\n",
       "      <td>1015</td>\n",
       "    </tr>\n",
       "    <tr>\n",
       "      <td>1</td>\n",
       "      <td>1</td>\n",
       "      <td>1978</td>\n",
       "    </tr>\n",
       "    <tr>\n",
       "      <td>2</td>\n",
       "      <td>2</td>\n",
       "      <td>1923</td>\n",
       "    </tr>\n",
       "    <tr>\n",
       "      <td>3</td>\n",
       "      <td>3</td>\n",
       "      <td>1861</td>\n",
       "    </tr>\n",
       "    <tr>\n",
       "      <td>4</td>\n",
       "      <td>4</td>\n",
       "      <td>1936</td>\n",
       "    </tr>\n",
       "  </tbody>\n",
       "</table>\n",
       "</div>"
      ],
      "text/plain": [
       "   diff_in_secs  # of orders\n",
       "0             0         1015\n",
       "1             1         1978\n",
       "2             2         1923\n",
       "3             3         1861\n",
       "4             4         1936"
      ]
     },
     "execution_count": 83,
     "metadata": {},
     "output_type": "execute_result"
    }
   ],
   "source": [
    "diff_time.head()"
   ]
  },
  {
   "cell_type": "code",
   "execution_count": 84,
   "metadata": {},
   "outputs": [
    {
     "data": {
      "text/plain": [
       "<matplotlib.axes._subplots.AxesSubplot at 0x7f8d79de9590>"
      ]
     },
     "execution_count": 84,
     "metadata": {},
     "output_type": "execute_result"
    },
    {
     "data": {
      "image/png": "[encoded data removed]",
      "text/plain": [
       "<Figure size 432x288 with 1 Axes>"
      ]
     },
     "metadata": {
      "image/png": {
       "height": 267,
       "width": 402
      },
      "needs_background": "light"
     },
     "output_type": "display_data"
    }
   ],
   "source": [
    "sns.lineplot(x='diff_in_secs',y='# of orders',data=diff_time)"
   ]
  },
  {
   "cell_type": "code",
   "execution_count": 39,
   "metadata": {},
   "outputs": [
    {
     "data": {
      "text/plain": [
       "\"[{'distance': 2317, 'time': 303, 'polyline': 'mk`iBkbm~MM@WqAGk@Mm@]cA_@y@Qg@Yq@a@u@q@qBq@gBWmAs@kEEWWu@YuBKcACc@eBEk@CsBG}EOsAEuCMgEKeEM_L]gEGgMYeM]gFO'}]\""
      ]
     },
     "execution_count": 39,
     "metadata": {},
     "output_type": "execute_result"
    },
    {
     "data": {
      "text/plain": [
       "303"
      ]
     },
     "execution_count": 39,
     "metadata": {},
     "output_type": "execute_result"
    }
   ],
   "source": [
    "test_str\n",
    "get_time_from_allpaths(test_str)"
   ]
  },
  {
   "cell_type": "code",
   "execution_count": 40,
   "metadata": {},
   "outputs": [],
   "source": []
  },
  {
   "cell_type": "code",
   "execution_count": null,
   "metadata": {},
   "outputs": [],
   "source": [
    "import re\n",
    "def extract_epoch_timestamp(a):\n",
    "    m = re.search('[0-9]{3,}.[0-9]{1}', a)\n",
    "    if m:\n",
    "        found = m.group(0)\n",
    "        return found\n"
   ]
  }
 ],
 "metadata": {
  "kernelspec": {
   "display_name": "Python 3",
   "language": "python",
   "name": "python3"
  },
  "language_info": {
   "codemirror_mode": {
    "name": "ipython",
    "version": 3
   },
   "file_extension": ".py",
   "mimetype": "text/x-python",
   "name": "python",
   "nbconvert_exporter": "python",
   "pygments_lexer": "ipython3",
   "version": "3.7.4"
  }
 },
 "nbformat": 4,
 "nbformat_minor": 2
}
