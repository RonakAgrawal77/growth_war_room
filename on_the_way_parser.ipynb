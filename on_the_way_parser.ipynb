{
 "cells": [
  {
   "cell_type": "code",
   "execution_count": 2,
   "metadata": {},
   "outputs": [
    {
     "name": "stderr",
     "output_type": "stream",
     "text": [
      "/home/ronak/anaconda3/envs/customer_v1/lib/python3.7/site-packages/tqdm/std.py:658: FutureWarning: The Panel class is removed from pandas. Accessing it from the top-level namespace will also be removed in the next version\n",
      "  from pandas import Panel\n"
     ]
    }
   ],
   "source": [
    "from IPython.core.interactiveshell import InteractiveShell\n",
    "InteractiveShell.ast_node_interactivity = \"all\"\n",
    "import pandas as pd\n",
    "import seaborn as sns\n",
    "sns.set()\n",
    "import pandas as pd\n",
    "import gc\n",
    "gc.collect()\n",
    "%matplotlib inline\n",
    "import matplotlib.pyplot as plt\n",
    "from IPython.display import set_matplotlib_formats\n",
    "set_matplotlib_formats('retina')\n",
    "from tqdm import tqdm\n",
    "\n",
    "from pyhive import presto\n",
    "import requests\n",
    "from requests.auth import HTTPBasicAuth\n",
    "import pandas as pd\n",
    "requests.packages.urllib3.disable_warnings()\n",
    "import matplotlib.pyplot as plt\n",
    "import datetime as dt\n",
    "import numpy as np\n",
    "import gc\n",
    "gc.collect()\n",
    "gc.collect()\n",
    "import gzip\n",
    "tqdm.pandas()"
   ]
  },
  {
   "cell_type": "code",
   "execution_count": 4,
   "metadata": {},
   "outputs": [],
   "source": [
    "rider_otw_raw_file='1582100338-1582100338-CaptainOrderStatus-onTheWay-20200218-0-0.json.gz'"
   ]
  },
  {
   "cell_type": "code",
   "execution_count": 5,
   "metadata": {},
   "outputs": [],
   "source": [
    "def parse_time(x):\n",
    "    return  datetime.strptime(str(x), '%Y%m%d%H%M%S')\n",
    "\n",
    "with gzip.open(rider_otw_raw_file) as f:\n",
    "    rider_otw_raw=pd.read_json(rider_otw_raw_file,lines=True)"
   ]
  },
  {
   "cell_type": "code",
   "execution_count": 6,
   "metadata": {},
   "outputs": [
    {
     "data": {
      "text/html": [
       "<div>\n",
       "<style scoped>\n",
       "    .dataframe tbody tr th:only-of-type {\n",
       "        vertical-align: middle;\n",
       "    }\n",
       "\n",
       "    .dataframe tbody tr th {\n",
       "        vertical-align: top;\n",
       "    }\n",
       "\n",
       "    .dataframe thead th {\n",
       "        text-align: right;\n",
       "    }\n",
       "</style>\n",
       "<table border=\"1\" class=\"dataframe\">\n",
       "  <thead>\n",
       "    <tr style=\"text-align: right;\">\n",
       "      <th></th>\n",
       "      <th>eventName</th>\n",
       "      <th>ts</th>\n",
       "      <th>eventProps</th>\n",
       "      <th>profile</th>\n",
       "      <th>deviceInfo</th>\n",
       "    </tr>\n",
       "  </thead>\n",
       "  <tbody>\n",
       "    <tr>\n",
       "      <th>0</th>\n",
       "      <td>CaptainOrderStatus-onTheWay</td>\n",
       "      <td>20200218000002</td>\n",
       "      <td>{'city': 'Ludhiana', 'pickupClusters': 'DMC', ...</td>\n",
       "      <td>{'all_identities': ['5e2b0f65257046721c75b267'...</td>\n",
       "      <td>{'osVersion': '7.1.1', 'sdkVersion': '30601', ...</td>\n",
       "    </tr>\n",
       "    <tr>\n",
       "      <th>1</th>\n",
       "      <td>CaptainOrderStatus-onTheWay</td>\n",
       "      <td>20200218000053</td>\n",
       "      <td>{'city': 'Madurai', 'pickupClusters': '', 'dro...</td>\n",
       "      <td>{'all_identities': ['5de4e66dac56a62ec5e544b8'...</td>\n",
       "      <td>{'osVersion': '8.0.0', 'sdkVersion': '30601', ...</td>\n",
       "    </tr>\n",
       "    <tr>\n",
       "      <th>2</th>\n",
       "      <td>CaptainOrderStatus-onTheWay</td>\n",
       "      <td>20200218000100</td>\n",
       "      <td>{'city': 'Guntur', 'pickupClusters': 'Arundelp...</td>\n",
       "      <td>{'all_identities': ['5c4f4b78976854537ab13937'...</td>\n",
       "      <td>{'osVersion': '9', 'sdkVersion': '30601', 'mak...</td>\n",
       "    </tr>\n",
       "    <tr>\n",
       "      <th>3</th>\n",
       "      <td>CaptainOrderStatus-onTheWay</td>\n",
       "      <td>20200218000103</td>\n",
       "      <td>{'city': 'Kolkata', 'pickupClusters': 'Beniapu...</td>\n",
       "      <td>{'all_identities': ['5cc996a94fd5d569a7137323'...</td>\n",
       "      <td>{'osVersion': '9', 'sdkVersion': '30601', 'mak...</td>\n",
       "    </tr>\n",
       "    <tr>\n",
       "      <th>4</th>\n",
       "      <td>CaptainOrderStatus-onTheWay</td>\n",
       "      <td>20200218000111</td>\n",
       "      <td>{'city': 'Bangalore', 'pickupClusters': 'Basav...</td>\n",
       "      <td>{'all_identities': ['5d676d9e3576981183974005'...</td>\n",
       "      <td>{'osVersion': '8.1.0', 'sdkVersion': '30601', ...</td>\n",
       "    </tr>\n",
       "  </tbody>\n",
       "</table>\n",
       "</div>"
      ],
      "text/plain": [
       "                     eventName              ts  \\\n",
       "0  CaptainOrderStatus-onTheWay  20200218000002   \n",
       "1  CaptainOrderStatus-onTheWay  20200218000053   \n",
       "2  CaptainOrderStatus-onTheWay  20200218000100   \n",
       "3  CaptainOrderStatus-onTheWay  20200218000103   \n",
       "4  CaptainOrderStatus-onTheWay  20200218000111   \n",
       "\n",
       "                                          eventProps  \\\n",
       "0  {'city': 'Ludhiana', 'pickupClusters': 'DMC', ...   \n",
       "1  {'city': 'Madurai', 'pickupClusters': '', 'dro...   \n",
       "2  {'city': 'Guntur', 'pickupClusters': 'Arundelp...   \n",
       "3  {'city': 'Kolkata', 'pickupClusters': 'Beniapu...   \n",
       "4  {'city': 'Bangalore', 'pickupClusters': 'Basav...   \n",
       "\n",
       "                                             profile  \\\n",
       "0  {'all_identities': ['5e2b0f65257046721c75b267'...   \n",
       "1  {'all_identities': ['5de4e66dac56a62ec5e544b8'...   \n",
       "2  {'all_identities': ['5c4f4b78976854537ab13937'...   \n",
       "3  {'all_identities': ['5cc996a94fd5d569a7137323'...   \n",
       "4  {'all_identities': ['5d676d9e3576981183974005'...   \n",
       "\n",
       "                                          deviceInfo  \n",
       "0  {'osVersion': '7.1.1', 'sdkVersion': '30601', ...  \n",
       "1  {'osVersion': '8.0.0', 'sdkVersion': '30601', ...  \n",
       "2  {'osVersion': '9', 'sdkVersion': '30601', 'mak...  \n",
       "3  {'osVersion': '9', 'sdkVersion': '30601', 'mak...  \n",
       "4  {'osVersion': '8.1.0', 'sdkVersion': '30601', ...  "
      ]
     },
     "execution_count": 6,
     "metadata": {},
     "output_type": "execute_result"
    },
    {
     "data": {
      "text/plain": [
       "{'city': 'Guntur',\n",
       " 'pickupClusters': 'Arundelpet',\n",
       " 'dropClusters': '',\n",
       " 'paymentType': 'cash',\n",
       " 'orderType': 'app',\n",
       " 'clientId': 'self',\n",
       " 'showOtp': 'true',\n",
       " 'CT Source': 'API',\n",
       " 'estimateAmount': 0,\n",
       " 'lat': 16.300024,\n",
       " 'lng': 80.44376,\n",
       " 'identity': '5c4f4b78976854537ab13937',\n",
       " 'serviceType': '5c4317d8487a78564f91f4c7',\n",
       " 'orderId': '5e4adbd69a773437e4b7a901',\n",
       " 'timeBucket': '00:00-00:30',\n",
       " 'orderDate': '2020-02-18',\n",
       " 'otp': '0976'}"
      ]
     },
     "execution_count": 6,
     "metadata": {},
     "output_type": "execute_result"
    },
    {
     "data": {
      "text/plain": [
       "{'all_identities': ['5c4f4b78976854537ab13937',\n",
       "  'knmrao84@gmail.com',\n",
       "  '5ca5c0ab54bc7263ff268a7b'],\n",
       " 'identity': '5c4f4b78976854537ab13937,5ca5c0ab54bc7263ff268a7b',\n",
       " 'platform': 'Android',\n",
       " 'phone': 919491195812,\n",
       " 'name': 'KOTA NAGAMALLESWARARAO',\n",
       " 'email': 'knmrao84@gmail.com',\n",
       " 'push_token': 'fcm:coh4PjogKCo:APA91bF1fEK3hB1HPXus9iGtUw_tp5pwaPdk4t5FAkGhM3v3SpBUipdaLZPL1BVVlNCeYdIgRjkOQKtDbKRYz7Cv4_XlW49PNiGcwzKvsRDF7a1z3Uk95aA6TzgTKjYiCameLgZKC7qD'}"
      ]
     },
     "execution_count": 6,
     "metadata": {},
     "output_type": "execute_result"
    },
    {
     "data": {
      "text/plain": [
       "{'osVersion': '9',\n",
       " 'sdkVersion': '30601',\n",
       " 'make': 'vivo',\n",
       " 'model': 'Others',\n",
       " 'appVersion': '3.10.5',\n",
       " 'browser': 'MobileApp',\n",
       " 'dpi': 480,\n",
       " 'dimensions': {'width': 69, 'height': 142, 'unit': 'mm'}}"
      ]
     },
     "execution_count": 6,
     "metadata": {},
     "output_type": "execute_result"
    }
   ],
   "source": [
    "rider_otw_raw.head()\n",
    "rider_otw_raw.eventProps.iloc[2]\n",
    "rider_otw_raw.profile.iloc[2]\n",
    "rider_otw_raw.deviceInfo.iloc[2]"
   ]
  },
  {
   "cell_type": "code",
   "execution_count": 7,
   "metadata": {},
   "outputs": [
    {
     "name": "stderr",
     "output_type": "stream",
     "text": [
      "100%|██████████| 599455/599455 [00:07<00:00, 84294.44it/s]\n",
      "100%|██████████| 599455/599455 [00:02<00:00, 260454.50it/s]\n",
      "100%|██████████| 599455/599455 [00:01<00:00, 324526.36it/s]\n",
      "100%|██████████| 599455/599455 [00:01<00:00, 321279.84it/s]\n"
     ]
    },
    {
     "data": {
      "text/html": [
       "<div>\n",
       "<style scoped>\n",
       "    .dataframe tbody tr th:only-of-type {\n",
       "        vertical-align: middle;\n",
       "    }\n",
       "\n",
       "    .dataframe tbody tr th {\n",
       "        vertical-align: top;\n",
       "    }\n",
       "\n",
       "    .dataframe thead th {\n",
       "        text-align: right;\n",
       "    }\n",
       "</style>\n",
       "<table border=\"1\" class=\"dataframe\">\n",
       "  <thead>\n",
       "    <tr style=\"text-align: right;\">\n",
       "      <th></th>\n",
       "      <th>eventName</th>\n",
       "      <th>ts</th>\n",
       "      <th>eventProps</th>\n",
       "      <th>profile</th>\n",
       "      <th>deviceInfo</th>\n",
       "      <th>time</th>\n",
       "      <th>order_id</th>\n",
       "      <th>captain_id</th>\n",
       "      <th>app_version</th>\n",
       "    </tr>\n",
       "  </thead>\n",
       "  <tbody>\n",
       "    <tr>\n",
       "      <th>0</th>\n",
       "      <td>CaptainOrderStatus-onTheWay</td>\n",
       "      <td>20200218000002</td>\n",
       "      <td>{'city': 'Ludhiana', 'pickupClusters': 'DMC', ...</td>\n",
       "      <td>{'all_identities': ['5e2b0f65257046721c75b267'...</td>\n",
       "      <td>{'osVersion': '7.1.1', 'sdkVersion': '30601', ...</td>\n",
       "      <td>2020-02-18 00:00:02</td>\n",
       "      <td>5e4ad582865d9017b53de2dd</td>\n",
       "      <td>5e2b0f65257046721c75b267</td>\n",
       "      <td>3.10.5</td>\n",
       "    </tr>\n",
       "    <tr>\n",
       "      <th>1</th>\n",
       "      <td>CaptainOrderStatus-onTheWay</td>\n",
       "      <td>20200218000053</td>\n",
       "      <td>{'city': 'Madurai', 'pickupClusters': '', 'dro...</td>\n",
       "      <td>{'all_identities': ['5de4e66dac56a62ec5e544b8'...</td>\n",
       "      <td>{'osVersion': '8.0.0', 'sdkVersion': '30601', ...</td>\n",
       "      <td>2020-02-18 00:00:53</td>\n",
       "      <td>5e4adbd89a773437e4b7a902</td>\n",
       "      <td>5de4e66dac56a62ec5e544b8</td>\n",
       "      <td>3.10.5</td>\n",
       "    </tr>\n",
       "  </tbody>\n",
       "</table>\n",
       "</div>"
      ],
      "text/plain": [
       "                     eventName              ts  \\\n",
       "0  CaptainOrderStatus-onTheWay  20200218000002   \n",
       "1  CaptainOrderStatus-onTheWay  20200218000053   \n",
       "\n",
       "                                          eventProps  \\\n",
       "0  {'city': 'Ludhiana', 'pickupClusters': 'DMC', ...   \n",
       "1  {'city': 'Madurai', 'pickupClusters': '', 'dro...   \n",
       "\n",
       "                                             profile  \\\n",
       "0  {'all_identities': ['5e2b0f65257046721c75b267'...   \n",
       "1  {'all_identities': ['5de4e66dac56a62ec5e544b8'...   \n",
       "\n",
       "                                          deviceInfo                time  \\\n",
       "0  {'osVersion': '7.1.1', 'sdkVersion': '30601', ... 2020-02-18 00:00:02   \n",
       "1  {'osVersion': '8.0.0', 'sdkVersion': '30601', ... 2020-02-18 00:00:53   \n",
       "\n",
       "                   order_id                captain_id app_version  \n",
       "0  5e4ad582865d9017b53de2dd  5e2b0f65257046721c75b267      3.10.5  \n",
       "1  5e4adbd89a773437e4b7a902  5de4e66dac56a62ec5e544b8      3.10.5  "
      ]
     },
     "execution_count": 7,
     "metadata": {},
     "output_type": "execute_result"
    }
   ],
   "source": [
    "from datetime import datetime\n",
    "def parse_rider_otw_rendered(file_name):\n",
    "    def get_property_value_for_col(df,source_column,target_column,property_key):\n",
    "        def get_property(payload,property_key):\n",
    "            try:\n",
    "                identity_index=[i for i, s in enumerate(payload) if property_key in s][0]\n",
    "            except:\n",
    "                return None\n",
    "            value=list(payload.values())[identity_index]\n",
    "            return value\n",
    "        df.loc[:,target_column]=df[source_column].progress_apply(lambda x: get_property(x,property_key))\n",
    "        return df\n",
    "    def parse_time(x):\n",
    "        return  datetime.strptime(str(x), '%Y%m%d%H%M%S')\n",
    "\n",
    "    with gzip.open(rider_otw_raw_file) as f:\n",
    "        rider_otw_raw=pd.read_json(rider_otw_raw_file,lines=True)\n",
    "\n",
    "    rider_otw_raw['time']=rider_otw_raw['ts'].progress_apply(parse_time)\n",
    "    source_column='eventProps'\n",
    "    target_column='order_id'\n",
    "    property_key='orderId'\n",
    "\n",
    "    rider_otw_raw=get_property_value_for_col(rider_otw_raw,source_column,target_column,property_key)\n",
    "    source_column='profile'\n",
    "    target_column='captain_id'\n",
    "    property_key='identity'\n",
    "    rider_otw_raw=get_property_value_for_col(rider_otw_raw,source_column,target_column,property_key)\n",
    "    \n",
    "    source_column='deviceInfo'\n",
    "    target_column='app_version'\n",
    "    property_key='appVersion'\n",
    "    rider_otw_raw=get_property_value_for_col(rider_otw_raw,source_column,target_column,property_key)\n",
    "\n",
    "    return rider_otw_raw\n",
    "\n",
    "rider_otw=parse_rider_otw_rendered(rider_otw_raw_file)\n",
    "\n",
    "\n",
    "rider_otw.head(2)"
   ]
  },
  {
   "cell_type": "code",
   "execution_count": 10,
   "metadata": {},
   "outputs": [],
   "source": [
    "rider_otw[['eventName','time','order_id','captain_id','app_version']].to_csv('rider_otw_20200218.csv',index=False)"
   ]
  },
  {
   "cell_type": "code",
   "execution_count": null,
   "metadata": {},
   "outputs": [],
   "source": []
  }
 ],
 "metadata": {
  "kernelspec": {
   "display_name": "Python 3",
   "language": "python",
   "name": "python3"
  },
  "language_info": {
   "codemirror_mode": {
    "name": "ipython",
    "version": 3
   },
   "file_extension": ".py",
   "mimetype": "text/x-python",
   "name": "python",
   "nbconvert_exporter": "python",
   "pygments_lexer": "ipython3",
   "version": "3.7.6"
  }
 },
 "nbformat": 4,
 "nbformat_minor": 4
}
